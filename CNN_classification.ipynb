{
 "cells": [
  {
   "cell_type": "markdown",
   "id": "wired-renewal",
   "metadata": {},
   "source": [
    "# INTRO"
   ]
  },
  {
   "cell_type": "markdown",
   "id": "refined-investor",
   "metadata": {},
   "source": [
    "### General\n",
    "\n",
    "Let's start by importing **various useful** libraries in one go. \n",
    "We also check the versions of keras and tensorflow he have in our disposal (because we can).\n",
    "If more libraries become needed later on, come back to the cell below and add them here."
   ]
  },
  {
   "cell_type": "code",
   "execution_count": 5,
   "id": "tight-warning",
   "metadata": {},
   "outputs": [
    {
     "name": "stdout",
     "output_type": "stream",
     "text": [
      "2.4.0\n",
      "2.4.1\n"
     ]
    }
   ],
   "source": [
    "import tensorflow\n",
    "from tensorflow import keras\n",
    "from tensorflow.keras import layers\n",
    "from tensorflow.keras import models\n",
    "from tensorflow.keras import optimizers\n",
    "from tensorflow.keras.preprocessing.image import ImageDataGenerator\n",
    "from tensorflow.keras.preprocessing import image\n",
    "import numpy as np\n",
    "import os, shutil\n",
    "from shutil import copyfile\n",
    "import random\n",
    "import matplotlib.pyplot as plt\n",
    "from tensorflow.keras.models import load_model\n",
    "\n",
    "print(keras.__version__)\n",
    "print(tensorflow.__version__)"
   ]
  },
  {
   "cell_type": "markdown",
   "id": "soviet-browse",
   "metadata": {},
   "source": [
    "# DATA\n",
    "\n",
    "\n",
    "We will use an existing dataset, dowloaded from kaggle (https://www.kaggle.com/alxmamaev/flowers-recognition)\n",
    "\n"
   ]
  },
  {
   "cell_type": "code",
   "execution_count": 14,
   "id": "forced-relaxation",
   "metadata": {},
   "outputs": [],
   "source": [
    "classification_data_path='/mnt/ceph/home/r1111683/data/flower_classification_data'\n",
    "if not os.path.exists(classification_data_path):\n",
    "  os.mkdir(classification_data_path)\n",
    "\n",
    "datasets=['train','validation','test']\n",
    "classes=['daisy','dandelion','rose','sunflower','tulip']\n",
    "\n",
    "\n",
    "for dtype in datasets:\n",
    "  for i in classes:\n",
    "    directory=str(i)\n",
    "    path1='/mnt/ceph/home/r1111683/data/flower_classification_data'\n",
    "    path2=dtype\n",
    "    path3=os.path.join(path1,path2)\n",
    "    if not os.path.exists(path3):\n",
    "      os.mkdir(path3)\n",
    "    path=os.path.join(path3,directory)\n",
    "    if not os.path.exists(path):\n",
    "      os.mkdir(path)      "
   ]
  },
  {
   "cell_type": "code",
   "execution_count": 16,
   "id": "serious-collaboration",
   "metadata": {},
   "outputs": [],
   "source": [
    "# function for splitting the data into train, validation, and test data (after shuffling them) and populating the directoyr structure created above\n",
    "\n",
    "def pop_dirs(SOURCE, TRAINING, VALIDATION, TEST, SPLIT_SIZE):\n",
    "    files = []\n",
    "    for filename in os.listdir(SOURCE):\n",
    "        file = SOURCE + filename\n",
    "        if os.path.getsize(file) > 0:\n",
    "            files.append(filename)\n",
    "        else:\n",
    "            print(filename + \" is zero length, so ignoring.\")\n",
    "\n",
    "    training_length = int(len(files) * SPLIT_SIZE)\n",
    "    validation_length = int((len(files) - training_length)/10.0)\n",
    "    test_length = validation_length\n",
    "    shuffled_set = random.sample(files, len(files))\n",
    "    training_set = shuffled_set[0:training_length]\n",
    "    validation_set = shuffled_set[training_length:training_length+validation_length]\n",
    "    test_set = shuffled_set[training_length+validation_length:training_length+validation_length+test_length]\n",
    "\n",
    "    for filename in training_set:\n",
    "        this_file = SOURCE + filename\n",
    "        destination = TRAINING + filename\n",
    "        copyfile(this_file, destination)\n",
    "        #os.remove(this_file)\n",
    "\n",
    "    for filename in validation_set:\n",
    "        this_file = SOURCE + filename\n",
    "        destination = VALIDATION + filename\n",
    "        copyfile(this_file, destination)\n",
    "        #os.remove(this_file)\n",
    "\n",
    "    for filename in test_set:\n",
    "        this_file = SOURCE + filename\n",
    "        destination = TEST + filename\n",
    "        copyfile(this_file, destination)\n",
    "        #os.remove(this_file)\n",
    "\n",
    "\n"
   ]
  },
  {
   "cell_type": "code",
   "execution_count": 17,
   "id": "according-upset",
   "metadata": {},
   "outputs": [
    {
     "name": "stdout",
     "output_type": "stream",
     "text": [
      "/mnt/ceph/home/r1111683/data/flowers/daisy/\n",
      "/mnt/ceph/home/r1111683/data/flowers/dandelion/\n",
      "/mnt/ceph/home/r1111683/data/flowers/rose/\n",
      "/mnt/ceph/home/r1111683/data/flowers/sunflower/\n",
      "/mnt/ceph/home/r1111683/data/flowers/tulip/\n"
     ]
    }
   ],
   "source": [
    "# the actual copying of files from the 'data' folder into the local labeled folder structure \n",
    "\n",
    "j=0\n",
    "split_size = .35\n",
    "classes=['daisy','dandelion','rose','sunflower','tulip']\n",
    "\n",
    "for i in classes:\n",
    "  #dest_directory=str(dest_classes[j])+'AA'\n",
    "  src_dir = \"/mnt/ceph/home/r1111683/data/flowers\"\n",
    "  src_path=os.path.join(src_dir,i)+'/'\n",
    "  \n",
    "  training_dir = \"/mnt/ceph/home/r1111683/data/flower_classification_data/train\"\n",
    "  train_path=os.path.join(training_dir,i)+'/'\n",
    "  \n",
    "  validation_dir = \"/mnt/ceph/home/r1111683/data/flower_classification_data/validation\"\n",
    "  validation_path=os.path.join(validation_dir,i)+'/'\n",
    "\n",
    "  test_dir = \"/mnt/ceph/home/r1111683/data/flower_classification_data/test\"\n",
    "  test_path=os.path.join(test_dir,i)+'/'\n",
    "\n",
    "  pop_dirs(src_path, train_path, validation_path, test_path, split_size)\n",
    "\n",
    "  \n",
    "  print(src_path)\n",
    "  j+=1\n"
   ]
  },
  {
   "cell_type": "code",
   "execution_count": 18,
   "id": "working-moderator",
   "metadata": {},
   "outputs": [
    {
     "name": "stdout",
     "output_type": "stream",
     "text": [
      "number of train images in daisy : 256\n",
      "number of train images in dandelion : 256\n",
      "number of train images in rose : 256\n",
      "number of train images in sunflower : 256\n",
      "number of train images in tulip : 256\n",
      "number of validation images in daisy : 47\n",
      "number of validation images in dandelion : 47\n",
      "number of validation images in rose : 47\n",
      "number of validation images in sunflower : 47\n",
      "number of validation images in tulip : 47\n",
      "number of test images in daisy : 47\n",
      "number of test images in dandelion : 47\n",
      "number of test images in rose : 47\n",
      "number of test images in sunflower : 47\n",
      "number of test images in tulip : 47\n"
     ]
    }
   ],
   "source": [
    "datasets=['train','validation','test']\n",
    "classes=['daisy','dandelion','rose','sunflower','tulip']\n",
    "\n",
    "for dset in datasets:\n",
    "  for c in classes:\n",
    "    path=os.path.join('/mnt/ceph/home/r1111683/data/flower_classification_data',dset,c)\n",
    "    print('number of',  dset,  'images in', c,':', len(os.listdir(path)))"
   ]
  },
  {
   "cell_type": "code",
   "execution_count": 159,
   "id": "swedish-range",
   "metadata": {},
   "outputs": [],
   "source": [
    "tensorflow.keras.backend.clear_session()"
   ]
  },
  {
   "cell_type": "code",
   "execution_count": 180,
   "id": "prerequisite-accident",
   "metadata": {},
   "outputs": [],
   "source": [
    "# place needed and updatable parameters in a dictionary for easy access \n",
    "PARAMS = {'lr': 1e-4,\n",
    "          'dropout': 0.8,\n",
    "          'batch_size': 16,\n",
    "          'n_epochs': 50,\n",
    "          'optimizer': 'RMSprop',\n",
    "          'loss': 'categorical_crossentropy',\n",
    "          'metrics': 'acc',\n",
    "          'activations': 'relu, softmax',\n",
    "          'notebook':'/content/drive/My Drive/Colab Notebooks/ML_NIAG.ipynb',\n",
    "          'image_input_shape' : (100,100,3),\n",
    "          'data_description' : 'jpg images, color, 5 classes ',\n",
    "          'dataset size' : 'each one of all 5 classes have: [256 tr], [47 val], [47 te]   ',\n",
    "          'run_name' : 'flower_classification_1',\n",
    "          'save_model' : 'flower_classification_1.h5',\n",
    "          'run env' : 'IDAaaS',\n",
    "          'NOTES' :  'initial images split in 16 images each. pre-processing of images: remove mean and divide by std for each image seperately. No division with 255',\n",
    "          }"
   ]
  },
  {
   "cell_type": "code",
   "execution_count": 112,
   "id": "incorporate-pipeline",
   "metadata": {},
   "outputs": [],
   "source": [
    "# the model layers\n",
    "\n",
    "model = models.Sequential()\n",
    "model.add(layers.Conv2D(32, (3, 3), activation='relu',\n",
    "                        input_shape=PARAMS['image_input_shape']))\n",
    "model.add(layers.MaxPooling2D((2, 2)))\n",
    "model.add(layers.Conv2D(64, (3, 3), activation='relu'))\n",
    "model.add(layers.MaxPooling2D((2, 2)))\n",
    "model.add(layers.Conv2D(128, (3, 3), activation='relu'))\n",
    "model.add(layers.MaxPooling2D((2, 2)))\n",
    "model.add(layers.Conv2D(256, (3, 3), activation='relu'))\n",
    "model.add(layers.MaxPooling2D((2,2)))\n",
    "model.add(layers.Dropout(0.8))\n",
    "model.add(layers.Flatten())\n",
    "model.add(layers.Dense(128,activation='relu'))\n",
    "model.add(layers.Dense(5, activation='softmax'))"
   ]
  },
  {
   "cell_type": "code",
   "execution_count": 113,
   "id": "minus-letter",
   "metadata": {},
   "outputs": [],
   "source": [
    "# compile model (and choose optimiser )\n",
    "model.compile(loss=PARAMS['loss'],\n",
    "              optimizer=optimizers.RMSprop(lr=PARAMS['lr']),\n",
    "              metrics=[PARAMS['metrics']])"
   ]
  },
  {
   "cell_type": "code",
   "execution_count": 114,
   "id": "forty-arizona",
   "metadata": {},
   "outputs": [
    {
     "name": "stdout",
     "output_type": "stream",
     "text": [
      "Model: \"sequential\"\n",
      "_________________________________________________________________\n",
      "Layer (type)                 Output Shape              Param #   \n",
      "=================================================================\n",
      "conv2d (Conv2D)              (None, 98, 98, 32)        896       \n",
      "_________________________________________________________________\n",
      "max_pooling2d (MaxPooling2D) (None, 49, 49, 32)        0         \n",
      "_________________________________________________________________\n",
      "conv2d_1 (Conv2D)            (None, 47, 47, 64)        18496     \n",
      "_________________________________________________________________\n",
      "max_pooling2d_1 (MaxPooling2 (None, 23, 23, 64)        0         \n",
      "_________________________________________________________________\n",
      "conv2d_2 (Conv2D)            (None, 21, 21, 128)       73856     \n",
      "_________________________________________________________________\n",
      "max_pooling2d_2 (MaxPooling2 (None, 10, 10, 128)       0         \n",
      "_________________________________________________________________\n",
      "conv2d_3 (Conv2D)            (None, 8, 8, 256)         295168    \n",
      "_________________________________________________________________\n",
      "max_pooling2d_3 (MaxPooling2 (None, 4, 4, 256)         0         \n",
      "_________________________________________________________________\n",
      "dropout (Dropout)            (None, 4, 4, 256)         0         \n",
      "_________________________________________________________________\n",
      "flatten (Flatten)            (None, 4096)              0         \n",
      "_________________________________________________________________\n",
      "dense (Dense)                (None, 128)               524416    \n",
      "_________________________________________________________________\n",
      "dense_1 (Dense)              (None, 5)                 645       \n",
      "=================================================================\n",
      "Total params: 913,477\n",
      "Trainable params: 913,477\n",
      "Non-trainable params: 0\n",
      "_________________________________________________________________\n"
     ]
    }
   ],
   "source": [
    "model.summary()"
   ]
  },
  {
   "cell_type": "code",
   "execution_count": 23,
   "id": "union-forth",
   "metadata": {},
   "outputs": [
    {
     "name": "stdout",
     "output_type": "stream",
     "text": [
      "('Failed to import pydot. You must `pip install pydot` and install graphviz (https://graphviz.gitlab.io/download/), ', 'for `pydotprint` to work.')\n"
     ]
    }
   ],
   "source": [
    "# create a graph of the model layers\n",
    "from tensorflow.keras.utils import plot_model\n",
    "plot_model(model, to_file='model.png',show_shapes=True,rankdir='TB',show_layer_names=True)"
   ]
  },
  {
   "cell_type": "code",
   "execution_count": 147,
   "id": "empirical-rebel",
   "metadata": {},
   "outputs": [
    {
     "name": "stdout",
     "output_type": "stream",
     "text": [
      "Found 1278 images belonging to 5 classes.\n",
      "Found 235 images belonging to 5 classes.\n",
      "Found 235 images belonging to 5 classes.\n"
     ]
    }
   ],
   "source": [
    "# NOTE: use color_mode=\"grayscale\" below only when dealing with grayscale images. Otherwise 3 channel images are expected\n",
    "train_datagen = ImageDataGenerator(samplewise_center=True,samplewise_std_normalization=True,horizontal_flip=True,vertical_flip=True)\n",
    "validation_datagen = ImageDataGenerator(samplewise_center=True,samplewise_std_normalization=True)\n",
    "test_datagen = ImageDataGenerator(samplewise_center=True,samplewise_std_normalization=True)\n",
    "#test_datagen = ImageDataGenerator(rescale = 1.0/255.)\n",
    "\n",
    "train = train_datagen.flow_from_directory(\n",
    "        '/mnt/ceph/home/r1111683/data/flower_classification_data/train',\n",
    "        target_size=(100, 100),\n",
    "        batch_size=PARAMS['batch_size'],\n",
    "        class_mode='categorical') \n",
    "\n",
    "validation = validation_datagen.flow_from_directory(\n",
    "        '/mnt/ceph/home/r1111683/data/flower_classification_data/validation',\n",
    "        target_size=(100, 100),\n",
    "        batch_size=PARAMS['batch_size'],\n",
    "        class_mode='categorical')\n",
    "\n",
    "\n",
    "test = test_datagen.flow_from_directory(\n",
    "        '/mnt/ceph/home/r1111683/data/flower_classification_data/test',\n",
    "        target_size=(100, 100),\n",
    "        batch_size=PARAMS['batch_size'],\n",
    "        class_mode='categorical')"
   ]
  },
  {
   "cell_type": "code",
   "execution_count": 148,
   "id": "premier-tribute",
   "metadata": {},
   "outputs": [
    {
     "name": "stdout",
     "output_type": "stream",
     "text": [
      "Image batches have shape: (32, 100, 100, 3)\n",
      "Label batches have shape: (32, 5)\n"
     ]
    }
   ],
   "source": [
    "for images_batch, labels_batch in train:\n",
    "    print('Image batches have shape:', images_batch.shape)\n",
    "    print('Label batches have shape:', labels_batch.shape)\n",
    "    break"
   ]
  },
  {
   "cell_type": "code",
   "execution_count": 117,
   "id": "egyptian-robertson",
   "metadata": {
    "collapsed": true
   },
   "outputs": [
    {
     "name": "stdout",
     "output_type": "stream",
     "text": [
      "Epoch 1/100\n",
      "40/40 [==============================] - 8s 175ms/step - loss: 1.6344 - acc: 0.1910 - val_loss: 1.5654 - val_acc: 0.3660\n",
      "Epoch 2/100\n",
      "40/40 [==============================] - 7s 164ms/step - loss: 1.5633 - acc: 0.2770 - val_loss: 1.5000 - val_acc: 0.4298\n",
      "Epoch 3/100\n",
      "40/40 [==============================] - 7s 161ms/step - loss: 1.5107 - acc: 0.3322 - val_loss: 1.3975 - val_acc: 0.4809\n",
      "Epoch 4/100\n",
      "40/40 [==============================] - 7s 163ms/step - loss: 1.3989 - acc: 0.4215 - val_loss: 1.2919 - val_acc: 0.4894\n",
      "Epoch 5/100\n",
      "40/40 [==============================] - 7s 164ms/step - loss: 1.3358 - acc: 0.4341 - val_loss: 1.2324 - val_acc: 0.5106\n",
      "Epoch 6/100\n",
      "40/40 [==============================] - 7s 162ms/step - loss: 1.2833 - acc: 0.4571 - val_loss: 1.2067 - val_acc: 0.5106\n",
      "Epoch 7/100\n",
      "40/40 [==============================] - 7s 161ms/step - loss: 1.2401 - acc: 0.4668 - val_loss: 1.1943 - val_acc: 0.5106\n",
      "Epoch 8/100\n",
      "40/40 [==============================] - 7s 161ms/step - loss: 1.1790 - acc: 0.4831 - val_loss: 1.1971 - val_acc: 0.5106\n",
      "Epoch 9/100\n",
      "40/40 [==============================] - 6s 161ms/step - loss: 1.2053 - acc: 0.4862 - val_loss: 1.1805 - val_acc: 0.5106\n",
      "Epoch 10/100\n",
      "40/40 [==============================] - 7s 162ms/step - loss: 1.1842 - acc: 0.4768 - val_loss: 1.1654 - val_acc: 0.5532\n",
      "Epoch 11/100\n",
      "40/40 [==============================] - 7s 163ms/step - loss: 1.1542 - acc: 0.5105 - val_loss: 1.1732 - val_acc: 0.5489\n",
      "Epoch 12/100\n",
      "40/40 [==============================] - 7s 166ms/step - loss: 1.1717 - acc: 0.4852 - val_loss: 1.1568 - val_acc: 0.5702\n",
      "Epoch 13/100\n",
      "40/40 [==============================] - 7s 164ms/step - loss: 1.1458 - acc: 0.4998 - val_loss: 1.1597 - val_acc: 0.5447\n",
      "Epoch 14/100\n",
      "40/40 [==============================] - 7s 165ms/step - loss: 1.1580 - acc: 0.4986 - val_loss: 1.1524 - val_acc: 0.5617\n",
      "Epoch 15/100\n",
      "40/40 [==============================] - 7s 162ms/step - loss: 1.1935 - acc: 0.4970 - val_loss: 1.1299 - val_acc: 0.5532\n",
      "Epoch 16/100\n",
      "40/40 [==============================] - 7s 162ms/step - loss: 1.1226 - acc: 0.5265 - val_loss: 1.1268 - val_acc: 0.5787\n",
      "Epoch 17/100\n",
      "40/40 [==============================] - 7s 163ms/step - loss: 1.1435 - acc: 0.5043 - val_loss: 1.1267 - val_acc: 0.6000\n",
      "Epoch 18/100\n",
      "40/40 [==============================] - 7s 163ms/step - loss: 1.1224 - acc: 0.5227 - val_loss: 1.1293 - val_acc: 0.6000\n",
      "Epoch 19/100\n",
      "40/40 [==============================] - 7s 164ms/step - loss: 1.1007 - acc: 0.5299 - val_loss: 1.1203 - val_acc: 0.6000\n",
      "Epoch 20/100\n",
      "40/40 [==============================] - 7s 163ms/step - loss: 1.1228 - acc: 0.5087 - val_loss: 1.1067 - val_acc: 0.5957\n",
      "Epoch 21/100\n",
      "40/40 [==============================] - 7s 165ms/step - loss: 1.0915 - acc: 0.5493 - val_loss: 1.0979 - val_acc: 0.6000\n",
      "Epoch 22/100\n",
      "40/40 [==============================] - 7s 165ms/step - loss: 1.0385 - acc: 0.5686 - val_loss: 1.0839 - val_acc: 0.5830\n",
      "Epoch 23/100\n",
      "40/40 [==============================] - 7s 167ms/step - loss: 1.0713 - acc: 0.5691 - val_loss: 1.0895 - val_acc: 0.6128\n",
      "Epoch 24/100\n",
      "40/40 [==============================] - 7s 162ms/step - loss: 1.0230 - acc: 0.5690 - val_loss: 1.0658 - val_acc: 0.6170\n",
      "Epoch 25/100\n",
      "40/40 [==============================] - 7s 162ms/step - loss: 1.0354 - acc: 0.5808 - val_loss: 1.0581 - val_acc: 0.5787\n",
      "Epoch 26/100\n",
      "40/40 [==============================] - 7s 161ms/step - loss: 1.0471 - acc: 0.5669 - val_loss: 1.0378 - val_acc: 0.6298\n",
      "Epoch 27/100\n",
      "40/40 [==============================] - 7s 161ms/step - loss: 1.0204 - acc: 0.5892 - val_loss: 1.0335 - val_acc: 0.6128\n",
      "Epoch 28/100\n",
      "40/40 [==============================] - 7s 161ms/step - loss: 0.9807 - acc: 0.5893 - val_loss: 1.0308 - val_acc: 0.6213\n",
      "Epoch 29/100\n",
      "40/40 [==============================] - 7s 162ms/step - loss: 0.9890 - acc: 0.5843 - val_loss: 1.0418 - val_acc: 0.6383\n",
      "Epoch 30/100\n",
      "40/40 [==============================] - 7s 162ms/step - loss: 0.9761 - acc: 0.5901 - val_loss: 1.0131 - val_acc: 0.6383\n",
      "Epoch 31/100\n",
      "40/40 [==============================] - 7s 163ms/step - loss: 0.9248 - acc: 0.6326 - val_loss: 1.0173 - val_acc: 0.6383\n",
      "Epoch 32/100\n",
      "40/40 [==============================] - 7s 166ms/step - loss: 0.9641 - acc: 0.6084 - val_loss: 1.0038 - val_acc: 0.6383\n",
      "Epoch 33/100\n",
      "40/40 [==============================] - 7s 166ms/step - loss: 0.9691 - acc: 0.6086 - val_loss: 1.0157 - val_acc: 0.6426\n",
      "Epoch 34/100\n",
      "40/40 [==============================] - 7s 164ms/step - loss: 0.9473 - acc: 0.6237 - val_loss: 0.9989 - val_acc: 0.6511\n",
      "Epoch 35/100\n",
      "40/40 [==============================] - 7s 161ms/step - loss: 0.9451 - acc: 0.6291 - val_loss: 0.9984 - val_acc: 0.6298\n",
      "Epoch 36/100\n",
      "40/40 [==============================] - 6s 161ms/step - loss: 0.9393 - acc: 0.6324 - val_loss: 1.0041 - val_acc: 0.6340\n",
      "Epoch 37/100\n",
      "40/40 [==============================] - 6s 161ms/step - loss: 0.9090 - acc: 0.6297 - val_loss: 0.9828 - val_acc: 0.6723\n",
      "Epoch 38/100\n",
      "40/40 [==============================] - 7s 162ms/step - loss: 0.8915 - acc: 0.6482 - val_loss: 0.9722 - val_acc: 0.6553\n",
      "Epoch 39/100\n",
      "40/40 [==============================] - 7s 161ms/step - loss: 0.9246 - acc: 0.6224 - val_loss: 0.9808 - val_acc: 0.6468\n",
      "Epoch 40/100\n",
      "40/40 [==============================] - 7s 162ms/step - loss: 0.8686 - acc: 0.6452 - val_loss: 0.9704 - val_acc: 0.6596\n",
      "Epoch 41/100\n",
      "40/40 [==============================] - 7s 162ms/step - loss: 0.9143 - acc: 0.6314 - val_loss: 0.9625 - val_acc: 0.6596\n",
      "Epoch 42/100\n",
      "40/40 [==============================] - 7s 165ms/step - loss: 0.8929 - acc: 0.6243 - val_loss: 0.9733 - val_acc: 0.6426\n",
      "Epoch 43/100\n",
      "40/40 [==============================] - 7s 164ms/step - loss: 0.8760 - acc: 0.6631 - val_loss: 0.9746 - val_acc: 0.6638\n",
      "Epoch 44/100\n",
      "40/40 [==============================] - 7s 164ms/step - loss: 0.8617 - acc: 0.6622 - val_loss: 0.9657 - val_acc: 0.6468\n",
      "Epoch 45/100\n",
      "40/40 [==============================] - 7s 165ms/step - loss: 0.8334 - acc: 0.6772 - val_loss: 0.9610 - val_acc: 0.6340\n",
      "Epoch 46/100\n",
      "40/40 [==============================] - 6s 161ms/step - loss: 0.8351 - acc: 0.6842 - val_loss: 1.0090 - val_acc: 0.6511\n",
      "Epoch 47/100\n",
      "40/40 [==============================] - 7s 162ms/step - loss: 0.8631 - acc: 0.6637 - val_loss: 0.9735 - val_acc: 0.6468\n",
      "Epoch 48/100\n",
      "40/40 [==============================] - 7s 162ms/step - loss: 0.8802 - acc: 0.6707 - val_loss: 0.9328 - val_acc: 0.6426\n",
      "Epoch 49/100\n",
      "40/40 [==============================] - 7s 164ms/step - loss: 0.8447 - acc: 0.6723 - val_loss: 0.9754 - val_acc: 0.6298\n",
      "Epoch 50/100\n",
      "40/40 [==============================] - 7s 164ms/step - loss: 0.8332 - acc: 0.6773 - val_loss: 0.9505 - val_acc: 0.6170\n",
      "Epoch 51/100\n",
      "40/40 [==============================] - 7s 164ms/step - loss: 0.8448 - acc: 0.6839 - val_loss: 0.9320 - val_acc: 0.6511\n",
      "Epoch 52/100\n",
      "40/40 [==============================] - 7s 167ms/step - loss: 0.8220 - acc: 0.6855 - val_loss: 0.9298 - val_acc: 0.6596\n",
      "Epoch 53/100\n",
      "40/40 [==============================] - 7s 162ms/step - loss: 0.8641 - acc: 0.6530 - val_loss: 0.9170 - val_acc: 0.6809\n",
      "Epoch 54/100\n",
      "40/40 [==============================] - 7s 165ms/step - loss: 0.8639 - acc: 0.6613 - val_loss: 0.9335 - val_acc: 0.6596\n",
      "Epoch 55/100\n",
      "40/40 [==============================] - 7s 165ms/step - loss: 0.7763 - acc: 0.7038 - val_loss: 0.9207 - val_acc: 0.7064\n",
      "Epoch 56/100\n",
      "40/40 [==============================] - 7s 163ms/step - loss: 0.7887 - acc: 0.6973 - val_loss: 0.9083 - val_acc: 0.6809\n",
      "Epoch 57/100\n",
      "40/40 [==============================] - 7s 162ms/step - loss: 0.8194 - acc: 0.6903 - val_loss: 0.9192 - val_acc: 0.7106\n",
      "Epoch 58/100\n",
      "40/40 [==============================] - 7s 164ms/step - loss: 0.8270 - acc: 0.6787 - val_loss: 0.9182 - val_acc: 0.6766\n",
      "Epoch 59/100\n",
      "40/40 [==============================] - 7s 162ms/step - loss: 0.8144 - acc: 0.7040 - val_loss: 0.9409 - val_acc: 0.6511\n",
      "Epoch 60/100\n",
      "40/40 [==============================] - 7s 163ms/step - loss: 0.8639 - acc: 0.6680 - val_loss: 0.9637 - val_acc: 0.6723\n",
      "Epoch 61/100\n",
      "40/40 [==============================] - 7s 162ms/step - loss: 0.7881 - acc: 0.7062 - val_loss: 0.9015 - val_acc: 0.6511\n",
      "Epoch 62/100\n"
     ]
    },
    {
     "name": "stdout",
     "output_type": "stream",
     "text": [
      "40/40 [==============================] - 6s 161ms/step - loss: 0.7490 - acc: 0.7303 - val_loss: 0.9061 - val_acc: 0.6638\n",
      "Epoch 63/100\n",
      "40/40 [==============================] - 7s 162ms/step - loss: 0.7810 - acc: 0.7030 - val_loss: 0.9067 - val_acc: 0.7149\n",
      "Epoch 64/100\n",
      "40/40 [==============================] - 7s 162ms/step - loss: 0.7578 - acc: 0.7190 - val_loss: 0.9395 - val_acc: 0.6596\n",
      "Epoch 65/100\n",
      "40/40 [==============================] - 7s 164ms/step - loss: 0.7784 - acc: 0.7022 - val_loss: 0.9073 - val_acc: 0.6681\n",
      "Epoch 66/100\n",
      "40/40 [==============================] - 7s 162ms/step - loss: 0.7829 - acc: 0.7066 - val_loss: 0.9333 - val_acc: 0.6851\n",
      "Epoch 67/100\n",
      "40/40 [==============================] - 7s 163ms/step - loss: 0.7604 - acc: 0.7151 - val_loss: 0.9061 - val_acc: 0.6723\n",
      "Epoch 68/100\n",
      "40/40 [==============================] - 6s 161ms/step - loss: 0.7535 - acc: 0.7087 - val_loss: 0.9104 - val_acc: 0.6851\n",
      "Epoch 69/100\n",
      "40/40 [==============================] - 7s 163ms/step - loss: 0.7198 - acc: 0.7139 - val_loss: 0.9295 - val_acc: 0.6638\n",
      "Epoch 70/100\n",
      "40/40 [==============================] - 7s 167ms/step - loss: 0.7527 - acc: 0.7133 - val_loss: 0.8969 - val_acc: 0.7021\n",
      "Epoch 71/100\n",
      "40/40 [==============================] - 7s 162ms/step - loss: 0.7391 - acc: 0.7229 - val_loss: 0.9282 - val_acc: 0.6723\n",
      "Epoch 72/100\n",
      "40/40 [==============================] - 6s 160ms/step - loss: 0.7358 - acc: 0.7106 - val_loss: 0.8874 - val_acc: 0.6766\n",
      "Epoch 73/100\n",
      "40/40 [==============================] - 7s 162ms/step - loss: 0.7398 - acc: 0.7032 - val_loss: 0.9357 - val_acc: 0.6766\n",
      "Epoch 74/100\n",
      "40/40 [==============================] - 7s 163ms/step - loss: 0.7149 - acc: 0.7331 - val_loss: 0.8633 - val_acc: 0.6809\n",
      "Epoch 75/100\n",
      "40/40 [==============================] - 7s 163ms/step - loss: 0.7301 - acc: 0.7100 - val_loss: 0.9378 - val_acc: 0.6723\n",
      "Epoch 76/100\n",
      "40/40 [==============================] - 7s 163ms/step - loss: 0.7032 - acc: 0.7286 - val_loss: 0.9230 - val_acc: 0.6851\n",
      "Epoch 77/100\n",
      "40/40 [==============================] - 7s 162ms/step - loss: 0.7620 - acc: 0.7089 - val_loss: 0.9022 - val_acc: 0.6936\n",
      "Epoch 78/100\n",
      "40/40 [==============================] - 7s 164ms/step - loss: 0.7237 - acc: 0.7264 - val_loss: 0.8587 - val_acc: 0.6894\n",
      "Epoch 79/100\n",
      "40/40 [==============================] - 6s 161ms/step - loss: 0.6957 - acc: 0.7336 - val_loss: 0.8699 - val_acc: 0.6809\n",
      "Epoch 80/100\n",
      "40/40 [==============================] - 7s 162ms/step - loss: 0.6871 - acc: 0.7495 - val_loss: 0.9133 - val_acc: 0.6723\n",
      "Epoch 81/100\n",
      "40/40 [==============================] - 7s 163ms/step - loss: 0.7085 - acc: 0.7355 - val_loss: 0.8682 - val_acc: 0.6936\n",
      "Epoch 82/100\n",
      "40/40 [==============================] - 7s 167ms/step - loss: 0.6981 - acc: 0.7159 - val_loss: 0.8465 - val_acc: 0.6979\n",
      "Epoch 83/100\n",
      "40/40 [==============================] - 7s 163ms/step - loss: 0.6819 - acc: 0.7707 - val_loss: 0.8545 - val_acc: 0.6979\n",
      "Epoch 84/100\n",
      "40/40 [==============================] - 7s 162ms/step - loss: 0.6765 - acc: 0.7442 - val_loss: 0.8900 - val_acc: 0.6723\n",
      "Epoch 85/100\n",
      "40/40 [==============================] - 7s 173ms/step - loss: 0.6951 - acc: 0.7471 - val_loss: 0.8714 - val_acc: 0.6809\n",
      "Epoch 86/100\n",
      "40/40 [==============================] - 7s 164ms/step - loss: 0.6708 - acc: 0.7459 - val_loss: 0.8695 - val_acc: 0.6979\n",
      "Epoch 87/100\n",
      "40/40 [==============================] - 7s 163ms/step - loss: 0.6822 - acc: 0.7452 - val_loss: 0.9013 - val_acc: 0.6468\n",
      "Epoch 88/100\n",
      "40/40 [==============================] - 7s 167ms/step - loss: 0.6983 - acc: 0.7309 - val_loss: 0.8901 - val_acc: 0.6936\n",
      "Epoch 89/100\n",
      "40/40 [==============================] - 7s 165ms/step - loss: 0.6579 - acc: 0.7392 - val_loss: 0.8875 - val_acc: 0.6936\n",
      "Epoch 90/100\n",
      "40/40 [==============================] - 7s 164ms/step - loss: 0.7042 - acc: 0.7361 - val_loss: 0.8667 - val_acc: 0.7021\n",
      "Epoch 91/100\n",
      "40/40 [==============================] - 7s 164ms/step - loss: 0.6402 - acc: 0.7292 - val_loss: 0.8456 - val_acc: 0.7064\n",
      "Epoch 92/100\n",
      "40/40 [==============================] - 7s 163ms/step - loss: 0.6432 - acc: 0.7275 - val_loss: 0.8405 - val_acc: 0.7106\n",
      "Epoch 93/100\n",
      "40/40 [==============================] - 7s 164ms/step - loss: 0.6615 - acc: 0.7515 - val_loss: 0.8489 - val_acc: 0.6979\n",
      "Epoch 94/100\n",
      "40/40 [==============================] - 7s 163ms/step - loss: 0.6285 - acc: 0.7650 - val_loss: 0.8414 - val_acc: 0.7149\n",
      "Epoch 95/100\n",
      "40/40 [==============================] - 7s 163ms/step - loss: 0.6567 - acc: 0.7571 - val_loss: 0.8764 - val_acc: 0.7149\n",
      "Epoch 96/100\n",
      "40/40 [==============================] - 7s 163ms/step - loss: 0.6227 - acc: 0.7602 - val_loss: 0.8450 - val_acc: 0.7149\n",
      "Epoch 97/100\n",
      "40/40 [==============================] - 7s 166ms/step - loss: 0.6639 - acc: 0.7477 - val_loss: 0.8673 - val_acc: 0.6809\n",
      "Epoch 98/100\n",
      "40/40 [==============================] - 7s 163ms/step - loss: 0.6465 - acc: 0.7458 - val_loss: 0.8674 - val_acc: 0.6936\n",
      "Epoch 99/100\n",
      "40/40 [==============================] - 7s 162ms/step - loss: 0.6458 - acc: 0.7652 - val_loss: 0.8714 - val_acc: 0.6638\n",
      "Epoch 100/100\n",
      "40/40 [==============================] - 7s 165ms/step - loss: 0.6224 - acc: 0.7669 - val_loss: 0.8705 - val_acc: 0.6809\n"
     ]
    }
   ],
   "source": [
    "# Fit the model \n",
    "spe=len(train)   # train_size/batch_size\n",
    "epoch_num=PARAMS['n_epochs']\n",
    "val_steps=len(validation)  # validation_size/batch_size\n",
    "\n",
    "\n",
    "history = model.fit(\n",
    "            train,\n",
    "            steps_per_epoch=spe,  \n",
    "            epochs=epoch_num,\n",
    "            validation_data=validation,\n",
    "            validation_steps=val_steps) \n",
    "#model.save(PARAMS['save_model'])\n",
    " \n",
    "\n"
   ]
  },
  {
   "cell_type": "code",
   "execution_count": 118,
   "id": "precious-coaching",
   "metadata": {},
   "outputs": [
    {
     "data": {
      "image/png": "[encoded data removed]",
      "text/plain": [
       "<Figure size 432x288 with 1 Axes>"
      ]
     },
     "metadata": {
      "needs_background": "light"
     },
     "output_type": "display_data"
    },
    {
     "data": {
      "image/png": "[encoded data removed]",
      "text/plain": [
       "<Figure size 432x288 with 1 Axes>"
      ]
     },
     "metadata": {
      "needs_background": "light"
     },
     "output_type": "display_data"
    }
   ],
   "source": [
    "#model = load_model('name_of_model_to_load.h5')\n",
    "epoch_num=PARAMS['n_epochs']\n",
    "acc = history.history['acc']\n",
    "val_acc = history.history['val_acc']\n",
    "\n",
    "plt.plot(range(epoch_num), acc, 'b', label='Training accuracy')\n",
    "plt.plot(range(epoch_num), val_acc, 'g', label='Validation accuracy')\n",
    "plt.title('Training and validation accuracy')\n",
    "plt.legend()\n",
    "\n",
    "\n",
    "loss = history.history['loss']\n",
    "val_loss = history.history['val_loss']\n",
    "\n",
    "plt.figure()\n",
    "plt.plot(range(epoch_num), loss, 'b', label='Training loss')\n",
    "plt.plot(range(epoch_num), val_loss, 'g', label='Validation loss')\n",
    "plt.title('Training and validation loss')\n",
    "plt.legend()\n",
    "\n",
    "\n",
    "plt.show()"
   ]
  },
  {
   "cell_type": "code",
   "execution_count": 119,
   "id": "practical-madagascar",
   "metadata": {},
   "outputs": [
    {
     "name": "stdout",
     "output_type": "stream",
     "text": [
      "8/8 [==============================] - 1s 110ms/step - loss: 0.9054 - acc: 0.6426\n",
      "['loss', 'acc']\n",
      "[0.9054396748542786, 0.6425532102584839]\n",
      "\n",
      "Accuracy =  64.25532102584839 %\n"
     ]
    }
   ],
   "source": [
    "test_score = model.evaluate(test)\n",
    "print(model.metrics_names)\n",
    "print(test_score)\n",
    "print()\n",
    "print(\"Accuracy = \",test_score[1]*100,'%')"
   ]
  },
  {
   "cell_type": "code",
   "execution_count": null,
   "id": "cleared-showcase",
   "metadata": {},
   "outputs": [],
   "source": []
  },
  {
   "cell_type": "code",
   "execution_count": null,
   "id": "stock-opportunity",
   "metadata": {},
   "outputs": [],
   "source": []
  },
  {
   "cell_type": "code",
   "execution_count": 169,
   "id": "manufactured-destruction",
   "metadata": {},
   "outputs": [],
   "source": [
    "tensorflow.keras.backend.clear_session()"
   ]
  },
  {
   "cell_type": "code",
   "execution_count": 170,
   "id": "dynamic-rwanda",
   "metadata": {},
   "outputs": [],
   "source": [
    "from tensorflow.keras.applications import VGG16"
   ]
  },
  {
   "cell_type": "code",
   "execution_count": 171,
   "id": "described-final",
   "metadata": {},
   "outputs": [],
   "source": [
    "pretrained_net = VGG16(input_shape=(100,100,3),include_top=False,weights='imagenet')"
   ]
  },
  {
   "cell_type": "code",
   "execution_count": 172,
   "id": "modified-kentucky",
   "metadata": {},
   "outputs": [
    {
     "name": "stdout",
     "output_type": "stream",
     "text": [
      "19\n",
      "Model: \"vgg16\"\n",
      "_________________________________________________________________\n",
      "Layer (type)                 Output Shape              Param #   \n",
      "=================================================================\n",
      "input_1 (InputLayer)         [(None, 100, 100, 3)]     0         \n",
      "_________________________________________________________________\n",
      "block1_conv1 (Conv2D)        (None, 100, 100, 64)      1792      \n",
      "_________________________________________________________________\n",
      "block1_conv2 (Conv2D)        (None, 100, 100, 64)      36928     \n",
      "_________________________________________________________________\n",
      "block1_pool (MaxPooling2D)   (None, 50, 50, 64)        0         \n",
      "_________________________________________________________________\n",
      "block2_conv1 (Conv2D)        (None, 50, 50, 128)       73856     \n",
      "_________________________________________________________________\n",
      "block2_conv2 (Conv2D)        (None, 50, 50, 128)       147584    \n",
      "_________________________________________________________________\n",
      "block2_pool (MaxPooling2D)   (None, 25, 25, 128)       0         \n",
      "_________________________________________________________________\n",
      "block3_conv1 (Conv2D)        (None, 25, 25, 256)       295168    \n",
      "_________________________________________________________________\n",
      "block3_conv2 (Conv2D)        (None, 25, 25, 256)       590080    \n",
      "_________________________________________________________________\n",
      "block3_conv3 (Conv2D)        (None, 25, 25, 256)       590080    \n",
      "_________________________________________________________________\n",
      "block3_pool (MaxPooling2D)   (None, 12, 12, 256)       0         \n",
      "_________________________________________________________________\n",
      "block4_conv1 (Conv2D)        (None, 12, 12, 512)       1180160   \n",
      "_________________________________________________________________\n",
      "block4_conv2 (Conv2D)        (None, 12, 12, 512)       2359808   \n",
      "_________________________________________________________________\n",
      "block4_conv3 (Conv2D)        (None, 12, 12, 512)       2359808   \n",
      "_________________________________________________________________\n",
      "block4_pool (MaxPooling2D)   (None, 6, 6, 512)         0         \n",
      "_________________________________________________________________\n",
      "block5_conv1 (Conv2D)        (None, 6, 6, 512)         2359808   \n",
      "_________________________________________________________________\n",
      "block5_conv2 (Conv2D)        (None, 6, 6, 512)         2359808   \n",
      "_________________________________________________________________\n",
      "block5_conv3 (Conv2D)        (None, 6, 6, 512)         2359808   \n",
      "_________________________________________________________________\n",
      "block5_pool (MaxPooling2D)   (None, 3, 3, 512)         0         \n",
      "=================================================================\n",
      "Total params: 14,714,688\n",
      "Trainable params: 14,714,688\n",
      "Non-trainable params: 0\n",
      "_________________________________________________________________\n"
     ]
    }
   ],
   "source": [
    "pretrained_net.summary()"
   ]
  },
  {
   "cell_type": "code",
   "execution_count": 173,
   "id": "favorite-serial",
   "metadata": {},
   "outputs": [],
   "source": [
    "for layer in pretrained_net.layers:\n",
    "    layer.trainable=False"
   ]
  },
  {
   "cell_type": "code",
   "execution_count": 174,
   "id": "moving-pound",
   "metadata": {},
   "outputs": [],
   "source": [
    "model = models.Sequential()\n",
    "model.add(pretrained_net)\n",
    "model.add(layers.Flatten())\n",
    "model.add(layers.Dense(5, activation='softmax'))"
   ]
  },
  {
   "cell_type": "code",
   "execution_count": 175,
   "id": "virtual-combat",
   "metadata": {},
   "outputs": [
    {
     "name": "stdout",
     "output_type": "stream",
     "text": [
      "Model: \"sequential\"\n",
      "_________________________________________________________________\n",
      "Layer (type)                 Output Shape              Param #   \n",
      "=================================================================\n",
      "vgg16 (Functional)           (None, 3, 3, 512)         14714688  \n",
      "_________________________________________________________________\n",
      "flatten (Flatten)            (None, 4608)              0         \n",
      "_________________________________________________________________\n",
      "dense (Dense)                (None, 5)                 23045     \n",
      "=================================================================\n",
      "Total params: 14,737,733\n",
      "Trainable params: 23,045\n",
      "Non-trainable params: 14,714,688\n",
      "_________________________________________________________________\n"
     ]
    }
   ],
   "source": [
    "model.summary()"
   ]
  },
  {
   "cell_type": "code",
   "execution_count": 178,
   "id": "palestinian-railway",
   "metadata": {},
   "outputs": [],
   "source": [
    "# compile model (and choose optimiser )\n",
    "model.compile(loss=PARAMS['loss'],\n",
    "              optimizer=optimizers.RMSprop(PARAMS['lr']),\n",
    "              metrics=[PARAMS['metrics']])"
   ]
  },
  {
   "cell_type": "code",
   "execution_count": 181,
   "id": "radio-beach",
   "metadata": {},
   "outputs": [
    {
     "name": "stdout",
     "output_type": "stream",
     "text": [
      "Epoch 1/50\n",
      "40/40 [==============================] - 24s 594ms/step - loss: 1.6931 - acc: 0.2392 - val_loss: 1.4715 - val_acc: 0.3617\n",
      "Epoch 2/50\n",
      "40/40 [==============================] - 23s 587ms/step - loss: 1.3801 - acc: 0.4446 - val_loss: 1.2976 - val_acc: 0.5149\n",
      "Epoch 3/50\n",
      "40/40 [==============================] - 24s 600ms/step - loss: 1.2144 - acc: 0.5567 - val_loss: 1.1692 - val_acc: 0.5957\n",
      "Epoch 4/50\n",
      "40/40 [==============================] - 24s 597ms/step - loss: 1.0740 - acc: 0.6279 - val_loss: 1.0729 - val_acc: 0.6553\n",
      "Epoch 5/50\n",
      "40/40 [==============================] - 23s 588ms/step - loss: 1.0279 - acc: 0.6465 - val_loss: 1.0045 - val_acc: 0.6766\n",
      "Epoch 6/50\n",
      "40/40 [==============================] - 23s 586ms/step - loss: 0.9277 - acc: 0.6874 - val_loss: 0.9547 - val_acc: 0.6809\n",
      "Epoch 7/50\n",
      "40/40 [==============================] - 23s 580ms/step - loss: 0.8730 - acc: 0.7042 - val_loss: 0.9111 - val_acc: 0.6979\n",
      "Epoch 8/50\n",
      "40/40 [==============================] - 23s 574ms/step - loss: 0.8231 - acc: 0.7361 - val_loss: 0.8788 - val_acc: 0.7149\n",
      "Epoch 9/50\n",
      "40/40 [==============================] - 23s 577ms/step - loss: 0.8313 - acc: 0.7019 - val_loss: 0.8537 - val_acc: 0.7234\n",
      "Epoch 10/50\n",
      "40/40 [==============================] - 23s 574ms/step - loss: 0.7601 - acc: 0.7525 - val_loss: 0.8299 - val_acc: 0.7191\n",
      "Epoch 11/50\n",
      "40/40 [==============================] - 23s 574ms/step - loss: 0.7727 - acc: 0.7391 - val_loss: 0.8124 - val_acc: 0.7319\n",
      "Epoch 12/50\n",
      "40/40 [==============================] - 23s 576ms/step - loss: 0.7279 - acc: 0.7559 - val_loss: 0.8003 - val_acc: 0.7319\n",
      "Epoch 13/50\n",
      "40/40 [==============================] - 23s 575ms/step - loss: 0.6953 - acc: 0.7721 - val_loss: 0.7824 - val_acc: 0.7404\n",
      "Epoch 14/50\n",
      "40/40 [==============================] - 23s 576ms/step - loss: 0.6898 - acc: 0.7769 - val_loss: 0.7658 - val_acc: 0.7447\n",
      "Epoch 15/50\n",
      "40/40 [==============================] - 23s 578ms/step - loss: 0.6578 - acc: 0.7846 - val_loss: 0.7613 - val_acc: 0.7447\n",
      "Epoch 16/50\n",
      "40/40 [==============================] - 23s 577ms/step - loss: 0.6343 - acc: 0.8068 - val_loss: 0.7484 - val_acc: 0.7447\n",
      "Epoch 17/50\n",
      "40/40 [==============================] - 23s 578ms/step - loss: 0.6185 - acc: 0.8184 - val_loss: 0.7414 - val_acc: 0.7404\n",
      "Epoch 18/50\n",
      "40/40 [==============================] - 23s 579ms/step - loss: 0.6236 - acc: 0.8001 - val_loss: 0.7369 - val_acc: 0.7617\n",
      "Epoch 19/50\n",
      "40/40 [==============================] - 23s 581ms/step - loss: 0.6117 - acc: 0.8111 - val_loss: 0.7256 - val_acc: 0.7574\n",
      "Epoch 20/50\n",
      "40/40 [==============================] - 23s 581ms/step - loss: 0.6214 - acc: 0.7982 - val_loss: 0.7200 - val_acc: 0.7617\n",
      "Epoch 21/50\n",
      "40/40 [==============================] - 23s 576ms/step - loss: 0.5795 - acc: 0.8121 - val_loss: 0.7207 - val_acc: 0.7532\n",
      "Epoch 22/50\n",
      "40/40 [==============================] - 23s 581ms/step - loss: 0.5555 - acc: 0.8268 - val_loss: 0.7106 - val_acc: 0.7489\n",
      "Epoch 23/50\n",
      "40/40 [==============================] - 23s 579ms/step - loss: 0.5373 - acc: 0.8376 - val_loss: 0.7109 - val_acc: 0.7617\n",
      "Epoch 24/50\n",
      "40/40 [==============================] - 23s 575ms/step - loss: 0.5650 - acc: 0.8195 - val_loss: 0.7066 - val_acc: 0.7617\n",
      "Epoch 25/50\n",
      "40/40 [==============================] - 23s 580ms/step - loss: 0.5296 - acc: 0.8305 - val_loss: 0.7056 - val_acc: 0.7617\n",
      "Epoch 26/50\n",
      "40/40 [==============================] - 23s 582ms/step - loss: 0.4909 - acc: 0.8425 - val_loss: 0.6983 - val_acc: 0.7532\n",
      "Epoch 27/50\n",
      "40/40 [==============================] - 23s 574ms/step - loss: 0.5246 - acc: 0.8281 - val_loss: 0.6940 - val_acc: 0.7660\n",
      "Epoch 28/50\n",
      "40/40 [==============================] - 23s 580ms/step - loss: 0.4972 - acc: 0.8437 - val_loss: 0.6909 - val_acc: 0.7660\n",
      "Epoch 29/50\n",
      "40/40 [==============================] - 23s 577ms/step - loss: 0.4773 - acc: 0.8479 - val_loss: 0.6860 - val_acc: 0.7660\n",
      "Epoch 30/50\n",
      "40/40 [==============================] - 23s 578ms/step - loss: 0.4877 - acc: 0.8367 - val_loss: 0.6884 - val_acc: 0.7617\n",
      "Epoch 31/50\n",
      "40/40 [==============================] - 23s 576ms/step - loss: 0.4943 - acc: 0.8435 - val_loss: 0.6902 - val_acc: 0.7617\n",
      "Epoch 32/50\n",
      "40/40 [==============================] - 23s 575ms/step - loss: 0.4626 - acc: 0.8756 - val_loss: 0.6817 - val_acc: 0.7617\n",
      "Epoch 33/50\n",
      "40/40 [==============================] - 23s 576ms/step - loss: 0.4680 - acc: 0.8547 - val_loss: 0.6846 - val_acc: 0.7660\n",
      "Epoch 34/50\n",
      "40/40 [==============================] - 23s 575ms/step - loss: 0.4515 - acc: 0.8575 - val_loss: 0.6781 - val_acc: 0.7660\n",
      "Epoch 35/50\n",
      "40/40 [==============================] - 23s 577ms/step - loss: 0.4757 - acc: 0.8565 - val_loss: 0.6778 - val_acc: 0.7660\n",
      "Epoch 36/50\n",
      "40/40 [==============================] - 23s 576ms/step - loss: 0.4397 - acc: 0.8706 - val_loss: 0.6798 - val_acc: 0.7702\n",
      "Epoch 37/50\n",
      "40/40 [==============================] - 23s 574ms/step - loss: 0.4301 - acc: 0.8714 - val_loss: 0.6772 - val_acc: 0.7745\n",
      "Epoch 38/50\n",
      "40/40 [==============================] - 23s 576ms/step - loss: 0.4693 - acc: 0.8500 - val_loss: 0.6748 - val_acc: 0.7702\n",
      "Epoch 39/50\n",
      "40/40 [==============================] - 23s 573ms/step - loss: 0.4545 - acc: 0.8577 - val_loss: 0.6785 - val_acc: 0.7702\n",
      "Epoch 40/50\n",
      "40/40 [==============================] - 23s 574ms/step - loss: 0.4301 - acc: 0.8759 - val_loss: 0.6798 - val_acc: 0.7532\n",
      "Epoch 41/50\n",
      "40/40 [==============================] - 23s 578ms/step - loss: 0.4353 - acc: 0.8585 - val_loss: 0.6740 - val_acc: 0.7702\n",
      "Epoch 42/50\n",
      "40/40 [==============================] - 23s 573ms/step - loss: 0.4079 - acc: 0.8839 - val_loss: 0.6828 - val_acc: 0.7660\n",
      "Epoch 43/50\n",
      "40/40 [==============================] - 23s 573ms/step - loss: 0.4227 - acc: 0.8732 - val_loss: 0.6699 - val_acc: 0.7872\n",
      "Epoch 44/50\n",
      "40/40 [==============================] - 23s 578ms/step - loss: 0.4144 - acc: 0.8808 - val_loss: 0.6743 - val_acc: 0.7872\n",
      "Epoch 45/50\n",
      "40/40 [==============================] - 23s 574ms/step - loss: 0.4291 - acc: 0.8682 - val_loss: 0.6692 - val_acc: 0.7830\n",
      "Epoch 46/50\n",
      "40/40 [==============================] - 23s 578ms/step - loss: 0.4120 - acc: 0.8721 - val_loss: 0.6677 - val_acc: 0.7830\n",
      "Epoch 47/50\n",
      "40/40 [==============================] - 23s 576ms/step - loss: 0.3797 - acc: 0.8898 - val_loss: 0.6736 - val_acc: 0.7660\n",
      "Epoch 48/50\n",
      "40/40 [==============================] - 23s 579ms/step - loss: 0.4115 - acc: 0.8595 - val_loss: 0.6671 - val_acc: 0.7872\n",
      "Epoch 49/50\n",
      "40/40 [==============================] - 23s 577ms/step - loss: 0.3966 - acc: 0.8831 - val_loss: 0.6639 - val_acc: 0.7872\n",
      "Epoch 50/50\n",
      "40/40 [==============================] - 23s 576ms/step - loss: 0.3830 - acc: 0.8789 - val_loss: 0.6694 - val_acc: 0.7872\n"
     ]
    }
   ],
   "source": [
    "# Fit the model \n",
    "spe=len(train)   # train_size/batch_size\n",
    "epoch_num=PARAMS['n_epochs']\n",
    "val_steps=len(validation)  # validation_size/batch_size\n",
    "\n",
    "\n",
    "history = model.fit(\n",
    "            train,\n",
    "            steps_per_epoch=spe,  \n",
    "            epochs=epoch_num,\n",
    "            validation_data=validation,\n",
    "            validation_steps=val_steps) \n",
    "#model.save(PARAMS['save_model'])"
   ]
  },
  {
   "cell_type": "code",
   "execution_count": 182,
   "id": "serial-demand",
   "metadata": {
    "code_folding": []
   },
   "outputs": [
    {
     "data": {
      "image/png": "[encoded data removed]",
      "text/plain": [
       "<Figure size 432x288 with 1 Axes>"
      ]
     },
     "metadata": {
      "needs_background": "light"
     },
     "output_type": "display_data"
    },
    {
     "data": {
      "image/png": "[encoded data removed]",
      "text/plain": [
       "<Figure size 432x288 with 1 Axes>"
      ]
     },
     "metadata": {
      "needs_background": "light"
     },
     "output_type": "display_data"
    }
   ],
   "source": [
    "#model = load_model('name_of_model_to_load.h5')\n",
    "epoch_num=PARAMS['n_epochs']\n",
    "acc = history.history['acc']\n",
    "val_acc = history.history['val_acc']\n",
    "\n",
    "plt.plot(range(epoch_num), acc, 'b', label='Training accuracy')\n",
    "plt.plot(range(epoch_num), val_acc, 'g', label='Validation accuracy')\n",
    "plt.title('Training and validation accuracy')\n",
    "plt.legend()\n",
    "\n",
    "\n",
    "loss = history.history['loss']\n",
    "val_loss = history.history['val_loss']\n",
    "\n",
    "plt.figure()\n",
    "plt.plot(range(epoch_num), loss, 'b', label='Training loss')\n",
    "plt.plot(range(epoch_num), val_loss, 'g', label='Validation loss')\n",
    "plt.title('Training and validation loss')\n",
    "plt.legend()\n",
    "\n",
    "\n",
    "plt.show()"
   ]
  },
  {
   "cell_type": "code",
   "execution_count": null,
   "id": "vocal-upper",
   "metadata": {},
   "outputs": [],
   "source": []
  }
 ],
 "metadata": {
  "kernelspec": {
   "display_name": "Python 3",
   "language": "python",
   "name": "python3"
  },
  "language_info": {
   "codemirror_mode": {
    "name": "ipython",
    "version": 3
   },
   "file_extension": ".py",
   "mimetype": "text/x-python",
   "name": "python",
   "nbconvert_exporter": "python",
   "pygments_lexer": "ipython3",
   "version": "3.6.8"
  },
  "varInspector": {
   "cols": {
    "lenName": 16,
    "lenType": 16,
    "lenVar": 40
   },
   "kernels_config": {
    "python": {
     "delete_cmd_postfix": "",
     "delete_cmd_prefix": "del ",
     "library": "var_list.py",
     "varRefreshCmd": "print(var_dic_list())"
    },
    "r": {
     "delete_cmd_postfix": ") ",
     "delete_cmd_prefix": "rm(",
     "library": "var_list.r",
     "varRefreshCmd": "cat(var_dic_list()) "
    }
   },
   "types_to_exclude": [
    "module",
    "function",
    "builtin_function_or_method",
    "instance",
    "_Feature"
   ],
   "window_display": false
  }
 },
 "nbformat": 4,
 "nbformat_minor": 5
}
