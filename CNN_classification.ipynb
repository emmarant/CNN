{
 "cells": [
  {
   "cell_type": "markdown",
   "id": "roman-reliance",
   "metadata": {
    "toc": true
   },
   "source": [
    "<h1>Table of Contents<span class=\"tocSkip\"></span></h1>\n",
    "<div class=\"toc\"><ul class=\"toc-item\"><li><ul class=\"toc-item\"><li><span><a href=\"#General\" data-toc-modified-id=\"General-0.1\"><span class=\"toc-item-num\">0.1&nbsp;&nbsp;</span>General</a></span></li></ul></li><li><span><a href=\"#DATA\" data-toc-modified-id=\"DATA-1\"><span class=\"toc-item-num\">1&nbsp;&nbsp;</span>DATA</a></span><ul class=\"toc-item\"><li><span><a href=\"#Data-directories\" data-toc-modified-id=\"Data-directories-1.1\"><span class=\"toc-item-num\">1.1&nbsp;&nbsp;</span>Data directories</a></span></li></ul></li><li><span><a href=\"#The-CNN-model\" data-toc-modified-id=\"The-CNN-model-2\"><span class=\"toc-item-num\">2&nbsp;&nbsp;</span>The CNN model</a></span><ul class=\"toc-item\"><li><span><a href=\"#Train-the-model\" data-toc-modified-id=\"Train-the-model-2.1\"><span class=\"toc-item-num\">2.1&nbsp;&nbsp;</span>Train the model</a></span></li><li><span><a href=\"#plot--the-learning-curves\" data-toc-modified-id=\"plot--the-learning-curves-2.2\"><span class=\"toc-item-num\">2.2&nbsp;&nbsp;</span>plot  the learning curves</a></span></li><li><span><a href=\"#Test-model-on-'test'-dataset\" data-toc-modified-id=\"Test-model-on-'test'-dataset-2.3\"><span class=\"toc-item-num\">2.3&nbsp;&nbsp;</span>Test model on <em>'test'</em> dataset</a></span></li></ul></li><li><span><a href=\"#Augmentation\" data-toc-modified-id=\"Augmentation-3\"><span class=\"toc-item-num\">3&nbsp;&nbsp;</span>Augmentation</a></span></li><li><span><a href=\"#Transfer-learning\" data-toc-modified-id=\"Transfer-learning-4\"><span class=\"toc-item-num\">4&nbsp;&nbsp;</span>Transfer learning</a></span></li></ul></div>"
   ]
  },
  {
   "cell_type": "markdown",
   "id": "greatest-savage",
   "metadata": {},
   "source": [
    "# INTRO"
   ]
  },
  {
   "cell_type": "markdown",
   "id": "under-seven",
   "metadata": {},
   "source": [
    "### General\n",
    "\n",
    "Let's start by importing **various useful** libraries in one go. \n",
    "We also check the versions of keras and tensorflow he have in our disposal (because we can).\n",
    "If more libraries become needed later on, come back to the cell below and add them here."
   ]
  },
  {
   "cell_type": "code",
   "execution_count": 6,
   "id": "broken-mattress",
   "metadata": {},
   "outputs": [
    {
     "name": "stdout",
     "output_type": "stream",
     "text": [
      "2.4.0\n",
      "2.4.1\n"
     ]
    }
   ],
   "source": [
    "import tensorflow\n",
    "from tensorflow import keras\n",
    "from tensorflow.keras import layers\n",
    "from tensorflow.keras import models\n",
    "from tensorflow.keras import optimizers\n",
    "from tensorflow.keras.preprocessing.image import ImageDataGenerator\n",
    "from tensorflow.keras.preprocessing import image\n",
    "import numpy as np\n",
    "import os, shutil\n",
    "from shutil import copyfile\n",
    "import random\n",
    "import matplotlib.pyplot as plt\n",
    "from tensorflow.keras.models import load_model\n",
    "\n",
    "print(keras.__version__)\n",
    "print(tensorflow.__version__)"
   ]
  },
  {
   "cell_type": "markdown",
   "id": "equal-cabin",
   "metadata": {},
   "source": [
    "## DATA\n",
    "\n",
    "\n",
    "We will use an existing dataset, dowloaded from kaggle (https://www.kaggle.com/alxmamaev/flowers-recognition)\n",
    "\n"
   ]
  },
  {
   "cell_type": "markdown",
   "id": "satellite-orange",
   "metadata": {},
   "source": [
    "### Data directories\n",
    "\n",
    "**Create a hierarchy of directories**, with seperate directories for *training*,  *validation*, and *test* data. Each of these will contain a subdirectory for each *class*.\n",
    "\n",
    "_Important_: __obviously, building the datasets only needs to be done once.__ "
   ]
  },
  {
   "cell_type": "code",
   "execution_count": 9,
   "id": "pediatric-essay",
   "metadata": {
    "code_folding": []
   },
   "outputs": [],
   "source": [
    "# In the line below define a 'base' name for the directory where you want to store the datasets you are about to create\n",
    "# something like:  base = '/mnt/ceph/home/r1111683/flower_classification_data'\n",
    "\n",
    "base='/mnt/ceph/home/r1111683/data'\n",
    "\n",
    "classification_data_path=os.path.join(base + '/flower_classification_data') \n",
    "\n",
    "# create that directory\n",
    "if not os.path.exists(classification_data_path):\n",
    "  os.mkdir(classification_data_path)\n",
    "\n",
    "# define datasets (i.e. subdirs within the 'base' dir) and define classes (i.e. sub-subdirs for each of the dataset directories)\n",
    "datasets=['train','validation','test']\n",
    "classes=['daisy','dandelion','rose','sunflower','tulip']\n",
    "\n",
    "# create that hierarchy of dirs and subdirs\n",
    "for dtype in datasets:\n",
    "  path_set=os.path.join(classification_data_path,dtype)\n",
    "  if not os.path.exists(path_set):\n",
    "    os.mkdir(path_set)\n",
    "  for c in classes:\n",
    "    path_class=os.path.join(path_set,c)\n",
    "    if not os.path.exists(path_class):\n",
    "      os.mkdir(path_class)      "
   ]
  },
  {
   "cell_type": "code",
   "execution_count": 10,
   "id": "smart-stewart",
   "metadata": {},
   "outputs": [],
   "source": [
    "# function for splitting the data into train, validation, and test data (after shuffling them) \n",
    "# and populating the directory tree created above\n",
    "\n",
    "def pop_dirs(SOURCE, TRAINING, VALIDATION, TEST, SPLIT_SIZE):\n",
    "    files = []\n",
    "    for filename in os.listdir(SOURCE):\n",
    "        file = SOURCE + filename\n",
    "        if os.path.getsize(file) > 0:\n",
    "            files.append(filename)\n",
    "        else:\n",
    "            print(filename + \" is zero length, so ignoring.\")\n",
    "\n",
    "    training_length = int(len(files) * SPLIT_SIZE)\n",
    "    validation_length = int((len(files) - training_length)/2.0)\n",
    "    test_length = validation_length\n",
    "    shuffled_set = random.sample(files, len(files))\n",
    "    training_set = shuffled_set[0:training_length]\n",
    "    validation_set = shuffled_set[training_length:training_length+validation_length]\n",
    "    test_set = shuffled_set[training_length+validation_length:training_length+validation_length+test_length]\n",
    "\n",
    "    for filename in training_set:\n",
    "        this_file = SOURCE + filename\n",
    "        destination = TRAINING + filename\n",
    "        copyfile(this_file, destination)\n",
    "\n",
    "    for filename in validation_set:\n",
    "        this_file = SOURCE + filename\n",
    "        destination = VALIDATION + filename\n",
    "        copyfile(this_file, destination)\n",
    "\n",
    "    for filename in test_set:\n",
    "        this_file = SOURCE + filename\n",
    "        destination = TEST + filename\n",
    "        copyfile(this_file, destination)"
   ]
  },
  {
   "cell_type": "code",
   "execution_count": 11,
   "id": "binding-saturday",
   "metadata": {},
   "outputs": [
    {
     "name": "stdout",
     "output_type": "stream",
     "text": [
      "/mnt/ceph/home/r1111683/data/flowers/daisy/\n",
      "/mnt/ceph/home/r1111683/data/flowers/dandelion/\n",
      "/mnt/ceph/home/r1111683/data/flowers/rose/\n",
      "/mnt/ceph/home/r1111683/data/flowers/sunflower/\n",
      "/mnt/ceph/home/r1111683/data/flowers/tulip/\n"
     ]
    }
   ],
   "source": [
    "# the actual copying of files from the 'data' folder into the folder hierarchy created earlier \n",
    "\n",
    "j=0\n",
    "split_size = .7   # fraction of data (from 0.0 to 1.0) to be used as training data. The rest will be split equally among validation and test datasets\n",
    "\n",
    "#classes=['daisy','dandelion','rose','sunflower','tulip']   \n",
    "\n",
    "for i in classes:\n",
    "  src_dir = \"/mnt/ceph/home/r1111683/data/flowers\"\n",
    "  src_path=os.path.join(src_dir,i)+'/'\n",
    "  \n",
    "  training_dir = \"/mnt/ceph/home/r1111683/data/flower_classification_data/train\"\n",
    "  train_path=os.path.join(training_dir,i)+'/'\n",
    "  \n",
    "  validation_dir = \"/mnt/ceph/home/r1111683/data/flower_classification_data/validation\"\n",
    "  validation_path=os.path.join(validation_dir,i)+'/'\n",
    "\n",
    "  test_dir = \"/mnt/ceph/home/r1111683/data/flower_classification_data/test\"\n",
    "  test_path=os.path.join(test_dir,i)+'/'\n",
    "\n",
    "  pop_dirs(src_path, train_path, validation_path, test_path, split_size)\n",
    "\n",
    "  \n",
    "  print(src_path)\n",
    "  j+=1\n"
   ]
  },
  {
   "cell_type": "markdown",
   "id": "ultimate-testing",
   "metadata": {},
   "source": [
    "Check the number of images for each dataset and each class"
   ]
  },
  {
   "cell_type": "code",
   "execution_count": 12,
   "id": "psychological-tactics",
   "metadata": {},
   "outputs": [
    {
     "name": "stdout",
     "output_type": "stream",
     "text": [
      "number of train images in daisy : 513\n",
      "number of train images in dandelion : 513\n",
      "number of train images in rose : 513\n",
      "number of train images in sunflower : 513\n",
      "number of train images in tulip : 513\n",
      "number of validation images in daisy : 110\n",
      "number of validation images in dandelion : 110\n",
      "number of validation images in rose : 110\n",
      "number of validation images in sunflower : 110\n",
      "number of validation images in tulip : 110\n",
      "number of test images in daisy : 110\n",
      "number of test images in dandelion : 110\n",
      "number of test images in rose : 110\n",
      "number of test images in sunflower : 110\n",
      "number of test images in tulip : 110\n"
     ]
    }
   ],
   "source": [
    "datasets=['train','validation','test']\n",
    "classes=['daisy','dandelion','rose','sunflower','tulip']\n",
    "\n",
    "for dset in datasets:\n",
    "  for c in classes:\n",
    "    path=os.path.join('/mnt/ceph/home/r1111683/data/flower_classification_data',dset,c)\n",
    "    print('number of',  dset,  'images in', c,':', len(os.listdir(path)))"
   ]
  },
  {
   "cell_type": "markdown",
   "id": "recreational-header",
   "metadata": {},
   "source": [
    "## The CNN model"
   ]
  },
  {
   "cell_type": "code",
   "execution_count": 41,
   "id": "conventional-version",
   "metadata": {},
   "outputs": [],
   "source": [
    "# run when clearing of the session is needed\n",
    "tensorflow.keras.backend.clear_session()"
   ]
  },
  {
   "cell_type": "code",
   "execution_count": 42,
   "id": "individual-stephen",
   "metadata": {},
   "outputs": [],
   "source": [
    "# place needed and updatable parameters in a dictionary for easy access \n",
    "PARAMS = {'lr': 1e-4,\n",
    "          'dropout': 0.6,\n",
    "          'batch_size': 16,\n",
    "          'n_epochs': 50,\n",
    "          'optimizer': 'RMSprop',\n",
    "          'loss': 'categorical_crossentropy',\n",
    "          'metrics': 'acc',\n",
    "          'image_input_shape' : (100,100,3),\n",
    "          'save_model' : 'flower_classification_1.h5'\n",
    "          }"
   ]
  },
  {
   "cell_type": "code",
   "execution_count": 43,
   "id": "textile-wireless",
   "metadata": {},
   "outputs": [],
   "source": [
    "# the model layers\n",
    "\n",
    "model = models.Sequential()\n",
    "model.add(layers.Conv2D(32, (3, 3), activation='relu',\n",
    "                        input_shape=PARAMS['image_input_shape']))\n",
    "model.add(layers.MaxPooling2D((2, 2)))\n",
    "model.add(layers.Conv2D(64, (3, 3), activation='relu'))\n",
    "model.add(layers.Dropout(PARAMS['dropout']))\n",
    "model.add(layers.MaxPooling2D((2, 2)))\n",
    "model.add(layers.Conv2D(128, (3, 3), activation='relu'))\n",
    "model.add(layers.MaxPooling2D((2, 2)))\n",
    "model.add(layers.Conv2D(256, (3, 3), activation='relu'))\n",
    "model.add(layers.MaxPooling2D((2,2)))\n",
    "model.add(layers.Dropout(PARAMS['dropout']))\n",
    "model.add(layers.Flatten())\n",
    "model.add(layers.Dense(128,activation='relu'))\n",
    "model.add(layers.Dense(5, activation='softmax'))"
   ]
  },
  {
   "cell_type": "code",
   "execution_count": 44,
   "id": "independent-village",
   "metadata": {},
   "outputs": [],
   "source": [
    "# compile model (and choose optimiser )\n",
    "model.compile(loss=PARAMS['loss'],\n",
    "              optimizer=optimizers.RMSprop(lr=PARAMS['lr']),\n",
    "              metrics=[PARAMS['metrics']])"
   ]
  },
  {
   "cell_type": "code",
   "execution_count": 45,
   "id": "divided-defense",
   "metadata": {},
   "outputs": [
    {
     "name": "stdout",
     "output_type": "stream",
     "text": [
      "Model: \"sequential\"\n",
      "_________________________________________________________________\n",
      "Layer (type)                 Output Shape              Param #   \n",
      "=================================================================\n",
      "conv2d (Conv2D)              (None, 98, 98, 32)        896       \n",
      "_________________________________________________________________\n",
      "max_pooling2d (MaxPooling2D) (None, 49, 49, 32)        0         \n",
      "_________________________________________________________________\n",
      "conv2d_1 (Conv2D)            (None, 47, 47, 64)        18496     \n",
      "_________________________________________________________________\n",
      "dropout (Dropout)            (None, 47, 47, 64)        0         \n",
      "_________________________________________________________________\n",
      "max_pooling2d_1 (MaxPooling2 (None, 23, 23, 64)        0         \n",
      "_________________________________________________________________\n",
      "conv2d_2 (Conv2D)            (None, 21, 21, 128)       73856     \n",
      "_________________________________________________________________\n",
      "max_pooling2d_2 (MaxPooling2 (None, 10, 10, 128)       0         \n",
      "_________________________________________________________________\n",
      "conv2d_3 (Conv2D)            (None, 8, 8, 256)         295168    \n",
      "_________________________________________________________________\n",
      "max_pooling2d_3 (MaxPooling2 (None, 4, 4, 256)         0         \n",
      "_________________________________________________________________\n",
      "dropout_1 (Dropout)          (None, 4, 4, 256)         0         \n",
      "_________________________________________________________________\n",
      "flatten (Flatten)            (None, 4096)              0         \n",
      "_________________________________________________________________\n",
      "dense (Dense)                (None, 128)               524416    \n",
      "_________________________________________________________________\n",
      "dense_1 (Dense)              (None, 5)                 645       \n",
      "=================================================================\n",
      "Total params: 913,477\n",
      "Trainable params: 913,477\n",
      "Non-trainable params: 0\n",
      "_________________________________________________________________\n"
     ]
    }
   ],
   "source": [
    "model.summary()"
   ]
  },
  {
   "cell_type": "code",
   "execution_count": 23,
   "id": "continuing-coordinate",
   "metadata": {},
   "outputs": [
    {
     "name": "stdout",
     "output_type": "stream",
     "text": [
      "('Failed to import pydot. You must `pip install pydot` and install graphviz (https://graphviz.gitlab.io/download/), ', 'for `pydotprint` to work.')\n"
     ]
    }
   ],
   "source": [
    "# create a graph of the model layers\n",
    "from tensorflow.keras.utils import plot_model\n",
    "plot_model(model, to_file='model.png',show_shapes=True,rankdir='TB',show_layer_names=True)"
   ]
  },
  {
   "cell_type": "code",
   "execution_count": 62,
   "id": "young-promotion",
   "metadata": {},
   "outputs": [
    {
     "name": "stdout",
     "output_type": "stream",
     "text": [
      "Found 2563 images belonging to 5 classes.\n",
      "Found 549 images belonging to 5 classes.\n",
      "Found 550 images belonging to 5 classes.\n"
     ]
    }
   ],
   "source": [
    "# NOTE: use color_mode=\"grayscale\" below only when dealing with grayscale images. Otherwise 3 channel images are expected\n",
    "train_datagen = ImageDataGenerator(samplewise_center=True,samplewise_std_normalization=True,horizontal_flip=True,vertical_flip=True)\n",
    "#train_datagen = ImageDataGenerator(samplewise_center=True,samplewise_std_normalization=True)\n",
    "validation_datagen = ImageDataGenerator(samplewise_center=True,samplewise_std_normalization=True)\n",
    "test_datagen = ImageDataGenerator(samplewise_center=True,samplewise_std_normalization=True)\n",
    "#test_datagen = ImageDataGenerator(rescale = 1.0/255.)\n",
    "\n",
    "train = train_datagen.flow_from_directory(\n",
    "        '/mnt/ceph/home/r1111683/data/flower_classification_data/train',\n",
    "        target_size=(100, 100),\n",
    "        batch_size=PARAMS['batch_size'],\n",
    "        class_mode='categorical') \n",
    "\n",
    "validation = validation_datagen.flow_from_directory(\n",
    "        '/mnt/ceph/home/r1111683/data/flower_classification_data/validation',\n",
    "        target_size=(100, 100),\n",
    "        batch_size=PARAMS['batch_size'],\n",
    "        class_mode='categorical')\n",
    "\n",
    "\n",
    "test = test_datagen.flow_from_directory(\n",
    "        '/mnt/ceph/home/r1111683/data/flower_classification_data/test',\n",
    "        target_size=(100, 100),\n",
    "        batch_size=PARAMS['batch_size'],\n",
    "        class_mode='categorical')"
   ]
  },
  {
   "cell_type": "code",
   "execution_count": 47,
   "id": "yellow-superior",
   "metadata": {},
   "outputs": [
    {
     "name": "stdout",
     "output_type": "stream",
     "text": [
      "Image batches have shape: (16, 100, 100, 3)\n",
      "Label batches have shape: (16, 5)\n"
     ]
    }
   ],
   "source": [
    "for images_batch, labels_batch in train:\n",
    "    print('Image batches have shape:', images_batch.shape)\n",
    "    print('Label batches have shape:', labels_batch.shape)\n",
    "    break"
   ]
  },
  {
   "cell_type": "markdown",
   "id": "oriental-cleaner",
   "metadata": {},
   "source": [
    "### Train the model"
   ]
  },
  {
   "cell_type": "code",
   "execution_count": 48,
   "id": "accompanied-tomorrow",
   "metadata": {},
   "outputs": [
    {
     "name": "stdout",
     "output_type": "stream",
     "text": [
      "Epoch 1/50\n",
      "161/161 [==============================] - 16s 94ms/step - loss: 1.5828 - acc: 0.2854 - val_loss: 1.3112 - val_acc: 0.5155\n",
      "Epoch 2/50\n",
      "161/161 [==============================] - 15s 92ms/step - loss: 1.2433 - acc: 0.4697 - val_loss: 1.2384 - val_acc: 0.5155\n",
      "Epoch 3/50\n",
      "161/161 [==============================] - 15s 93ms/step - loss: 1.1430 - acc: 0.5085 - val_loss: 1.1980 - val_acc: 0.5428\n",
      "Epoch 4/50\n",
      "161/161 [==============================] - 15s 93ms/step - loss: 1.0700 - acc: 0.5648 - val_loss: 1.1616 - val_acc: 0.5683\n",
      "Epoch 5/50\n",
      "161/161 [==============================] - 15s 93ms/step - loss: 1.0421 - acc: 0.5842 - val_loss: 1.1383 - val_acc: 0.5628\n",
      "Epoch 6/50\n",
      "161/161 [==============================] - 15s 92ms/step - loss: 0.9795 - acc: 0.6137 - val_loss: 1.0925 - val_acc: 0.6066\n",
      "Epoch 7/50\n",
      "161/161 [==============================] - 15s 93ms/step - loss: 0.9414 - acc: 0.6359 - val_loss: 1.0785 - val_acc: 0.5574\n",
      "Epoch 8/50\n",
      "161/161 [==============================] - 15s 92ms/step - loss: 0.9199 - acc: 0.6348 - val_loss: 1.1133 - val_acc: 0.5719\n",
      "Epoch 9/50\n",
      "161/161 [==============================] - 15s 93ms/step - loss: 0.8582 - acc: 0.6423 - val_loss: 1.0133 - val_acc: 0.6193\n",
      "Epoch 10/50\n",
      "161/161 [==============================] - 15s 92ms/step - loss: 0.8603 - acc: 0.6810 - val_loss: 1.0206 - val_acc: 0.6066\n",
      "Epoch 11/50\n",
      "161/161 [==============================] - 15s 93ms/step - loss: 0.8133 - acc: 0.6913 - val_loss: 1.0166 - val_acc: 0.6102\n",
      "Epoch 12/50\n",
      "161/161 [==============================] - 15s 93ms/step - loss: 0.7927 - acc: 0.6819 - val_loss: 0.9820 - val_acc: 0.6430\n",
      "Epoch 13/50\n",
      "161/161 [==============================] - 15s 93ms/step - loss: 0.7296 - acc: 0.7305 - val_loss: 1.0120 - val_acc: 0.6175\n",
      "Epoch 14/50\n",
      "161/161 [==============================] - 15s 92ms/step - loss: 0.7266 - acc: 0.7343 - val_loss: 0.9486 - val_acc: 0.6375\n",
      "Epoch 15/50\n",
      "161/161 [==============================] - 15s 93ms/step - loss: 0.7013 - acc: 0.7334 - val_loss: 0.9048 - val_acc: 0.6576\n",
      "Epoch 16/50\n",
      "161/161 [==============================] - 15s 92ms/step - loss: 0.6921 - acc: 0.7510 - val_loss: 0.9046 - val_acc: 0.6503\n",
      "Epoch 17/50\n",
      "161/161 [==============================] - 15s 93ms/step - loss: 0.6642 - acc: 0.7505 - val_loss: 0.9966 - val_acc: 0.5974\n",
      "Epoch 18/50\n",
      "161/161 [==============================] - 15s 93ms/step - loss: 0.6419 - acc: 0.7500 - val_loss: 1.0644 - val_acc: 0.5501\n",
      "Epoch 19/50\n",
      "161/161 [==============================] - 15s 93ms/step - loss: 0.6257 - acc: 0.7585 - val_loss: 0.8550 - val_acc: 0.6922\n",
      "Epoch 20/50\n",
      "161/161 [==============================] - 15s 93ms/step - loss: 0.6133 - acc: 0.7637 - val_loss: 0.9160 - val_acc: 0.6302\n",
      "Epoch 21/50\n",
      "161/161 [==============================] - 15s 94ms/step - loss: 0.6015 - acc: 0.7724 - val_loss: 0.8431 - val_acc: 0.6940\n",
      "Epoch 22/50\n",
      "161/161 [==============================] - 15s 93ms/step - loss: 0.5581 - acc: 0.7845 - val_loss: 0.9137 - val_acc: 0.6266\n",
      "Epoch 23/50\n",
      "161/161 [==============================] - 15s 94ms/step - loss: 0.5307 - acc: 0.8038 - val_loss: 0.8607 - val_acc: 0.6721\n",
      "Epoch 24/50\n",
      "161/161 [==============================] - 15s 93ms/step - loss: 0.5537 - acc: 0.7831 - val_loss: 0.8795 - val_acc: 0.6648\n",
      "Epoch 25/50\n",
      "161/161 [==============================] - 16s 97ms/step - loss: 0.5399 - acc: 0.8106 - val_loss: 0.8215 - val_acc: 0.7049\n",
      "Epoch 26/50\n",
      "161/161 [==============================] - 15s 94ms/step - loss: 0.5174 - acc: 0.8062 - val_loss: 0.7765 - val_acc: 0.7231\n",
      "Epoch 27/50\n",
      "161/161 [==============================] - 15s 94ms/step - loss: 0.4892 - acc: 0.8050 - val_loss: 0.8486 - val_acc: 0.6885\n",
      "Epoch 28/50\n",
      "161/161 [==============================] - 15s 93ms/step - loss: 0.4960 - acc: 0.8109 - val_loss: 0.7866 - val_acc: 0.6867\n",
      "Epoch 29/50\n",
      "161/161 [==============================] - 15s 94ms/step - loss: 0.4513 - acc: 0.8399 - val_loss: 0.8566 - val_acc: 0.6648\n",
      "Epoch 30/50\n",
      "161/161 [==============================] - 15s 94ms/step - loss: 0.4230 - acc: 0.8451 - val_loss: 0.7825 - val_acc: 0.7104\n",
      "Epoch 31/50\n",
      "161/161 [==============================] - 15s 94ms/step - loss: 0.4484 - acc: 0.8295 - val_loss: 0.7964 - val_acc: 0.6776\n",
      "Epoch 32/50\n",
      "161/161 [==============================] - 15s 94ms/step - loss: 0.3853 - acc: 0.8601 - val_loss: 0.7772 - val_acc: 0.7013\n",
      "Epoch 33/50\n",
      "161/161 [==============================] - 15s 94ms/step - loss: 0.4124 - acc: 0.8531 - val_loss: 0.7760 - val_acc: 0.7158\n",
      "Epoch 34/50\n",
      "161/161 [==============================] - 15s 94ms/step - loss: 0.4111 - acc: 0.8541 - val_loss: 0.7480 - val_acc: 0.7395\n",
      "Epoch 35/50\n",
      "161/161 [==============================] - 15s 94ms/step - loss: 0.3658 - acc: 0.8717 - val_loss: 0.7632 - val_acc: 0.7177\n",
      "Epoch 36/50\n",
      "161/161 [==============================] - 15s 94ms/step - loss: 0.3670 - acc: 0.8613 - val_loss: 0.7675 - val_acc: 0.7122\n",
      "Epoch 37/50\n",
      "161/161 [==============================] - 15s 94ms/step - loss: 0.3455 - acc: 0.8736 - val_loss: 0.7380 - val_acc: 0.7268\n",
      "Epoch 38/50\n",
      "161/161 [==============================] - 15s 92ms/step - loss: 0.3539 - acc: 0.8633 - val_loss: 0.8429 - val_acc: 0.6849\n",
      "Epoch 39/50\n",
      "161/161 [==============================] - 15s 93ms/step - loss: 0.3329 - acc: 0.8783 - val_loss: 0.8321 - val_acc: 0.6976\n",
      "Epoch 40/50\n",
      "161/161 [==============================] - 15s 93ms/step - loss: 0.3356 - acc: 0.8738 - val_loss: 0.7752 - val_acc: 0.7067\n",
      "Epoch 41/50\n",
      "161/161 [==============================] - 15s 93ms/step - loss: 0.2968 - acc: 0.8941 - val_loss: 0.7975 - val_acc: 0.7031\n",
      "Epoch 42/50\n",
      "161/161 [==============================] - 15s 92ms/step - loss: 0.2966 - acc: 0.8908 - val_loss: 0.7498 - val_acc: 0.7286\n",
      "Epoch 43/50\n",
      "161/161 [==============================] - 15s 94ms/step - loss: 0.2814 - acc: 0.8961 - val_loss: 0.7374 - val_acc: 0.7304\n",
      "Epoch 44/50\n",
      "161/161 [==============================] - 15s 94ms/step - loss: 0.2759 - acc: 0.8972 - val_loss: 0.8402 - val_acc: 0.6648\n",
      "Epoch 45/50\n",
      "161/161 [==============================] - 15s 94ms/step - loss: 0.2416 - acc: 0.9130 - val_loss: 0.7259 - val_acc: 0.7523\n",
      "Epoch 46/50\n",
      "161/161 [==============================] - 15s 93ms/step - loss: 0.2561 - acc: 0.8988 - val_loss: 0.7089 - val_acc: 0.7450\n",
      "Epoch 47/50\n",
      "161/161 [==============================] - 15s 93ms/step - loss: 0.2499 - acc: 0.9102 - val_loss: 0.7438 - val_acc: 0.7286\n",
      "Epoch 48/50\n",
      "161/161 [==============================] - 15s 94ms/step - loss: 0.2436 - acc: 0.9168 - val_loss: 0.7225 - val_acc: 0.7432\n",
      "Epoch 49/50\n",
      "161/161 [==============================] - 15s 93ms/step - loss: 0.2612 - acc: 0.9064 - val_loss: 0.7682 - val_acc: 0.6976\n",
      "Epoch 50/50\n",
      "161/161 [==============================] - 15s 94ms/step - loss: 0.2146 - acc: 0.9218 - val_loss: 0.7123 - val_acc: 0.7286\n"
     ]
    }
   ],
   "source": [
    "# Fit the model \n",
    "spe=len(train)   # train_size/batch_size\n",
    "epoch_num=PARAMS['n_epochs']\n",
    "val_steps=len(validation)  # validation_size/batch_size\n",
    "\n",
    "\n",
    "history = model.fit(\n",
    "            train,\n",
    "            steps_per_epoch=spe,  \n",
    "            epochs=epoch_num,\n",
    "            validation_data=validation,\n",
    "            validation_steps=val_steps) \n",
    "#model.save(PARAMS['save_model'])\n",
    " \n",
    "\n"
   ]
  },
  {
   "cell_type": "markdown",
   "id": "smooth-clause",
   "metadata": {},
   "source": [
    "### plot  the learning curves "
   ]
  },
  {
   "cell_type": "code",
   "execution_count": 49,
   "id": "assigned-subdivision",
   "metadata": {},
   "outputs": [
    {
     "data": {
      "image/png": "[encoded data removed]",
      "text/plain": [
       "<Figure size 432x288 with 1 Axes>"
      ]
     },
     "metadata": {
      "needs_background": "light"
     },
     "output_type": "display_data"
    },
    {
     "data": {
      "image/png": "[encoded data removed]",
      "text/plain": [
       "<Figure size 432x288 with 1 Axes>"
      ]
     },
     "metadata": {
      "needs_background": "light"
     },
     "output_type": "display_data"
    }
   ],
   "source": [
    "#model = load_model('name_of_model_to_load.h5')\n",
    "epoch_num=PARAMS['n_epochs']\n",
    "acc = history.history['acc']\n",
    "val_acc = history.history['val_acc']\n",
    "\n",
    "plt.plot(range(epoch_num), acc, 'b', label='Training accuracy')\n",
    "plt.plot(range(epoch_num), val_acc, 'g', label='Validation accuracy')\n",
    "plt.title('Training and validation accuracy')\n",
    "plt.legend()\n",
    "\n",
    "\n",
    "loss = history.history['loss']\n",
    "val_loss = history.history['val_loss']\n",
    "\n",
    "plt.figure()\n",
    "plt.plot(range(epoch_num), loss, 'b', label='Training loss')\n",
    "plt.plot(range(epoch_num), val_loss, 'g', label='Validation loss')\n",
    "plt.title('Training and validation loss')\n",
    "plt.legend()\n",
    "\n",
    "\n",
    "plt.show()"
   ]
  },
  {
   "cell_type": "markdown",
   "id": "defined-retirement",
   "metadata": {},
   "source": [
    "### Test model on *'test'* dataset"
   ]
  },
  {
   "cell_type": "code",
   "execution_count": 50,
   "id": "numeric-modeling",
   "metadata": {},
   "outputs": [
    {
     "name": "stdout",
     "output_type": "stream",
     "text": [
      "35/35 [==============================] - 2s 65ms/step - loss: 0.7494 - acc: 0.7273\n",
      "['loss', 'acc']\n",
      "[0.7493605017662048, 0.7272727489471436]\n",
      "\n",
      "Accuracy =  72.72727489471436 %\n"
     ]
    }
   ],
   "source": [
    "test_score = model.evaluate(test)\n",
    "print(model.metrics_names)\n",
    "print(test_score)\n",
    "print()\n",
    "print(\"Accuracy = \",test_score[1]*100,'%')"
   ]
  },
  {
   "cell_type": "markdown",
   "id": "backed-senior",
   "metadata": {},
   "source": [
    "## Augmentation"
   ]
  },
  {
   "cell_type": "markdown",
   "id": "earned-collar",
   "metadata": {},
   "source": [
    "## Transfer learning"
   ]
  },
  {
   "cell_type": "code",
   "execution_count": 63,
   "id": "boxed-drawing",
   "metadata": {},
   "outputs": [],
   "source": [
    "tensorflow.keras.backend.clear_session()"
   ]
  },
  {
   "cell_type": "code",
   "execution_count": 64,
   "id": "moving-advantage",
   "metadata": {},
   "outputs": [],
   "source": [
    "from tensorflow.keras.applications import VGG16"
   ]
  },
  {
   "cell_type": "code",
   "execution_count": 65,
   "id": "employed-saskatchewan",
   "metadata": {},
   "outputs": [],
   "source": [
    "pretrained_net = VGG16(input_shape=(100,100,3),include_top=False,weights='imagenet')"
   ]
  },
  {
   "cell_type": "code",
   "execution_count": 66,
   "id": "hungry-brush",
   "metadata": {
    "scrolled": true
   },
   "outputs": [
    {
     "name": "stdout",
     "output_type": "stream",
     "text": [
      "Model: \"vgg16\"\n",
      "_________________________________________________________________\n",
      "Layer (type)                 Output Shape              Param #   \n",
      "=================================================================\n",
      "input_1 (InputLayer)         [(None, 100, 100, 3)]     0         \n",
      "_________________________________________________________________\n",
      "block1_conv1 (Conv2D)        (None, 100, 100, 64)      1792      \n",
      "_________________________________________________________________\n",
      "block1_conv2 (Conv2D)        (None, 100, 100, 64)      36928     \n",
      "_________________________________________________________________\n",
      "block1_pool (MaxPooling2D)   (None, 50, 50, 64)        0         \n",
      "_________________________________________________________________\n",
      "block2_conv1 (Conv2D)        (None, 50, 50, 128)       73856     \n",
      "_________________________________________________________________\n",
      "block2_conv2 (Conv2D)        (None, 50, 50, 128)       147584    \n",
      "_________________________________________________________________\n",
      "block2_pool (MaxPooling2D)   (None, 25, 25, 128)       0         \n",
      "_________________________________________________________________\n",
      "block3_conv1 (Conv2D)        (None, 25, 25, 256)       295168    \n",
      "_________________________________________________________________\n",
      "block3_conv2 (Conv2D)        (None, 25, 25, 256)       590080    \n",
      "_________________________________________________________________\n",
      "block3_conv3 (Conv2D)        (None, 25, 25, 256)       590080    \n",
      "_________________________________________________________________\n",
      "block3_pool (MaxPooling2D)   (None, 12, 12, 256)       0         \n",
      "_________________________________________________________________\n",
      "block4_conv1 (Conv2D)        (None, 12, 12, 512)       1180160   \n",
      "_________________________________________________________________\n",
      "block4_conv2 (Conv2D)        (None, 12, 12, 512)       2359808   \n",
      "_________________________________________________________________\n",
      "block4_conv3 (Conv2D)        (None, 12, 12, 512)       2359808   \n",
      "_________________________________________________________________\n",
      "block4_pool (MaxPooling2D)   (None, 6, 6, 512)         0         \n",
      "_________________________________________________________________\n",
      "block5_conv1 (Conv2D)        (None, 6, 6, 512)         2359808   \n",
      "_________________________________________________________________\n",
      "block5_conv2 (Conv2D)        (None, 6, 6, 512)         2359808   \n",
      "_________________________________________________________________\n",
      "block5_conv3 (Conv2D)        (None, 6, 6, 512)         2359808   \n",
      "_________________________________________________________________\n",
      "block5_pool (MaxPooling2D)   (None, 3, 3, 512)         0         \n",
      "=================================================================\n",
      "Total params: 14,714,688\n",
      "Trainable params: 14,714,688\n",
      "Non-trainable params: 0\n",
      "_________________________________________________________________\n"
     ]
    }
   ],
   "source": [
    "pretrained_net.summary()"
   ]
  },
  {
   "cell_type": "code",
   "execution_count": 67,
   "id": "musical-declaration",
   "metadata": {},
   "outputs": [],
   "source": [
    "for layer in pretrained_net.layers:\n",
    "    layer.trainable=False"
   ]
  },
  {
   "cell_type": "code",
   "execution_count": 68,
   "id": "brilliant-savage",
   "metadata": {},
   "outputs": [],
   "source": [
    "model = models.Sequential()\n",
    "model.add(pretrained_net)\n",
    "model.add(layers.Flatten())\n",
    "model.add(layers.Dense(5, activation='softmax'))"
   ]
  },
  {
   "cell_type": "code",
   "execution_count": 69,
   "id": "emerging-quebec",
   "metadata": {},
   "outputs": [
    {
     "name": "stdout",
     "output_type": "stream",
     "text": [
      "Model: \"sequential\"\n",
      "_________________________________________________________________\n",
      "Layer (type)                 Output Shape              Param #   \n",
      "=================================================================\n",
      "vgg16 (Functional)           (None, 3, 3, 512)         14714688  \n",
      "_________________________________________________________________\n",
      "flatten (Flatten)            (None, 4608)              0         \n",
      "_________________________________________________________________\n",
      "dense (Dense)                (None, 5)                 23045     \n",
      "=================================================================\n",
      "Total params: 14,737,733\n",
      "Trainable params: 23,045\n",
      "Non-trainable params: 14,714,688\n",
      "_________________________________________________________________\n"
     ]
    }
   ],
   "source": [
    "model.summary()"
   ]
  },
  {
   "cell_type": "code",
   "execution_count": 70,
   "id": "numerous-harassment",
   "metadata": {},
   "outputs": [],
   "source": [
    "# compile model (and choose optimiser )\n",
    "model.compile(loss=PARAMS['loss'],\n",
    "              optimizer=optimizers.RMSprop(PARAMS['lr']),\n",
    "              metrics=[PARAMS['metrics']])"
   ]
  },
  {
   "cell_type": "code",
   "execution_count": 71,
   "id": "julian-publisher",
   "metadata": {},
   "outputs": [
    {
     "name": "stdout",
     "output_type": "stream",
     "text": [
      "Epoch 1/50\n",
      "161/161 [==============================] - 48s 292ms/step - loss: 1.5120 - acc: 0.3520 - val_loss: 1.1141 - val_acc: 0.6339\n",
      "Epoch 2/50\n",
      "161/161 [==============================] - 47s 290ms/step - loss: 1.0541 - acc: 0.6341 - val_loss: 0.9275 - val_acc: 0.6903\n",
      "Epoch 3/50\n",
      "161/161 [==============================] - 47s 291ms/step - loss: 0.8763 - acc: 0.7191 - val_loss: 0.8452 - val_acc: 0.7104\n",
      "Epoch 4/50\n",
      "161/161 [==============================] - 47s 290ms/step - loss: 0.8217 - acc: 0.7021 - val_loss: 0.7897 - val_acc: 0.7322\n",
      "Epoch 5/50\n",
      "161/161 [==============================] - 47s 291ms/step - loss: 0.7486 - acc: 0.7503 - val_loss: 0.7507 - val_acc: 0.7468\n",
      "Epoch 6/50\n",
      "161/161 [==============================] - 47s 290ms/step - loss: 0.6933 - acc: 0.7632 - val_loss: 0.7240 - val_acc: 0.7523\n",
      "Epoch 7/50\n",
      "161/161 [==============================] - 47s 292ms/step - loss: 0.6827 - acc: 0.7762 - val_loss: 0.7021 - val_acc: 0.7523\n",
      "Epoch 8/50\n",
      "161/161 [==============================] - 47s 291ms/step - loss: 0.6569 - acc: 0.7732 - val_loss: 0.6786 - val_acc: 0.7596\n",
      "Epoch 9/50\n",
      "161/161 [==============================] - 47s 291ms/step - loss: 0.6257 - acc: 0.7802 - val_loss: 0.6801 - val_acc: 0.7687\n",
      "Epoch 10/50\n",
      "161/161 [==============================] - 47s 291ms/step - loss: 0.6100 - acc: 0.7960 - val_loss: 0.6573 - val_acc: 0.7687\n",
      "Epoch 11/50\n",
      "161/161 [==============================] - 47s 291ms/step - loss: 0.5739 - acc: 0.8077 - val_loss: 0.6488 - val_acc: 0.7705\n",
      "Epoch 12/50\n",
      "161/161 [==============================] - 47s 292ms/step - loss: 0.5919 - acc: 0.8037 - val_loss: 0.6439 - val_acc: 0.7668\n",
      "Epoch 13/50\n",
      "161/161 [==============================] - 47s 291ms/step - loss: 0.5558 - acc: 0.8075 - val_loss: 0.6305 - val_acc: 0.7705\n",
      "Epoch 14/50\n",
      "161/161 [==============================] - 47s 292ms/step - loss: 0.5539 - acc: 0.8232 - val_loss: 0.6239 - val_acc: 0.7668\n",
      "Epoch 15/50\n",
      "161/161 [==============================] - 47s 292ms/step - loss: 0.5471 - acc: 0.8107 - val_loss: 0.6148 - val_acc: 0.7760\n",
      "Epoch 16/50\n",
      "161/161 [==============================] - 47s 292ms/step - loss: 0.5379 - acc: 0.8133 - val_loss: 0.6126 - val_acc: 0.7741\n",
      "Epoch 17/50\n",
      "161/161 [==============================] - 47s 292ms/step - loss: 0.5155 - acc: 0.8225 - val_loss: 0.6063 - val_acc: 0.7760\n",
      "Epoch 18/50\n",
      "161/161 [==============================] - 47s 292ms/step - loss: 0.4897 - acc: 0.8429 - val_loss: 0.6051 - val_acc: 0.7778\n",
      "Epoch 19/50\n",
      "161/161 [==============================] - 47s 290ms/step - loss: 0.4915 - acc: 0.8426 - val_loss: 0.6010 - val_acc: 0.7832\n",
      "Epoch 20/50\n",
      "161/161 [==============================] - 47s 292ms/step - loss: 0.5234 - acc: 0.8199 - val_loss: 0.6035 - val_acc: 0.7814\n",
      "Epoch 21/50\n",
      "161/161 [==============================] - 47s 292ms/step - loss: 0.4638 - acc: 0.8533 - val_loss: 0.6036 - val_acc: 0.7705\n",
      "Epoch 22/50\n",
      "161/161 [==============================] - 47s 292ms/step - loss: 0.4843 - acc: 0.8270 - val_loss: 0.5924 - val_acc: 0.7723\n",
      "Epoch 23/50\n",
      "161/161 [==============================] - 47s 292ms/step - loss: 0.4532 - acc: 0.8588 - val_loss: 0.5898 - val_acc: 0.7760\n",
      "Epoch 24/50\n",
      "161/161 [==============================] - 47s 292ms/step - loss: 0.4661 - acc: 0.8481 - val_loss: 0.5916 - val_acc: 0.7814\n",
      "Epoch 25/50\n",
      "161/161 [==============================] - 47s 292ms/step - loss: 0.4659 - acc: 0.8412 - val_loss: 0.5897 - val_acc: 0.7796\n",
      "Epoch 26/50\n",
      "161/161 [==============================] - 47s 291ms/step - loss: 0.4366 - acc: 0.8454 - val_loss: 0.5893 - val_acc: 0.7814\n",
      "Epoch 27/50\n",
      "161/161 [==============================] - 47s 295ms/step - loss: 0.4479 - acc: 0.8573 - val_loss: 0.5926 - val_acc: 0.7869\n",
      "Epoch 28/50\n",
      "161/161 [==============================] - 48s 296ms/step - loss: 0.4513 - acc: 0.8506 - val_loss: 0.5957 - val_acc: 0.7832\n",
      "Epoch 29/50\n",
      "161/161 [==============================] - 47s 291ms/step - loss: 0.4347 - acc: 0.8607 - val_loss: 0.5818 - val_acc: 0.7905\n",
      "Epoch 30/50\n",
      "161/161 [==============================] - 47s 291ms/step - loss: 0.4192 - acc: 0.8731 - val_loss: 0.5885 - val_acc: 0.7905\n",
      "Epoch 31/50\n",
      "161/161 [==============================] - 47s 291ms/step - loss: 0.4221 - acc: 0.8632 - val_loss: 0.5834 - val_acc: 0.7851\n",
      "Epoch 32/50\n",
      "161/161 [==============================] - 47s 290ms/step - loss: 0.4048 - acc: 0.8872 - val_loss: 0.5787 - val_acc: 0.7741\n",
      "Epoch 33/50\n",
      "161/161 [==============================] - 47s 293ms/step - loss: 0.4018 - acc: 0.8733 - val_loss: 0.5835 - val_acc: 0.7814\n",
      "Epoch 34/50\n",
      "161/161 [==============================] - 47s 292ms/step - loss: 0.4000 - acc: 0.8682 - val_loss: 0.5911 - val_acc: 0.7814\n",
      "Epoch 35/50\n",
      "161/161 [==============================] - 47s 290ms/step - loss: 0.4010 - acc: 0.8700 - val_loss: 0.5804 - val_acc: 0.7887\n",
      "Epoch 36/50\n",
      "161/161 [==============================] - 47s 291ms/step - loss: 0.3984 - acc: 0.8720 - val_loss: 0.5806 - val_acc: 0.7832\n",
      "Epoch 37/50\n",
      "161/161 [==============================] - 47s 291ms/step - loss: 0.3816 - acc: 0.8792 - val_loss: 0.5855 - val_acc: 0.7832\n",
      "Epoch 38/50\n",
      "161/161 [==============================] - 47s 294ms/step - loss: 0.4120 - acc: 0.8612 - val_loss: 0.5951 - val_acc: 0.7923\n",
      "Epoch 39/50\n",
      "161/161 [==============================] - 47s 293ms/step - loss: 0.3938 - acc: 0.8724 - val_loss: 0.5868 - val_acc: 0.7887\n",
      "Epoch 40/50\n",
      "161/161 [==============================] - 47s 290ms/step - loss: 0.3958 - acc: 0.8667 - val_loss: 0.5799 - val_acc: 0.7851\n",
      "Epoch 41/50\n",
      "161/161 [==============================] - 47s 291ms/step - loss: 0.3562 - acc: 0.8886 - val_loss: 0.5779 - val_acc: 0.7905\n",
      "Epoch 42/50\n",
      "161/161 [==============================] - 47s 292ms/step - loss: 0.3847 - acc: 0.8699 - val_loss: 0.5750 - val_acc: 0.7887\n",
      "Epoch 43/50\n",
      "161/161 [==============================] - 47s 291ms/step - loss: 0.3521 - acc: 0.8864 - val_loss: 0.5764 - val_acc: 0.7905\n",
      "Epoch 44/50\n",
      "161/161 [==============================] - 47s 291ms/step - loss: 0.3498 - acc: 0.8941 - val_loss: 0.5750 - val_acc: 0.7905\n",
      "Epoch 45/50\n",
      "161/161 [==============================] - 47s 290ms/step - loss: 0.3751 - acc: 0.8755 - val_loss: 0.5800 - val_acc: 0.7942\n",
      "Epoch 46/50\n",
      "161/161 [==============================] - 47s 290ms/step - loss: 0.3527 - acc: 0.8863 - val_loss: 0.5730 - val_acc: 0.7869\n",
      "Epoch 47/50\n",
      "161/161 [==============================] - 47s 291ms/step - loss: 0.3693 - acc: 0.8795 - val_loss: 0.5744 - val_acc: 0.7887\n",
      "Epoch 48/50\n",
      "161/161 [==============================] - 47s 291ms/step - loss: 0.3703 - acc: 0.8817 - val_loss: 0.5722 - val_acc: 0.8015\n",
      "Epoch 49/50\n",
      "161/161 [==============================] - 47s 291ms/step - loss: 0.3337 - acc: 0.8973 - val_loss: 0.5867 - val_acc: 0.7978\n",
      "Epoch 50/50\n",
      "161/161 [==============================] - 47s 291ms/step - loss: 0.3279 - acc: 0.9035 - val_loss: 0.5729 - val_acc: 0.7978\n"
     ]
    }
   ],
   "source": [
    "# Fit the model \n",
    "spe=len(train)   # train_size/batch_size\n",
    "epoch_num=PARAMS['n_epochs']\n",
    "val_steps=len(validation)  # validation_size/batch_size\n",
    "\n",
    "\n",
    "history = model.fit(\n",
    "            train,\n",
    "            steps_per_epoch=spe,  \n",
    "            epochs=epoch_num,\n",
    "            validation_data=validation,\n",
    "            validation_steps=val_steps) \n",
    "#model.save(PARAMS['save_model'])"
   ]
  },
  {
   "cell_type": "code",
   "execution_count": 72,
   "id": "olive-payment",
   "metadata": {
    "code_folding": []
   },
   "outputs": [
    {
     "data": {
      "image/png": "[encoded data removed]",
      "text/plain": [
       "<Figure size 432x288 with 1 Axes>"
      ]
     },
     "metadata": {
      "needs_background": "light"
     },
     "output_type": "display_data"
    },
    {
     "data": {
      "image/png": "[encoded data removed]",
      "text/plain": [
       "<Figure size 432x288 with 1 Axes>"
      ]
     },
     "metadata": {
      "needs_background": "light"
     },
     "output_type": "display_data"
    }
   ],
   "source": [
    "#model = load_model('name_of_model_to_load.h5')\n",
    "epoch_num=PARAMS['n_epochs']\n",
    "acc = history.history['acc']\n",
    "val_acc = history.history['val_acc']\n",
    "\n",
    "plt.plot(range(epoch_num), acc, 'b', label='Training accuracy')\n",
    "plt.plot(range(epoch_num), val_acc, 'g', label='Validation accuracy')\n",
    "plt.title('Training and validation accuracy')\n",
    "plt.legend()\n",
    "\n",
    "\n",
    "loss = history.history['loss']\n",
    "val_loss = history.history['val_loss']\n",
    "\n",
    "plt.figure()\n",
    "plt.plot(range(epoch_num), loss, 'b', label='Training loss')\n",
    "plt.plot(range(epoch_num), val_loss, 'g', label='Validation loss')\n",
    "plt.title('Training and validation loss')\n",
    "plt.legend()\n",
    "\n",
    "\n",
    "plt.show()"
   ]
  },
  {
   "cell_type": "code",
   "execution_count": 61,
   "id": "informative-layer",
   "metadata": {},
   "outputs": [
    {
     "name": "stdout",
     "output_type": "stream",
     "text": [
      "35/35 [==============================] - 8s 239ms/step - loss: 0.5942 - acc: 0.8000\n",
      "['loss', 'acc']\n",
      "[0.5941591858863831, 0.800000011920929]\n",
      "\n",
      "Accuracy =  80.0000011920929 %\n"
     ]
    }
   ],
   "source": [
    "test_score = model.evaluate(test)\n",
    "print(model.metrics_names)\n",
    "print(test_score)\n",
    "print()\n",
    "print(\"Accuracy = \",test_score[1]*100,'%')"
   ]
  },
  {
   "cell_type": "code",
   "execution_count": 184,
   "id": "solved-cannon",
   "metadata": {},
   "outputs": [],
   "source": [
    "labels=(train.class_indices)"
   ]
  },
  {
   "cell_type": "code",
   "execution_count": 187,
   "id": "round-hampshire",
   "metadata": {},
   "outputs": [
    {
     "name": "stdout",
     "output_type": "stream",
     "text": [
      "{'daisy': 0, 'dandelion': 1, 'rose': 2, 'sunflower': 3, 'tulip': 4}\n"
     ]
    }
   ],
   "source": [
    "print(labels)"
   ]
  },
  {
   "cell_type": "code",
   "execution_count": 193,
   "id": "plain-vaccine",
   "metadata": {},
   "outputs": [],
   "source": [
    "labels=dict((value,key) for key, value in labels.items())"
   ]
  },
  {
   "cell_type": "code",
   "execution_count": 197,
   "id": "limiting-notion",
   "metadata": {},
   "outputs": [],
   "source": [
    "predicted_class=labels[np.argmax([0,0.87,0.1,0.03,0],axis=-1)]"
   ]
  },
  {
   "cell_type": "code",
   "execution_count": 198,
   "id": "earned-recipient",
   "metadata": {},
   "outputs": [
    {
     "name": "stdout",
     "output_type": "stream",
     "text": [
      "dandelion\n"
     ]
    }
   ],
   "source": [
    "print(predicted_class)"
   ]
  },
  {
   "cell_type": "code",
   "execution_count": null,
   "id": "systematic-letters",
   "metadata": {},
   "outputs": [],
   "source": []
  }
 ],
 "metadata": {
  "kernelspec": {
   "display_name": "Python 3",
   "language": "python",
   "name": "python3"
  },
  "language_info": {
   "codemirror_mode": {
    "name": "ipython",
    "version": 3
   },
   "file_extension": ".py",
   "mimetype": "text/x-python",
   "name": "python",
   "nbconvert_exporter": "python",
   "pygments_lexer": "ipython3",
   "version": "3.6.8"
  },
  "toc": {
   "base_numbering": 1,
   "nav_menu": {},
   "number_sections": true,
   "sideBar": true,
   "skip_h1_title": true,
   "title_cell": "Table of Contents",
   "title_sidebar": "Contents",
   "toc_cell": true,
   "toc_position": {},
   "toc_section_display": true,
   "toc_window_display": false
  },
  "varInspector": {
   "cols": {
    "lenName": 16,
    "lenType": 16,
    "lenVar": 40
   },
   "kernels_config": {
    "python": {
     "delete_cmd_postfix": "",
     "delete_cmd_prefix": "del ",
     "library": "var_list.py",
     "varRefreshCmd": "print(var_dic_list())"
    },
    "r": {
     "delete_cmd_postfix": ") ",
     "delete_cmd_prefix": "rm(",
     "library": "var_list.r",
     "varRefreshCmd": "cat(var_dic_list()) "
    }
   },
   "types_to_exclude": [
    "module",
    "function",
    "builtin_function_or_method",
    "instance",
    "_Feature"
   ],
   "window_display": false
  }
 },
 "nbformat": 4,
 "nbformat_minor": 5
}
