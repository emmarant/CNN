{
 "cells": [
  {
   "cell_type": "code",
   "execution_count": 4,
   "id": "tight-warning",
   "metadata": {},
   "outputs": [
    {
     "name": "stdout",
     "output_type": "stream",
     "text": [
      "2.4.0\n",
      "2.4.1\n"
     ]
    }
   ],
   "source": [
    "import tensorflow\n",
    "from tensorflow import keras\n",
    "from tensorflow.keras import layers\n",
    "from tensorflow.keras import models\n",
    "from tensorflow.keras import optimizers\n",
    "from tensorflow.keras.preprocessing.image import ImageDataGenerator\n",
    "from tensorflow.keras.preprocessing import image\n",
    "import numpy as np\n",
    "import os, shutil\n",
    "from shutil import copyfile\n",
    "import random\n",
    "\n",
    "print(keras.__version__)\n",
    "print(tensorflow.__version__)"
   ]
  },
  {
   "cell_type": "code",
   "execution_count": 10,
   "id": "virtual-inquiry",
   "metadata": {},
   "outputs": [
    {
     "name": "stdout",
     "output_type": "stream",
     "text": [
      "769\r\n"
     ]
    }
   ],
   "source": [
    "!ls ~/Downloads/flowers/flowers/daisy | wc -l"
   ]
  },
  {
   "cell_type": "code",
   "execution_count": null,
   "id": "forced-relaxation",
   "metadata": {},
   "outputs": [],
   "source": [
    "class_data_path='~/data/flower_classification_data'\n",
    "if not os.path.existdas(class_data_path):\n",
    "  os.mkdir(class_data_path)\n",
    "\n",
    "data_types=['train','validation','test']\n",
    "classes=['daisy','dandelion','rose','sunflower','tulip']\n",
    "\n",
    "\n",
    "for dtype in data_types:\n",
    "  for i in classes:\n",
    "    suffix='AA'\n",
    "    directory=str(i)+suffix\n",
    "    path1='~/data/flower_classification_data'\n",
    "    path2=dtype\n",
    "    path3=os.path.join(path1,path2)\n",
    "    if not os.path.exists(path3):\n",
    "      os.mkdir(path3)\n",
    "    path=os.path.join(path3,directory)\n",
    "    if not os.path.exists(path):\n",
    "      os.mkdir(path)      "
   ]
  }
 ],
 "metadata": {
  "kernelspec": {
   "display_name": "Python 3",
   "language": "python",
   "name": "python3"
  },
  "language_info": {
   "codemirror_mode": {
    "name": "ipython",
    "version": 3
   },
   "file_extension": ".py",
   "mimetype": "text/x-python",
   "name": "python",
   "nbconvert_exporter": "python",
   "pygments_lexer": "ipython3",
   "version": "3.6.8"
  },
  "varInspector": {
   "cols": {
    "lenName": 16,
    "lenType": 16,
    "lenVar": 40
   },
   "kernels_config": {
    "python": {
     "delete_cmd_postfix": "",
     "delete_cmd_prefix": "del ",
     "library": "var_list.py",
     "varRefreshCmd": "print(var_dic_list())"
    },
    "r": {
     "delete_cmd_postfix": ") ",
     "delete_cmd_prefix": "rm(",
     "library": "var_list.r",
     "varRefreshCmd": "cat(var_dic_list()) "
    }
   },
   "types_to_exclude": [
    "module",
    "function",
    "builtin_function_or_method",
    "instance",
    "_Feature"
   ],
   "window_display": false
  }
 },
 "nbformat": 4,
 "nbformat_minor": 5
}
