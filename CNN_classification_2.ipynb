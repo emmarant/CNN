{
 "cells": [
  {
   "cell_type": "markdown",
   "id": "opened-clerk",
   "metadata": {
    "toc": true
   },
   "source": [
    "<h1>Table of Contents<span class=\"tocSkip\"></span></h1>\n",
    "<div class=\"toc\"><ul class=\"toc-item\"><li><ul class=\"toc-item\"><li><span><a href=\"#Steps:\" data-toc-modified-id=\"Steps:-0.1\"><span class=\"toc-item-num\">0.1&nbsp;&nbsp;</span>Steps:</a></span></li><li><span><a href=\"#General\" data-toc-modified-id=\"General-0.2\"><span class=\"toc-item-num\">0.2&nbsp;&nbsp;</span>General</a></span></li></ul></li><li><span><a href=\"#DATA\" data-toc-modified-id=\"DATA-1\"><span class=\"toc-item-num\">1&nbsp;&nbsp;</span>DATA</a></span><ul class=\"toc-item\"><li><span><a href=\"#Data-directories\" data-toc-modified-id=\"Data-directories-1.1\"><span class=\"toc-item-num\">1.1&nbsp;&nbsp;</span>Data directories</a></span></li></ul></li><li><span><a href=\"#Model\" data-toc-modified-id=\"Model-2\"><span class=\"toc-item-num\">2&nbsp;&nbsp;</span>Model</a></span><ul class=\"toc-item\"><li><span><a href=\"#Define-the-model-layers\" data-toc-modified-id=\"Define-the-model-layers-2.1\"><span class=\"toc-item-num\">2.1&nbsp;&nbsp;</span>Define the model layers</a></span></li><li><span><a href=\"#Compile-the-model\" data-toc-modified-id=\"Compile-the-model-2.2\"><span class=\"toc-item-num\">2.2&nbsp;&nbsp;</span>Compile the model</a></span><ul class=\"toc-item\"><li><span><a href=\"#Model-summary\" data-toc-modified-id=\"Model-summary-2.2.1\"><span class=\"toc-item-num\">2.2.1&nbsp;&nbsp;</span>Model summary</a></span></li><li><span><a href=\"#Plot-a-graph-of-the-model-architecture\" data-toc-modified-id=\"Plot-a-graph-of-the-model-architecture-2.2.2\"><span class=\"toc-item-num\">2.2.2&nbsp;&nbsp;</span>Plot a graph of the model architecture</a></span></li></ul></li><li><span><a href=\"#Train-the-model\" data-toc-modified-id=\"Train-the-model-2.3\"><span class=\"toc-item-num\">2.3&nbsp;&nbsp;</span>Train the model</a></span></li><li><span><a href=\"#Plot--the-learning-curves\" data-toc-modified-id=\"Plot--the-learning-curves-2.4\"><span class=\"toc-item-num\">2.4&nbsp;&nbsp;</span>Plot  the learning curves</a></span></li><li><span><a href=\"#Test-model-on-'test'-dataset\" data-toc-modified-id=\"Test-model-on-'test'-dataset-2.5\"><span class=\"toc-item-num\">2.5&nbsp;&nbsp;</span>Test model on <em>'test'</em> dataset</a></span></li></ul></li><li><span><a href=\"#Dropout\" data-toc-modified-id=\"Dropout-3\"><span class=\"toc-item-num\">3&nbsp;&nbsp;</span>Dropout</a></span></li><li><span><a href=\"#Augmentation\" data-toc-modified-id=\"Augmentation-4\"><span class=\"toc-item-num\">4&nbsp;&nbsp;</span>Augmentation</a></span></li><li><span><a href=\"#Transfer-learning\" data-toc-modified-id=\"Transfer-learning-5\"><span class=\"toc-item-num\">5&nbsp;&nbsp;</span>Transfer learning</a></span></li></ul></div>"
   ]
  },
  {
   "cell_type": "markdown",
   "id": "fuzzy-parts",
   "metadata": {},
   "source": [
    "# Classification with Convolutional Neural Networks\n"
   ]
  },
  {
   "cell_type": "markdown",
   "id": "ranking-formula",
   "metadata": {},
   "source": [
    "The aim of this notebook is to showcase in practice - i.e. in code - how to build a simple CNN for the purpose of classifying image data.\n",
    "\n",
    "The dataset used is intentionally a relatively small dataset, for the sake of time economy, but also in order to reduce the computational resources required.\n",
    "\n",
    "\n",
    "Remember: https://keras.io is a useful source of information regarding Keras and Tensorflow.\n"
   ]
  },
  {
   "cell_type": "markdown",
   "id": "corresponding-marijuana",
   "metadata": {},
   "source": [
    "###  Steps:\n",
    "\n",
    "1) DATA. As a first step we will load the original data and divide the available images into three datasets (training, validation, test). \n",
    "\n",
    "2) MODEL. Build the network architecture: this is the part where we put together the code which: describes the neural network, processes the images, and feeds the images into the network for training.\n",
    "\n",
    "3) LEARNING CURVES. Once the training is finished, plot the performance of the trained model \n",
    "\n",
    "4) DROPOUT. A first effort to improve the performance of the model (if we observed overfitting earlier).\n",
    "\n",
    "5) AUGMENTATION. Another way to improve model accuracy or avoid overfitting\n",
    "\n",
    "6) TRANSFER LEARNING. \n",
    "\n"
   ]
  },
  {
   "cell_type": "markdown",
   "id": "related-playlist",
   "metadata": {},
   "source": [
    "### General\n",
    "\n",
    "Let's start by importing **various useful** libraries in one go. \n",
    "We also check the versions of keras and tensorflow he have in our disposal (because we can).\n",
    "If more libraries become needed later on, come back to the cell below and add them here."
   ]
  },
  {
   "cell_type": "code",
   "execution_count": 8,
   "id": "vertical-chrome",
   "metadata": {},
   "outputs": [
    {
     "name": "stdout",
     "output_type": "stream",
     "text": [
      "2.4.0\n",
      "2.4.1\n"
     ]
    }
   ],
   "source": [
    "import tensorflow\n",
    "from tensorflow import keras\n",
    "from tensorflow.keras import layers\n",
    "from tensorflow.keras import models\n",
    "from tensorflow.keras import optimizers\n",
    "from tensorflow.keras.preprocessing.image import ImageDataGenerator\n",
    "from tensorflow.keras.preprocessing import image\n",
    "import numpy as np\n",
    "import os, shutil\n",
    "from shutil import copyfile\n",
    "import random\n",
    "import matplotlib.pyplot as plt\n",
    "from tensorflow.keras.models import load_model\n",
    "\n",
    "print(keras.__version__)\n",
    "print(tensorflow.__version__)"
   ]
  },
  {
   "cell_type": "markdown",
   "id": "existing-patent",
   "metadata": {},
   "source": [
    "## DATA\n",
    "\n",
    "\n",
    "We will use an existing dataset, dowloaded from kaggle (https://www.kaggle.com/alxmamaev/flowers-recognition)\n",
    "\n",
    "This is a set of images of 5 different types of flowers. \n",
    "\n"
   ]
  },
  {
   "cell_type": "markdown",
   "id": "meaningful-indonesian",
   "metadata": {},
   "source": [
    "### Data directories\n",
    "\n",
    "**Create a hierarchy of directories**, with seperate directories for *training*,  *validation*, and *test* datasets. Each of these will contain a subdirectory for each *class*.\n",
    "\n",
    "_Important_: __obviously, building the datasets only needs to be done once.__ "
   ]
  },
  {
   "cell_type": "code",
   "execution_count": 9,
   "id": "dying-numbers",
   "metadata": {},
   "outputs": [],
   "source": [
    "# In the line below define a 'base' name of an existing directory where you want to store \n",
    "# the original folder with the images and the datasets you are about to create.\n",
    "# Something like:  base = '/mnt/ceph/home/r1111683/data'\n",
    "\n",
    "base='/mnt/ceph/home/r1111683/data'"
   ]
  },
  {
   "cell_type": "code",
   "execution_count": 10,
   "id": "binary-chicken",
   "metadata": {
    "code_folding": []
   },
   "outputs": [],
   "source": [
    "# define the directory to store the datasets\n",
    "classification_data_path=os.path.join(base + '/natural_images_classification') \n",
    "\n",
    "# create that directory\n",
    "if not os.path.exists(classification_data_path):\n",
    "  os.mkdir(classification_data_path)\n",
    "\n",
    "# define datasets (i.e. subdirs within the 'base' dir) and define classes (i.e. sub-subdirs for each of the dataset directories)\n",
    "datasets=['train','validation','test']\n",
    "classes=['airplane','car','cat','dog','flower','fruit','motorbike','person']\n",
    "\n",
    "# create that hierarchy of dirs and subdirs\n",
    "for dtype in datasets:\n",
    "  path_set=os.path.join(classification_data_path,dtype)\n",
    "  if not os.path.exists(path_set):\n",
    "    os.mkdir(path_set)\n",
    "  for c in classes:\n",
    "    path_class=os.path.join(path_set,c)\n",
    "    if not os.path.exists(path_class):\n",
    "      os.mkdir(path_class)      "
   ]
  },
  {
   "cell_type": "code",
   "execution_count": 17,
   "id": "ambient-continent",
   "metadata": {},
   "outputs": [],
   "source": [
    "# Function  - named 'pop_dirs' - for splitting the data into train, validation, and test data (after shuffling them) \n",
    "# and populating the directory tree created above.\n",
    "\n",
    "def pop_dirs(SOURCE, TRAINING, VALIDATION, TEST, SPLIT_SIZE):\n",
    "    # create list of all files in the SOURCE directory\n",
    "    files = []\n",
    "    for filename in os.listdir(SOURCE):\n",
    "        file = SOURCE + filename\n",
    "        if os.path.getsize(file) > 0:\n",
    "            files.append(filename)\n",
    "        else:\n",
    "            print(filename + \" is zero length, will skip.\")\n",
    "\n",
    "            \n",
    "            \n",
    "    training_length = int(len(files) * SPLIT_SIZE)               \n",
    "    validation_length = int((len(files) - training_length)/2.0)\n",
    "    test_length = validation_length\n",
    "    shuffled_set = random.sample(files, len(files))\n",
    "    training_set = shuffled_set[0:training_length]\n",
    "    validation_set = shuffled_set[training_length:training_length+validation_length]\n",
    "    test_set = shuffled_set[training_length+validation_length:training_length+validation_length+test_length]\n",
    "\n",
    "    for filename in training_set:\n",
    "        this_file = SOURCE + filename\n",
    "        destination = TRAINING + filename\n",
    "        copyfile(this_file, destination)\n",
    "\n",
    "    for filename in validation_set:\n",
    "        this_file = SOURCE + filename\n",
    "        destination = VALIDATION + filename\n",
    "        copyfile(this_file, destination)\n",
    "\n",
    "    for filename in test_set:\n",
    "        this_file = SOURCE + filename\n",
    "        destination = TEST + filename\n",
    "        copyfile(this_file, destination)"
   ]
  },
  {
   "cell_type": "code",
   "execution_count": 18,
   "id": "under-merit",
   "metadata": {},
   "outputs": [
    {
     "name": "stdout",
     "output_type": "stream",
     "text": [
      "Copyting data FROM:\n",
      "/mnt/ceph/home/r1111683/data/natural_images/airplane/\n",
      "TO:\n",
      "/mnt/ceph/home/r1111683/data/natural_images_classification/train/airplane/\n",
      "/mnt/ceph/home/r1111683/data/natural_images_classification/validation/airplane/\n",
      "/mnt/ceph/home/r1111683/data/natural_images_classification/test/airplane/\n",
      "\n",
      "\n",
      "Copyting data FROM:\n",
      "/mnt/ceph/home/r1111683/data/natural_images/car/\n",
      "TO:\n",
      "/mnt/ceph/home/r1111683/data/natural_images_classification/train/car/\n",
      "/mnt/ceph/home/r1111683/data/natural_images_classification/validation/car/\n",
      "/mnt/ceph/home/r1111683/data/natural_images_classification/test/car/\n",
      "\n",
      "\n",
      "Copyting data FROM:\n",
      "/mnt/ceph/home/r1111683/data/natural_images/cat/\n",
      "TO:\n",
      "/mnt/ceph/home/r1111683/data/natural_images_classification/train/cat/\n",
      "/mnt/ceph/home/r1111683/data/natural_images_classification/validation/cat/\n",
      "/mnt/ceph/home/r1111683/data/natural_images_classification/test/cat/\n",
      "\n",
      "\n",
      "Copyting data FROM:\n",
      "/mnt/ceph/home/r1111683/data/natural_images/dog/\n",
      "TO:\n",
      "/mnt/ceph/home/r1111683/data/natural_images_classification/train/dog/\n",
      "/mnt/ceph/home/r1111683/data/natural_images_classification/validation/dog/\n",
      "/mnt/ceph/home/r1111683/data/natural_images_classification/test/dog/\n",
      "\n",
      "\n",
      "Copyting data FROM:\n",
      "/mnt/ceph/home/r1111683/data/natural_images/flower/\n",
      "TO:\n",
      "/mnt/ceph/home/r1111683/data/natural_images_classification/train/flower/\n",
      "/mnt/ceph/home/r1111683/data/natural_images_classification/validation/flower/\n",
      "/mnt/ceph/home/r1111683/data/natural_images_classification/test/flower/\n",
      "\n",
      "\n",
      "Copyting data FROM:\n",
      "/mnt/ceph/home/r1111683/data/natural_images/fruit/\n",
      "TO:\n",
      "/mnt/ceph/home/r1111683/data/natural_images_classification/train/fruit/\n",
      "/mnt/ceph/home/r1111683/data/natural_images_classification/validation/fruit/\n",
      "/mnt/ceph/home/r1111683/data/natural_images_classification/test/fruit/\n",
      "\n",
      "\n",
      "Copyting data FROM:\n",
      "/mnt/ceph/home/r1111683/data/natural_images/motorbike/\n",
      "TO:\n",
      "/mnt/ceph/home/r1111683/data/natural_images_classification/train/motorbike/\n",
      "/mnt/ceph/home/r1111683/data/natural_images_classification/validation/motorbike/\n",
      "/mnt/ceph/home/r1111683/data/natural_images_classification/test/motorbike/\n",
      "\n",
      "\n",
      "Copyting data FROM:\n",
      "/mnt/ceph/home/r1111683/data/natural_images/person/\n",
      "TO:\n",
      "/mnt/ceph/home/r1111683/data/natural_images_classification/train/person/\n",
      "/mnt/ceph/home/r1111683/data/natural_images_classification/validation/person/\n",
      "/mnt/ceph/home/r1111683/data/natural_images_classification/test/person/\n",
      "\n",
      "\n"
     ]
    }
   ],
   "source": [
    "# The actual copying of files from the 'data' folder into the folder hierarchy created earlier. \n",
    "\n",
    "j=0\n",
    "# fraction of data (from 0.0 to 1.0) to be used as training data. The rest will be split equally a\n",
    "split_size = .75   \n",
    "\n",
    "\n",
    "for c in classes:\n",
    "\n",
    "  src_path=os.path.join(base,'natural_images',c)+'/'\n",
    "\n",
    "  train_path=os.path.join(classification_data_path,'train',c)+'/' \n",
    "  validation_path=os.path.join(classification_data_path,'validation',c)+'/'\n",
    "  test_path=os.path.join(classification_data_path,'test',c)+'/'\n",
    "\n",
    "  print('Copyting data FROM:')\n",
    "  print(src_path)\n",
    "  print('TO:')\n",
    "  print(train_path)\n",
    "  print(validation_path)\n",
    "  print(test_path)\n",
    "  print('\\n')  \n",
    "    \n",
    "  pop_dirs(src_path, train_path, validation_path, test_path, split_size)\n",
    "  j+=1\n"
   ]
  },
  {
   "cell_type": "markdown",
   "id": "corrected-treat",
   "metadata": {},
   "source": [
    "Check the number of images for each dataset and each class"
   ]
  },
  {
   "cell_type": "code",
   "execution_count": 11,
   "id": "diagnostic-intellectual",
   "metadata": {},
   "outputs": [
    {
     "name": "stdout",
     "output_type": "stream",
     "text": [
      "number of train images in airplane : 526\n",
      "number of train images in car : 526\n",
      "number of train images in cat : 527\n",
      "number of train images in dog : 526\n",
      "number of train images in flower : 526\n",
      "number of train images in fruit : 526\n",
      "number of train images in motorbike : 526\n",
      "number of train images in person : 526\n",
      "number of validation images in airplane : 88\n",
      "number of validation images in car : 88\n",
      "number of validation images in cat : 88\n",
      "number of validation images in dog : 88\n",
      "number of validation images in flower : 88\n",
      "number of validation images in fruit : 88\n",
      "number of validation images in motorbike : 88\n",
      "number of validation images in person : 88\n",
      "number of test images in airplane : 88\n",
      "number of test images in car : 88\n",
      "number of test images in cat : 88\n",
      "number of test images in dog : 88\n",
      "number of test images in flower : 88\n",
      "number of test images in fruit : 88\n",
      "number of test images in motorbike : 88\n",
      "number of test images in person : 88\n"
     ]
    }
   ],
   "source": [
    "datasets=['train','validation','test']\n",
    "classes=['airplane','car','cat','dog','flower','fruit','motorbike','person']\n",
    "\n",
    "for dset in datasets:\n",
    "  for c in classes:\n",
    "    path=os.path.join(base,'natural_images_classification',dset,c)\n",
    "    print('number of',  dset,  'images in', c,':', len(os.listdir(path)))"
   ]
  },
  {
   "cell_type": "markdown",
   "id": "flying-remark",
   "metadata": {},
   "source": [
    "## Model\n",
    "\n",
    "This section containes the code for the CNN model"
   ]
  },
  {
   "cell_type": "code",
   "execution_count": 24,
   "id": "micro-mitchell",
   "metadata": {},
   "outputs": [],
   "source": [
    "# Run ONLY when clearing of the session is needed\n",
    "\n",
    "tensorflow.keras.backend.clear_session()"
   ]
  },
  {
   "cell_type": "code",
   "execution_count": 25,
   "id": "competent-allen",
   "metadata": {},
   "outputs": [],
   "source": [
    "# Place needed and updatable parameters in a dictionary for easy access and change\n",
    "PARAMS = {'lr': 1e-3, # Learning Rate\n",
    "          'dropout': 0.0,\n",
    "          'batch_size': 128,\n",
    "          'n_epochs': 20,\n",
    "          'loss': 'categorical_crossentropy',\n",
    "          'metrics': 'acc', # accuracy\n",
    "          'image_input_shape' : (80,80,3),\n",
    "          'save_model' : 'classification_1.h5'\n",
    "          }"
   ]
  },
  {
   "cell_type": "code",
   "execution_count": 26,
   "id": "accomplished-inspector",
   "metadata": {},
   "outputs": [
    {
     "name": "stdout",
     "output_type": "stream",
     "text": [
      "Found 4204 images belonging to 8 classes.\n",
      "Found 701 images belonging to 8 classes.\n",
      "Found 704 images belonging to 8 classes.\n"
     ]
    }
   ],
   "source": [
    "# Use the ImageDataGenerator class from Keras, and its flow_from_directory method to generate shuffled data batches\n",
    "\n",
    "train_datagen = ImageDataGenerator(rescale = 1.0/255.)#,horizontal_flip=True,zoom_range=0.2,rotation_range=20,width_shift_range=0.1,height_shift_range=0.1)\n",
    "validation_datagen = ImageDataGenerator(rescale = 1.0/255.)\n",
    "test_datagen = ImageDataGenerator(rescale = 1.0/255.)\n",
    "\n",
    "train = train_datagen.flow_from_directory(\n",
    "        classification_data_path+'/train',\n",
    "        target_size=(80, 80),\n",
    "        batch_size=PARAMS['batch_size'],\n",
    "        class_mode='categorical') \n",
    "\n",
    "validation = validation_datagen.flow_from_directory(\n",
    "        classification_data_path+'/validation',\n",
    "        target_size=(80, 80),\n",
    "        batch_size=PARAMS['batch_size'],\n",
    "        class_mode='categorical')\n",
    "\n",
    "\n",
    "test = test_datagen.flow_from_directory(\n",
    "        classification_data_path+'/test',\n",
    "        target_size=(80, 80),\n",
    "        batch_size=PARAMS['batch_size'],\n",
    "        class_mode='categorical')"
   ]
  },
  {
   "cell_type": "code",
   "execution_count": 27,
   "id": "developed-escape",
   "metadata": {},
   "outputs": [
    {
     "name": "stdout",
     "output_type": "stream",
     "text": [
      "Image batches have shape: (128, 80, 80, 3)\n",
      "Label batches have shape: (128, 8)\n"
     ]
    }
   ],
   "source": [
    "# Check the sizes of the image and label batches (useful for debugging size errors)\n",
    "for images_batch, labels_batch in train:\n",
    "    print('Image batches have shape:', images_batch.shape)\n",
    "    print('Label batches have shape:', labels_batch.shape)\n",
    "    break"
   ]
  },
  {
   "cell_type": "markdown",
   "id": "associate-bronze",
   "metadata": {},
   "source": [
    "### Define the model layers\n"
   ]
  },
  {
   "cell_type": "markdown",
   "id": "social-morning",
   "metadata": {},
   "source": [
    "Use Conv2D layers, each of wich will be followed by MaxPooling2D layer. \n",
    "\n",
    "- How many Conv2D layers to use? (in this case **3 is a good guess** to start with)\n",
    "- Number of filters for each? (powers of two typically used, with number of filters typically increassing in deeper layers, i.e. 32,64,128)\n",
    "- Size of these filters? 3x3, or 5x5, or 7x7 are typical values (start with **3x3**)\n",
    "- A Flatten layer should be added after the last Conv2D layer \n",
    "- Last layer should be a Dense layer with a 'softmax' activation, as we are building a 'classification' model\n",
    "- It is likely that more Dense layers can be added between the Flatten and the last Dense layer (the classifier).\n"
   ]
  },
  {
   "cell_type": "markdown",
   "id": "round-defeat",
   "metadata": {},
   "source": [
    "<font color='blue'> **Task 1:**\n",
    "+ Build the CNN, by adding the necessary sequence of layers: use what was discussed in the lecture and in the text just above as quide\n",
    "</font>"
   ]
  },
  {
   "cell_type": "code",
   "execution_count": 28,
   "id": "peaceful-theme",
   "metadata": {},
   "outputs": [],
   "source": [
    "# The model layers\n",
    "\n",
    "model = models.Sequential()\n",
    "model.add(layers.Conv2D(32, (3, 3), activation='relu',\n",
    "                        input_shape=PARAMS['image_input_shape']))\n",
    "model.add(layers.MaxPooling2D((2, 2)))\n",
    "model.add(layers.Conv2D(64, (3, 3), activation='relu'))\n",
    "model.add(layers.MaxPooling2D((2, 2)))\n",
    "model.add(layers.Conv2D(128, (3, 3), activation='relu'))\n",
    "model.add(layers.MaxPooling2D((2, 2)))\n",
    "#model.add(layers.Conv2D(256, (3, 3), activation='relu'))\n",
    "#model.add(layers.MaxPooling2D((2, 2)))\n",
    "model.add(layers.Flatten())\n",
    "model.add(layers.Dense(512,activation='relu'))\n",
    "model.add(layers.Dense(8, activation='softmax'))"
   ]
  },
  {
   "cell_type": "markdown",
   "id": "indian-mercury",
   "metadata": {},
   "source": [
    "### Compile the model"
   ]
  },
  {
   "cell_type": "code",
   "execution_count": 29,
   "id": "flush-patent",
   "metadata": {},
   "outputs": [],
   "source": [
    "model.compile(loss=PARAMS['loss'],\n",
    "              optimizer=optimizers.Adam(lr=PARAMS['lr']),\n",
    "              metrics=[PARAMS['metrics']])"
   ]
  },
  {
   "cell_type": "markdown",
   "id": "secret-drilling",
   "metadata": {},
   "source": [
    "#### Model summary\n",
    "\n",
    "Draw a summary of each layer of the model."
   ]
  },
  {
   "cell_type": "code",
   "execution_count": 30,
   "id": "computational-proportion",
   "metadata": {},
   "outputs": [
    {
     "name": "stdout",
     "output_type": "stream",
     "text": [
      "Model: \"sequential\"\n",
      "_________________________________________________________________\n",
      "Layer (type)                 Output Shape              Param #   \n",
      "=================================================================\n",
      "conv2d (Conv2D)              (None, 78, 78, 32)        896       \n",
      "_________________________________________________________________\n",
      "max_pooling2d (MaxPooling2D) (None, 39, 39, 32)        0         \n",
      "_________________________________________________________________\n",
      "conv2d_1 (Conv2D)            (None, 37, 37, 64)        18496     \n",
      "_________________________________________________________________\n",
      "max_pooling2d_1 (MaxPooling2 (None, 18, 18, 64)        0         \n",
      "_________________________________________________________________\n",
      "conv2d_2 (Conv2D)            (None, 16, 16, 128)       73856     \n",
      "_________________________________________________________________\n",
      "max_pooling2d_2 (MaxPooling2 (None, 8, 8, 128)         0         \n",
      "_________________________________________________________________\n",
      "flatten (Flatten)            (None, 8192)              0         \n",
      "_________________________________________________________________\n",
      "dense (Dense)                (None, 512)               4194816   \n",
      "_________________________________________________________________\n",
      "dense_1 (Dense)              (None, 8)                 4104      \n",
      "=================================================================\n",
      "Total params: 4,292,168\n",
      "Trainable params: 4,292,168\n",
      "Non-trainable params: 0\n",
      "_________________________________________________________________\n"
     ]
    }
   ],
   "source": [
    "model.summary()"
   ]
  },
  {
   "cell_type": "markdown",
   "id": "bright-toronto",
   "metadata": {},
   "source": [
    "#### Plot a graph of the model architecture"
   ]
  },
  {
   "cell_type": "code",
   "execution_count": 21,
   "id": "prospective-pitch",
   "metadata": {},
   "outputs": [
    {
     "name": "stdout",
     "output_type": "stream",
     "text": [
      "('Failed to import pydot. You must `pip install pydot` and install graphviz (https://graphviz.gitlab.io/download/), ', 'for `pydotprint` to work.')\n"
     ]
    }
   ],
   "source": [
    "# create a graph of the model layers\n",
    "from tensorflow.keras.utils import plot_model\n",
    "plot_model(model, to_file='model.png',show_shapes=True,rankdir='TB',show_layer_names=True)"
   ]
  },
  {
   "cell_type": "markdown",
   "id": "monthly-threat",
   "metadata": {},
   "source": [
    "### Train the model"
   ]
  },
  {
   "cell_type": "code",
   "execution_count": 31,
   "id": "opposed-editing",
   "metadata": {},
   "outputs": [
    {
     "name": "stdout",
     "output_type": "stream",
     "text": [
      "Epoch 1/20\n",
      "33/33 [==============================] - 13s 374ms/step - loss: 1.7339 - acc: 0.3820 - val_loss: 0.7290 - val_acc: 0.7546\n",
      "Epoch 2/20\n",
      "33/33 [==============================] - 12s 368ms/step - loss: 0.6289 - acc: 0.7593 - val_loss: 0.4580 - val_acc: 0.8188\n",
      "Epoch 3/20\n",
      "33/33 [==============================] - 12s 368ms/step - loss: 0.3816 - acc: 0.8706 - val_loss: 0.4062 - val_acc: 0.8516\n",
      "Epoch 4/20\n",
      "33/33 [==============================] - 12s 366ms/step - loss: 0.2921 - acc: 0.8906 - val_loss: 0.4270 - val_acc: 0.8474\n",
      "Epoch 5/20\n",
      "33/33 [==============================] - 12s 365ms/step - loss: 0.2505 - acc: 0.9117 - val_loss: 0.3113 - val_acc: 0.8759\n",
      "Epoch 6/20\n",
      "33/33 [==============================] - 12s 367ms/step - loss: 0.1838 - acc: 0.9354 - val_loss: 0.3730 - val_acc: 0.8659\n",
      "Epoch 7/20\n",
      "33/33 [==============================] - 12s 367ms/step - loss: 0.1483 - acc: 0.9473 - val_loss: 0.2929 - val_acc: 0.8973\n",
      "Epoch 8/20\n",
      "33/33 [==============================] - 12s 365ms/step - loss: 0.0781 - acc: 0.9744 - val_loss: 0.3341 - val_acc: 0.8873\n",
      "Epoch 9/20\n",
      "33/33 [==============================] - 12s 368ms/step - loss: 0.0718 - acc: 0.9744 - val_loss: 0.3128 - val_acc: 0.8987\n",
      "Epoch 10/20\n",
      "33/33 [==============================] - 12s 372ms/step - loss: 0.0429 - acc: 0.9885 - val_loss: 0.3876 - val_acc: 0.8873\n",
      "Epoch 11/20\n",
      "33/33 [==============================] - 12s 369ms/step - loss: 0.0510 - acc: 0.9819 - val_loss: 0.2984 - val_acc: 0.9073\n",
      "Epoch 12/20\n",
      "33/33 [==============================] - 12s 362ms/step - loss: 0.0210 - acc: 0.9944 - val_loss: 0.3662 - val_acc: 0.8987\n",
      "Epoch 13/20\n",
      "33/33 [==============================] - 12s 366ms/step - loss: 0.0207 - acc: 0.9952 - val_loss: 0.4297 - val_acc: 0.8987\n",
      "Epoch 14/20\n",
      "33/33 [==============================] - 12s 365ms/step - loss: 0.0147 - acc: 0.9968 - val_loss: 0.4041 - val_acc: 0.9058\n",
      "Epoch 15/20\n",
      "33/33 [==============================] - 12s 366ms/step - loss: 0.0081 - acc: 0.9991 - val_loss: 0.4659 - val_acc: 0.9016\n",
      "Epoch 16/20\n",
      "33/33 [==============================] - 12s 368ms/step - loss: 0.0308 - acc: 0.9905 - val_loss: 0.3749 - val_acc: 0.9073\n",
      "Epoch 17/20\n",
      "33/33 [==============================] - 12s 364ms/step - loss: 0.0103 - acc: 0.9987 - val_loss: 0.3965 - val_acc: 0.8973\n",
      "Epoch 18/20\n",
      "33/33 [==============================] - 12s 364ms/step - loss: 0.0044 - acc: 0.9998 - val_loss: 0.5128 - val_acc: 0.8930\n",
      "Epoch 19/20\n",
      "33/33 [==============================] - 12s 365ms/step - loss: 0.0092 - acc: 0.9971 - val_loss: 0.5197 - val_acc: 0.8845\n",
      "Epoch 20/20\n",
      "33/33 [==============================] - 12s 366ms/step - loss: 0.0736 - acc: 0.9770 - val_loss: 0.4082 - val_acc: 0.8787\n"
     ]
    }
   ],
   "source": [
    "# Fit (i.e train) the model \n",
    "\n",
    "spe=len(train)   # Steps Per Epoch: train_size/batch_size\n",
    "epoch_num=PARAMS['n_epochs']\n",
    "val_steps=len(validation)  # validation_size/batch_size\n",
    "\n",
    "\n",
    "history = model.fit(\n",
    "            train,\n",
    "            steps_per_epoch=spe,  \n",
    "            epochs=epoch_num,\n",
    "            validation_data=validation,\n",
    "            validation_steps=val_steps) \n",
    "\n",
    "\n",
    "# To save the output of the model, uncomment the line below.\n",
    "#model.save(PARAMS['save_model'])"
   ]
  },
  {
   "cell_type": "markdown",
   "id": "ethical-appraisal",
   "metadata": {},
   "source": [
    "### Plot  the learning curves "
   ]
  },
  {
   "cell_type": "code",
   "execution_count": 32,
   "id": "abstract-guidance",
   "metadata": {},
   "outputs": [
    {
     "data": {
      "image/png": "[encoded data removed]",
      "text/plain": [
       "<Figure size 432x288 with 1 Axes>"
      ]
     },
     "metadata": {
      "needs_background": "light"
     },
     "output_type": "display_data"
    },
    {
     "data": {
      "image/png": "[encoded data removed]",
      "text/plain": [
       "<Figure size 432x288 with 1 Axes>"
      ]
     },
     "metadata": {
      "needs_background": "light"
     },
     "output_type": "display_data"
    }
   ],
   "source": [
    "# Check the progress of the training, by plotting the Learning Curves:\n",
    "# a) Accuracy of the model on the train and validation datasets as a function of epochs (time)\n",
    "# b) Value of loss function on train and validation datasets as a function of epochs\n",
    "\n",
    "# if the model was saved from an earlier run, uncomment the line below to load it\n",
    "#model = load_model('name_of_model_to_load.h5')\n",
    "\n",
    "epoch_num=PARAMS['n_epochs']\n",
    "acc = history.history['acc']\n",
    "val_acc = history.history['val_acc']\n",
    "\n",
    "plt.plot(range(epoch_num), acc, 'b', label='Training accuracy')\n",
    "plt.plot(range(epoch_num), val_acc, 'g', label='Validation accuracy')\n",
    "plt.title('Training and validation accuracy')\n",
    "plt.legend()\n",
    "\n",
    "\n",
    "loss = history.history['loss']\n",
    "val_loss = history.history['val_loss']\n",
    "\n",
    "plt.figure()\n",
    "plt.plot(range(epoch_num), loss, 'b', label='Training loss')\n",
    "plt.plot(range(epoch_num), val_loss, 'g', label='Validation loss')\n",
    "plt.title('Training and validation loss')\n",
    "plt.legend()\n",
    "\n",
    "\n",
    "plt.show()"
   ]
  },
  {
   "cell_type": "markdown",
   "id": "downtown-holocaust",
   "metadata": {},
   "source": [
    "### Test model on *'test'* dataset\n",
    "\n",
    "As a final step on checking the performance of the model, we run the trained model on the third dataset, the 'test' dataset. (These are data that our model has not seen yet).\n"
   ]
  },
  {
   "cell_type": "code",
   "execution_count": 115,
   "id": "bound-canadian",
   "metadata": {},
   "outputs": [
    {
     "name": "stdout",
     "output_type": "stream",
     "text": [
      "6/6 [==============================] - 7s 1s/step - loss: 0.1784 - acc: 0.9460\n",
      "['loss', 'acc']\n",
      "[0.17836488783359528, 0.9460227489471436]\n",
      "\n",
      "Accuracy =  94.60227489471436 %\n"
     ]
    }
   ],
   "source": [
    "test_score = model.evaluate(test)\n",
    "print(model.metrics_names)\n",
    "print(test_score)\n",
    "print()\n",
    "print(\"Accuracy = \",test_score[1]*100,'%')"
   ]
  },
  {
   "cell_type": "markdown",
   "id": "dependent-shooting",
   "metadata": {},
   "source": [
    "## Dropout\n",
    "\n",
    "\n",
    "One way to overcome overfitting of the model is to add one or more Dropout layers in the model.\n",
    "\n",
    "A 'Dropout' layer will randomly drop-out (i.e. remove) a user-defined number of nodes (i.e. connections) between two layers.\n",
    "\n",
    "Adding a dropout layer looks like this:\n",
    "    *model.add(layers.Dropout(0.5))*\n",
    "The argument of Dropout is a number from 0.0 to 1.0 which corresponds to the fraction of nodes to **remove** . \n",
    "\n",
    "A typical value  is around 0.5-0.6 (i.e. 50-60% or the nodes removed).\n"
   ]
  },
  {
   "cell_type": "markdown",
   "id": "together-envelope",
   "metadata": {},
   "source": [
    "<font color='blue'>**Task 2**\n",
    "Add a Dropout Layer (or try adding more that one) in the model you created earlier and train the model again.\n",
    "    \n",
    "**NOTE:** \n",
    " + remember to clear the session with the command available at the beginning of Section 2\n",
    " + must run again the cell with the model architecture, and compile the model again before fitting the new architecture.   \n",
    "</font>\n"
   ]
  },
  {
   "cell_type": "code",
   "execution_count": null,
   "id": "democratic-merchandise",
   "metadata": {},
   "outputs": [],
   "source": [
    "# clear the session\n",
    "\n",
    "### add code here"
   ]
  },
  {
   "cell_type": "code",
   "execution_count": null,
   "id": "adolescent-funds",
   "metadata": {},
   "outputs": [],
   "source": [
    "# model layers\n",
    "# use the previous model PLUS a dropout layer\n",
    "\n",
    "\n",
    "### add code here"
   ]
  },
  {
   "cell_type": "code",
   "execution_count": null,
   "id": "amended-coaching",
   "metadata": {},
   "outputs": [],
   "source": [
    "# compile the model\n",
    "\n",
    "### add code here"
   ]
  },
  {
   "cell_type": "code",
   "execution_count": null,
   "id": "sustained-flavor",
   "metadata": {},
   "outputs": [],
   "source": [
    "# fit the model\n",
    "\n",
    "### add code here"
   ]
  },
  {
   "cell_type": "markdown",
   "id": "wireless-corruption",
   "metadata": {},
   "source": [
    "## Augmentation"
   ]
  },
  {
   "cell_type": "markdown",
   "id": "collectible-services",
   "metadata": {},
   "source": [
    "One possible remedy for overfitting, when it is caused by lack of enough data, is to use data augmentation.\n",
    "In data augmentation, already existing data - images in our case - are 'tranformed' into new data through some basic transformations like mirroring or flipping, rotation, zoom, rescaling, etc.  of the image.\n",
    "\n",
    "\n",
    "In Keras, the ImageDataGenerator class, offers an easy way to include these augmentation techniques.\n",
    "Check the ImageDataGenerator entry here:https://keras.io/api/preprocessing/image/  to see how it is done."
   ]
  },
  {
   "cell_type": "markdown",
   "id": "biblical-holiday",
   "metadata": {},
   "source": [
    "<font color='blue'>**Task 3**\n",
    "-Based on the Keras link above, choose the augmentation transformations which make sense for the dataset you are using, and implement these transformations within the ImageDataGenerator. You can just edit and run the code we used earlier (3d cell in Section 2) or re-write (copy) that cell here and add the relevant arguments for the image augmentation (transformation).   \n",
    "    \n",
    "**NOTE**: augmentation is applied only on the training dataset\n",
    "- Train again the model and plot its performance on the new, augmented dataset.\n",
    "- Do not forget to also test the trained model on the 'test' dataset\n",
    "</font>\n",
    "    \n",
    "    "
   ]
  },
  {
   "cell_type": "markdown",
   "id": "military-privacy",
   "metadata": {},
   "source": [
    "## Transfer learning"
   ]
  },
  {
   "cell_type": "markdown",
   "id": "general-freeware",
   "metadata": {},
   "source": [
    "We will use the VGG16 network (https://arxiv.org/abs/1409.1556) trained on the ImageNet dataset (http://image-net.org/about-overview).\n",
    "As it is already part of the Keras library, it is easy to load.\n"
   ]
  },
  {
   "cell_type": "code",
   "execution_count": 105,
   "id": "scientific-destruction",
   "metadata": {},
   "outputs": [],
   "source": [
    "# clear the prevoius session if needed\n",
    "tensorflow.keras.backend.clear_session()"
   ]
  },
  {
   "cell_type": "code",
   "execution_count": 106,
   "id": "mexican-database",
   "metadata": {},
   "outputs": [],
   "source": [
    "# Import VGG16\n",
    "from tensorflow.keras.applications import VGG16"
   ]
  },
  {
   "cell_type": "code",
   "execution_count": 107,
   "id": "mysterious-knock",
   "metadata": {},
   "outputs": [],
   "source": [
    "# Create a copy of the VGG16 network, with input_size to match our dataset, and without including the last output layer(s)\n",
    "pretrained_net = VGG16(input_shape=(100,100,3),include_top=False,weights='imagenet',pooling='max')"
   ]
  },
  {
   "cell_type": "code",
   "execution_count": 34,
   "id": "communist-shannon",
   "metadata": {
    "scrolled": true
   },
   "outputs": [],
   "source": [
    "# Plot the summary of the pretrained network\n",
    "\n",
    "\n",
    "### add code here"
   ]
  },
  {
   "cell_type": "code",
   "execution_count": 108,
   "id": "thorough-stability",
   "metadata": {},
   "outputs": [],
   "source": [
    "# 'Freeze' (i.e. make them untrainable) all layers in thre pretrained network\n",
    "for layer in pretrained_net.layers:\n",
    "    layer.trainable=False"
   ]
  },
  {
   "cell_type": "code",
   "execution_count": 110,
   "id": "introductory-pharmacology",
   "metadata": {},
   "outputs": [],
   "source": [
    "# Add a couple of layers at the end of the pretrained network: we need to add our own output layer, \n",
    "# which will classify our data according to the number of classes we have.\n",
    "\n",
    "model2 = models.Sequential()\n",
    "model2.add(pretrained_net)\n",
    "#model2.add(layers.Dense(256))\n",
    "model2.add(layers.Dense(8, activation='softmax'))"
   ]
  },
  {
   "cell_type": "code",
   "execution_count": 111,
   "id": "bottom-internet",
   "metadata": {},
   "outputs": [
    {
     "name": "stdout",
     "output_type": "stream",
     "text": [
      "Model: \"sequential\"\n",
      "_________________________________________________________________\n",
      "Layer (type)                 Output Shape              Param #   \n",
      "=================================================================\n",
      "vgg16 (Functional)           (None, 512)               14714688  \n",
      "_________________________________________________________________\n",
      "dense (Dense)                (None, 8)                 4104      \n",
      "=================================================================\n",
      "Total params: 14,718,792\n",
      "Trainable params: 4,104\n",
      "Non-trainable params: 14,714,688\n",
      "_________________________________________________________________\n"
     ]
    }
   ],
   "source": [
    "model2.summary()"
   ]
  },
  {
   "cell_type": "markdown",
   "id": "different-cameroon",
   "metadata": {},
   "source": [
    "<font color='blue'> **Task 4:**\n",
    "   \n",
    "- Train the pretrained network (in reallity only the layers we added will be trained, we 'froze' all the layers previous to those) with the same data as before and compaire its performance to that of the previous model.\n",
    "* Add code for plotting the learning curves for this model (you can also choose to overplot the learning curves of the previous model for direct comparison)\n",
    "- Test the accuracty of the model on the 'test' dataset. </font>"
   ]
  },
  {
   "cell_type": "code",
   "execution_count": 112,
   "id": "expanded-ferry",
   "metadata": {},
   "outputs": [],
   "source": [
    "# compile model \n",
    "model2.compile(loss=PARAMS['loss'],\n",
    "              optimizer=optimizers.Adam(PARAMS['lr']),\n",
    "              metrics=[PARAMS['metrics']])\n",
    "\n",
    "\n",
    "### add code here"
   ]
  },
  {
   "cell_type": "code",
   "execution_count": 113,
   "id": "vocal-vietnamese",
   "metadata": {},
   "outputs": [
    {
     "name": "stdout",
     "output_type": "stream",
     "text": [
      "Epoch 1/25\n",
      "33/33 [==============================] - 49s 1s/step - loss: 2.1873 - acc: 0.2738 - val_loss: 1.2007 - val_acc: 0.6947\n",
      "Epoch 2/25\n",
      "33/33 [==============================] - 48s 1s/step - loss: 1.0034 - acc: 0.7849 - val_loss: 0.7379 - val_acc: 0.8302\n",
      "Epoch 3/25\n",
      "33/33 [==============================] - 48s 1s/step - loss: 0.6516 - acc: 0.8685 - val_loss: 0.5553 - val_acc: 0.8688\n",
      "Epoch 4/25\n",
      "33/33 [==============================] - 48s 1s/step - loss: 0.5033 - acc: 0.8943 - val_loss: 0.4592 - val_acc: 0.8873\n",
      "Epoch 5/25\n",
      "33/33 [==============================] - 48s 1s/step - loss: 0.4139 - acc: 0.9145 - val_loss: 0.3991 - val_acc: 0.9030\n",
      "Epoch 6/25\n",
      "33/33 [==============================] - 48s 1s/step - loss: 0.3568 - acc: 0.9224 - val_loss: 0.3633 - val_acc: 0.9044\n",
      "Epoch 7/25\n",
      "33/33 [==============================] - 48s 1s/step - loss: 0.3089 - acc: 0.9283 - val_loss: 0.3268 - val_acc: 0.9130\n",
      "Epoch 8/25\n",
      "33/33 [==============================] - 48s 1s/step - loss: 0.2799 - acc: 0.9360 - val_loss: 0.3039 - val_acc: 0.9201\n",
      "Epoch 9/25\n",
      "33/33 [==============================] - 48s 1s/step - loss: 0.2680 - acc: 0.9350 - val_loss: 0.2868 - val_acc: 0.9244\n",
      "Epoch 10/25\n",
      "33/33 [==============================] - 50s 2s/step - loss: 0.2419 - acc: 0.9449 - val_loss: 0.2703 - val_acc: 0.9272\n",
      "Epoch 11/25\n",
      "33/33 [==============================] - 48s 1s/step - loss: 0.2188 - acc: 0.9514 - val_loss: 0.2573 - val_acc: 0.9287\n",
      "Epoch 12/25\n",
      "33/33 [==============================] - 48s 1s/step - loss: 0.2268 - acc: 0.9457 - val_loss: 0.2475 - val_acc: 0.9287\n",
      "Epoch 13/25\n",
      "33/33 [==============================] - 48s 1s/step - loss: 0.2028 - acc: 0.9502 - val_loss: 0.2389 - val_acc: 0.9358\n",
      "Epoch 14/25\n",
      "33/33 [==============================] - 48s 1s/step - loss: 0.1984 - acc: 0.9568 - val_loss: 0.2335 - val_acc: 0.9344\n",
      "Epoch 15/25\n",
      "33/33 [==============================] - 48s 1s/step - loss: 0.1895 - acc: 0.9542 - val_loss: 0.2238 - val_acc: 0.9330\n",
      "Epoch 16/25\n",
      "33/33 [==============================] - 48s 1s/step - loss: 0.1908 - acc: 0.9500 - val_loss: 0.2186 - val_acc: 0.9344\n",
      "Epoch 17/25\n",
      "33/33 [==============================] - 48s 1s/step - loss: 0.1831 - acc: 0.9534 - val_loss: 0.2142 - val_acc: 0.9415\n",
      "Epoch 18/25\n",
      "33/33 [==============================] - 48s 1s/step - loss: 0.1640 - acc: 0.9584 - val_loss: 0.2096 - val_acc: 0.9458\n",
      "Epoch 19/25\n",
      "33/33 [==============================] - 48s 1s/step - loss: 0.1678 - acc: 0.9581 - val_loss: 0.2046 - val_acc: 0.9415\n",
      "Epoch 20/25\n",
      "33/33 [==============================] - 48s 1s/step - loss: 0.1553 - acc: 0.9616 - val_loss: 0.2012 - val_acc: 0.9429\n",
      "Epoch 21/25\n",
      "33/33 [==============================] - 48s 1s/step - loss: 0.1554 - acc: 0.9562 - val_loss: 0.1962 - val_acc: 0.9501\n",
      "Epoch 22/25\n",
      "33/33 [==============================] - 48s 1s/step - loss: 0.1449 - acc: 0.9613 - val_loss: 0.1954 - val_acc: 0.9387\n",
      "Epoch 23/25\n",
      "33/33 [==============================] - 48s 1s/step - loss: 0.1424 - acc: 0.9648 - val_loss: 0.1893 - val_acc: 0.9429\n",
      "Epoch 24/25\n",
      "33/33 [==============================] - 48s 1s/step - loss: 0.1411 - acc: 0.9633 - val_loss: 0.1913 - val_acc: 0.9429\n",
      "Epoch 25/25\n",
      "33/33 [==============================] - 49s 1s/step - loss: 0.1456 - acc: 0.9648 - val_loss: 0.1852 - val_acc: 0.9501\n"
     ]
    }
   ],
   "source": [
    "# Fit the model \n",
    "spe=len(train)   # train_size/batch_size\n",
    "epoch_num=PARAMS['n_epochs']\n",
    "val_steps=len(validation)  # validation_size/batch_size\n",
    "\n",
    "\n",
    "history = model2.fit(\n",
    "            train,\n",
    "            steps_per_epoch=spe,  \n",
    "            epochs=epoch_num,\n",
    "            validation_data=validation,\n",
    "            validation_steps=val_steps) \n",
    "\n",
    "### add code here"
   ]
  },
  {
   "cell_type": "code",
   "execution_count": 114,
   "id": "prerequisite-interest",
   "metadata": {},
   "outputs": [
    {
     "data": {
      "image/png": "[encoded data removed]",
      "text/plain": [
       "<Figure size 432x288 with 1 Axes>"
      ]
     },
     "metadata": {
      "needs_background": "light"
     },
     "output_type": "display_data"
    },
    {
     "data": {
      "image/png": "[encoded data removed]",
      "text/plain": [
       "<Figure size 432x288 with 1 Axes>"
      ]
     },
     "metadata": {
      "needs_background": "light"
     },
     "output_type": "display_data"
    }
   ],
   "source": [
    "# plot learning curves\n",
    "epoch_num=PARAMS['n_epochs']\n",
    "acc = history.history['acc']\n",
    "val_acc = history.history['val_acc']\n",
    "\n",
    "plt.plot(range(epoch_num), acc, 'b', label='Training accuracy')\n",
    "plt.plot(range(epoch_num), val_acc, 'g', label='Validation accuracy')\n",
    "plt.title('Training and validation accuracy')\n",
    "plt.legend()\n",
    "\n",
    "\n",
    "loss = history.history['loss']\n",
    "val_loss = history.history['val_loss']\n",
    "\n",
    "plt.figure()\n",
    "plt.plot(range(epoch_num), loss, 'b', label='Training loss')\n",
    "plt.plot(range(epoch_num), val_loss, 'g', label='Validation loss')\n",
    "plt.title('Training and validation loss')\n",
    "plt.legend()\n",
    "\n",
    "\n",
    "plt.show()\n",
    "### add code here"
   ]
  },
  {
   "cell_type": "code",
   "execution_count": null,
   "id": "forty-thirty",
   "metadata": {},
   "outputs": [],
   "source": [
    "# test trained model on 'test' dataset\n",
    "\n",
    "### add code here"
   ]
  }
 ],
 "metadata": {
  "kernelspec": {
   "display_name": "Python 3",
   "language": "python",
   "name": "python3"
  },
  "language_info": {
   "codemirror_mode": {
    "name": "ipython",
    "version": 3
   },
   "file_extension": ".py",
   "mimetype": "text/x-python",
   "name": "python",
   "nbconvert_exporter": "python",
   "pygments_lexer": "ipython3",
   "version": "3.6.8"
  },
  "toc": {
   "base_numbering": 1,
   "nav_menu": {},
   "number_sections": true,
   "sideBar": true,
   "skip_h1_title": true,
   "title_cell": "Table of Contents",
   "title_sidebar": "Contents",
   "toc_cell": true,
   "toc_position": {},
   "toc_section_display": true,
   "toc_window_display": false
  },
  "varInspector": {
   "cols": {
    "lenName": 16,
    "lenType": 16,
    "lenVar": 40
   },
   "kernels_config": {
    "python": {
     "delete_cmd_postfix": "",
     "delete_cmd_prefix": "del ",
     "library": "var_list.py",
     "varRefreshCmd": "print(var_dic_list())"
    },
    "r": {
     "delete_cmd_postfix": ") ",
     "delete_cmd_prefix": "rm(",
     "library": "var_list.r",
     "varRefreshCmd": "cat(var_dic_list()) "
    }
   },
   "types_to_exclude": [
    "module",
    "function",
    "builtin_function_or_method",
    "instance",
    "_Feature"
   ],
   "window_display": false
  }
 },
 "nbformat": 4,
 "nbformat_minor": 5
}
