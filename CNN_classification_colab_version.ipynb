{
  "nbformat": 4,
  "nbformat_minor": 5,
  "metadata": {
    "kernelspec": {
      "display_name": "Python 3",
      "language": "python",
      "name": "python3"
    },
    "language_info": {
      "codemirror_mode": {
        "name": "ipython",
        "version": 3
      },
      "file_extension": ".py",
      "mimetype": "text/x-python",
      "name": "python",
      "nbconvert_exporter": "python",
      "pygments_lexer": "ipython3",
      "version": "3.6.8"
    },
    "toc": {
      "base_numbering": 1,
      "nav_menu": {},
      "number_sections": true,
      "sideBar": true,
      "skip_h1_title": true,
      "title_cell": "Table of Contents",
      "title_sidebar": "Contents",
      "toc_cell": true,
      "toc_position": {},
      "toc_section_display": true,
      "toc_window_display": false
    },
    "varInspector": {
      "cols": {
        "lenName": 16,
        "lenType": 16,
        "lenVar": 40
      },
      "kernels_config": {
        "python": {
          "delete_cmd_postfix": "",
          "delete_cmd_prefix": "del ",
          "library": "var_list.py",
          "varRefreshCmd": "print(var_dic_list())"
        },
        "r": {
          "delete_cmd_postfix": ") ",
          "delete_cmd_prefix": "rm(",
          "library": "var_list.r",
          "varRefreshCmd": "cat(var_dic_list()) "
        }
      },
      "types_to_exclude": [
        "module",
        "function",
        "builtin_function_or_method",
        "instance",
        "_Feature"
      ],
      "window_display": false
    },
    "colab": {
      "name": "CNN_classification.ipynb",
      "provenance": []
    },
    "accelerator": "GPU"
  },
  "cells": [
    {
      "cell_type": "markdown",
      "metadata": {
        "toc": true,
        "id": "roman-reliance"
      },
      "source": [
        "<h1>Table of Contents<span class=\"tocSkip\"></span></h1>\n",
        "<div class=\"toc\"><ul class=\"toc-item\"><li><ul class=\"toc-item\"><li><span><a href=\"#General\" data-toc-modified-id=\"General-0.1\"><span class=\"toc-item-num\">0.1&nbsp;&nbsp;</span>General</a></span></li></ul></li><li><span><a href=\"#DATA\" data-toc-modified-id=\"DATA-1\"><span class=\"toc-item-num\">1&nbsp;&nbsp;</span>DATA</a></span><ul class=\"toc-item\"><li><span><a href=\"#Data-directories\" data-toc-modified-id=\"Data-directories-1.1\"><span class=\"toc-item-num\">1.1&nbsp;&nbsp;</span>Data directories</a></span></li></ul></li><li><span><a href=\"#The-CNN-model\" data-toc-modified-id=\"The-CNN-model-2\"><span class=\"toc-item-num\">2&nbsp;&nbsp;</span>The CNN model</a></span><ul class=\"toc-item\"><li><span><a href=\"#Train-the-model\" data-toc-modified-id=\"Train-the-model-2.1\"><span class=\"toc-item-num\">2.1&nbsp;&nbsp;</span>Train the model</a></span></li><li><span><a href=\"#plot--the-learning-curves\" data-toc-modified-id=\"plot--the-learning-curves-2.2\"><span class=\"toc-item-num\">2.2&nbsp;&nbsp;</span>plot  the learning curves</a></span></li><li><span><a href=\"#Test-model-on-'test'-dataset\" data-toc-modified-id=\"Test-model-on-'test'-dataset-2.3\"><span class=\"toc-item-num\">2.3&nbsp;&nbsp;</span>Test model on <em>'test'</em> dataset</a></span></li></ul></li><li><span><a href=\"#Augmentation\" data-toc-modified-id=\"Augmentation-3\"><span class=\"toc-item-num\">3&nbsp;&nbsp;</span>Augmentation</a></span></li><li><span><a href=\"#Transfer-learning\" data-toc-modified-id=\"Transfer-learning-4\"><span class=\"toc-item-num\">4&nbsp;&nbsp;</span>Transfer learning</a></span></li></ul></div>"
      ],
      "id": "roman-reliance"
    },
    {
      "cell_type": "code",
      "metadata": {
        "colab": {
          "base_uri": "https://localhost:8080/"
        },
        "id": "c458UlZYImfk",
        "outputId": "d58a0ea1-a2b8-4800-d989-12476bef2b9d"
      },
      "source": [
        "from google.colab import drive\n",
        "drive.mount('/content/drive')"
      ],
      "id": "c458UlZYImfk",
      "execution_count": 1,
      "outputs": [
        {
          "output_type": "stream",
          "text": [
            "Mounted at /content/drive\n"
          ],
          "name": "stdout"
        }
      ]
    },
    {
      "cell_type": "code",
      "metadata": {
        "id": "41OlhjmDJD2H"
      },
      "source": [
        "!tar -xzvf '/content/drive/MyDrive/flowers.tgz'"
      ],
      "id": "41OlhjmDJD2H",
      "execution_count": null,
      "outputs": []
    },
    {
      "cell_type": "markdown",
      "metadata": {
        "id": "greatest-savage"
      },
      "source": [
        "# INTRO"
      ],
      "id": "greatest-savage"
    },
    {
      "cell_type": "markdown",
      "metadata": {
        "id": "under-seven"
      },
      "source": [
        "### General\n",
        "\n",
        "Let's start by importing **various useful** libraries in one go. \n",
        "We also check the versions of keras and tensorflow he have in our disposal (because we can).\n",
        "If more libraries become needed later on, come back to the cell below and add them here."
      ],
      "id": "under-seven"
    },
    {
      "cell_type": "code",
      "metadata": {
        "id": "broken-mattress",
        "colab": {
          "base_uri": "https://localhost:8080/"
        },
        "outputId": "a6868e97-8966-4d48-f7a4-43fc86324ce7"
      },
      "source": [
        "import tensorflow\n",
        "from tensorflow import keras\n",
        "from tensorflow.keras import layers\n",
        "from tensorflow.keras import models\n",
        "from tensorflow.keras import optimizers\n",
        "from tensorflow.keras.preprocessing.image import ImageDataGenerator\n",
        "from tensorflow.keras.preprocessing import image\n",
        "import numpy as np\n",
        "import os, shutil\n",
        "from shutil import copyfile\n",
        "import random\n",
        "import matplotlib.pyplot as plt\n",
        "from tensorflow.keras.models import load_model\n",
        "\n",
        "print(keras.__version__)\n",
        "print(tensorflow.__version__)"
      ],
      "id": "broken-mattress",
      "execution_count": 3,
      "outputs": [
        {
          "output_type": "stream",
          "text": [
            "2.4.0\n",
            "2.4.1\n"
          ],
          "name": "stdout"
        }
      ]
    },
    {
      "cell_type": "markdown",
      "metadata": {
        "id": "equal-cabin"
      },
      "source": [
        "## DATA\n",
        "\n",
        "\n",
        "We will use an existing dataset, dowloaded from kaggle (https://www.kaggle.com/alxmamaev/flowers-recognition)\n",
        "\n"
      ],
      "id": "equal-cabin"
    },
    {
      "cell_type": "markdown",
      "metadata": {
        "id": "satellite-orange"
      },
      "source": [
        "### Data directories\n",
        "\n",
        "**Create a hierarchy of directories**, with seperate directories for *training*,  *validation*, and *test* data. Each of these will contain a subdirectory for each *class*.\n",
        "\n",
        "_Important_: __obviously, building the datasets only needs to be done once.__ "
      ],
      "id": "satellite-orange"
    },
    {
      "cell_type": "code",
      "metadata": {
        "code_folding": [],
        "id": "pediatric-essay"
      },
      "source": [
        "# In the line below define a 'base' name for the directory where you want to store the datasets you are about to create\n",
        "# something like:  base = '/mnt/ceph/home/r1111683/flower_classification_data'\n",
        "\n",
        "base='/content'\n",
        "\n",
        "classification_data_path=os.path.join(base + '/flower_classification_data') \n",
        "\n",
        "# create that directory\n",
        "if not os.path.exists(classification_data_path):\n",
        "  os.mkdir(classification_data_path)\n",
        "\n",
        "# define datasets (i.e. subdirs within the 'base' dir) and define classes (i.e. sub-subdirs for each of the dataset directories)\n",
        "datasets=['train','validation','test']\n",
        "classes=['daisy','dandelion','rose','sunflower','tulip']\n",
        "\n",
        "# create that hierarchy of dirs and subdirs\n",
        "for dtype in datasets:\n",
        "  path_set=os.path.join(classification_data_path,dtype)\n",
        "  if not os.path.exists(path_set):\n",
        "    os.mkdir(path_set)\n",
        "  for c in classes:\n",
        "    path_class=os.path.join(path_set,c)\n",
        "    if not os.path.exists(path_class):\n",
        "      os.mkdir(path_class)      "
      ],
      "id": "pediatric-essay",
      "execution_count": 4,
      "outputs": []
    },
    {
      "cell_type": "code",
      "metadata": {
        "id": "smart-stewart"
      },
      "source": [
        "# function for splitting the data into train, validation, and test data (after shuffling them) \n",
        "# and populating the directory tree created above\n",
        "\n",
        "def pop_dirs(SOURCE, TRAINING, VALIDATION, TEST, SPLIT_SIZE):\n",
        "    files = []\n",
        "    for filename in os.listdir(SOURCE):\n",
        "        file = SOURCE + filename\n",
        "        if os.path.getsize(file) > 0:\n",
        "            files.append(filename)\n",
        "        else:\n",
        "            print(filename + \" is zero length, so ignoring.\")\n",
        "\n",
        "    training_length = int(len(files) * SPLIT_SIZE)\n",
        "    validation_length = int((len(files) - training_length)/2.0)\n",
        "    test_length = validation_length\n",
        "    shuffled_set = random.sample(files, len(files))\n",
        "    training_set = shuffled_set[0:training_length]\n",
        "    validation_set = shuffled_set[training_length:training_length+validation_length]\n",
        "    test_set = shuffled_set[training_length+validation_length:training_length+validation_length+test_length]\n",
        "\n",
        "    for filename in training_set:\n",
        "        this_file = SOURCE + filename\n",
        "        destination = TRAINING + filename\n",
        "        copyfile(this_file, destination)\n",
        "\n",
        "    for filename in validation_set:\n",
        "        this_file = SOURCE + filename\n",
        "        destination = VALIDATION + filename\n",
        "        copyfile(this_file, destination)\n",
        "\n",
        "    for filename in test_set:\n",
        "        this_file = SOURCE + filename\n",
        "        destination = TEST + filename\n",
        "        copyfile(this_file, destination)"
      ],
      "id": "smart-stewart",
      "execution_count": 5,
      "outputs": []
    },
    {
      "cell_type": "code",
      "metadata": {
        "id": "binding-saturday",
        "colab": {
          "base_uri": "https://localhost:8080/"
        },
        "outputId": "b1815c7e-9e85-411c-98c9-a540b8968cb3"
      },
      "source": [
        "# the actual copying of files from the 'data' folder into the folder hierarchy created earlier \n",
        "\n",
        "j=0\n",
        "split_size = .7   # fraction of data (from 0.0 to 1.0) to be used as training data. The rest will be split equally among validation and test datasets\n",
        "\n",
        "#classes=['daisy','dandelion','rose','sunflower','tulip']   \n",
        "\n",
        "for i in classes:\n",
        "  src_dir = \"/content/flowers\"\n",
        "  src_path=os.path.join(src_dir,i)+'/'\n",
        "  \n",
        "  training_dir = \"/content/flower_classification_data/train\"\n",
        "  train_path=os.path.join(training_dir,i)+'/'\n",
        "  \n",
        "  validation_dir = \"/content/flower_classification_data/validation\"\n",
        "  validation_path=os.path.join(validation_dir,i)+'/'\n",
        "\n",
        "  test_dir = \"/content/flower_classification_data/test\"\n",
        "  test_path=os.path.join(test_dir,i)+'/'\n",
        "\n",
        "  pop_dirs(src_path, train_path, validation_path, test_path, split_size)\n",
        "\n",
        "  \n",
        "  print(src_path)\n",
        "  j+=1\n"
      ],
      "id": "binding-saturday",
      "execution_count": 6,
      "outputs": [
        {
          "output_type": "stream",
          "text": [
            "/content/flowers/daisy/\n",
            "/content/flowers/dandelion/\n",
            "/content/flowers/rose/\n",
            "/content/flowers/sunflower/\n",
            "/content/flowers/tulip/\n"
          ],
          "name": "stdout"
        }
      ]
    },
    {
      "cell_type": "markdown",
      "metadata": {
        "id": "ultimate-testing"
      },
      "source": [
        "Check the number of images for each dataset and each class"
      ],
      "id": "ultimate-testing"
    },
    {
      "cell_type": "code",
      "metadata": {
        "id": "psychological-tactics",
        "colab": {
          "base_uri": "https://localhost:8080/"
        },
        "outputId": "34e00e79-f193-4598-88d8-eea0bdba6e3c"
      },
      "source": [
        "datasets=['train','validation','test']\n",
        "classes=['daisy','dandelion','rose','sunflower','tulip']\n",
        "\n",
        "for dset in datasets:\n",
        "  for c in classes:\n",
        "    path=os.path.join('/content/flower_classification_data',dset,c)\n",
        "    print('number of',  dset,  'images in', c,':', len(os.listdir(path)))"
      ],
      "id": "psychological-tactics",
      "execution_count": 7,
      "outputs": [
        {
          "output_type": "stream",
          "text": [
            "number of train images in daisy : 513\n",
            "number of train images in dandelion : 513\n",
            "number of train images in rose : 513\n",
            "number of train images in sunflower : 513\n",
            "number of train images in tulip : 513\n",
            "number of validation images in daisy : 110\n",
            "number of validation images in dandelion : 110\n",
            "number of validation images in rose : 110\n",
            "number of validation images in sunflower : 110\n",
            "number of validation images in tulip : 110\n",
            "number of test images in daisy : 110\n",
            "number of test images in dandelion : 110\n",
            "number of test images in rose : 110\n",
            "number of test images in sunflower : 110\n",
            "number of test images in tulip : 110\n"
          ],
          "name": "stdout"
        }
      ]
    },
    {
      "cell_type": "markdown",
      "metadata": {
        "id": "recreational-header"
      },
      "source": [
        "## The CNN model"
      ],
      "id": "recreational-header"
    },
    {
      "cell_type": "code",
      "metadata": {
        "id": "conventional-version"
      },
      "source": [
        "# run when clearing of the session is needed\n",
        "tensorflow.keras.backend.clear_session()"
      ],
      "id": "conventional-version",
      "execution_count": 63,
      "outputs": []
    },
    {
      "cell_type": "code",
      "metadata": {
        "id": "individual-stephen"
      },
      "source": [
        "# place needed and updatable parameters in a dictionary for easy access \n",
        "PARAMS = {'lr': 5e-5,\n",
        "          'dropout': 0.0,\n",
        "          'batch_size': 32,\n",
        "          'n_epochs': 50,\n",
        "          'optimizer': 'RMSprop',\n",
        "          'loss': 'categorical_crossentropy',\n",
        "          'metrics': 'acc',\n",
        "          'image_input_shape' : (100,100,3),\n",
        "          'save_model' : 'flower_classification_1.h5'\n",
        "          }"
      ],
      "id": "individual-stephen",
      "execution_count": 51,
      "outputs": []
    },
    {
      "cell_type": "code",
      "metadata": {
        "id": "textile-wireless"
      },
      "source": [
        "# the model layers\n",
        "\n",
        "model = models.Sequential()\n",
        "model.add(layers.Conv2D(32, (3, 3), activation='relu',\n",
        "                        input_shape=PARAMS['image_input_shape']))\n",
        "model.add(layers.MaxPooling2D((2, 2)))\n",
        "model.add(layers.Conv2D(64, (3, 3), activation='relu'))\n",
        "#model.add(layers.Dropout(PARAMS['dropout']))\n",
        "model.add(layers.MaxPooling2D((2, 2)))\n",
        "model.add(layers.Conv2D(128, (3, 3), activation='relu'))\n",
        "model.add(layers.MaxPooling2D((2, 2)))\n",
        "#model.add(layers.Conv2D(256, (3, 3), activation='relu'))\n",
        "#model.add(layers.MaxPooling2D((2,2)))\n",
        "#model.add(layers.Dropout(PARAMS['dropout']))\n",
        "model.add(layers.Flatten())\n",
        "model.add(layers.Dense(128,activation='relu'))\n",
        "model.add(layers.Dense(5, activation='softmax'))"
      ],
      "id": "textile-wireless",
      "execution_count": 64,
      "outputs": []
    },
    {
      "cell_type": "code",
      "metadata": {
        "id": "independent-village"
      },
      "source": [
        "# compile model (and choose optimiser )\n",
        "model.compile(loss=PARAMS['loss'],\n",
        "              optimizer=optimizers.RMSprop(lr=PARAMS['lr']),\n",
        "              metrics=[PARAMS['metrics']])"
      ],
      "id": "independent-village",
      "execution_count": 65,
      "outputs": []
    },
    {
      "cell_type": "code",
      "metadata": {
        "id": "divided-defense",
        "colab": {
          "base_uri": "https://localhost:8080/"
        },
        "outputId": "45653bee-ccd2-4e21-dff7-f8f8c8e96302"
      },
      "source": [
        "model.summary()"
      ],
      "id": "divided-defense",
      "execution_count": 66,
      "outputs": [
        {
          "output_type": "stream",
          "text": [
            "Model: \"sequential\"\n",
            "_________________________________________________________________\n",
            "Layer (type)                 Output Shape              Param #   \n",
            "=================================================================\n",
            "conv2d (Conv2D)              (None, 98, 98, 32)        896       \n",
            "_________________________________________________________________\n",
            "max_pooling2d (MaxPooling2D) (None, 49, 49, 32)        0         \n",
            "_________________________________________________________________\n",
            "conv2d_1 (Conv2D)            (None, 47, 47, 64)        18496     \n",
            "_________________________________________________________________\n",
            "max_pooling2d_1 (MaxPooling2 (None, 23, 23, 64)        0         \n",
            "_________________________________________________________________\n",
            "conv2d_2 (Conv2D)            (None, 21, 21, 128)       73856     \n",
            "_________________________________________________________________\n",
            "max_pooling2d_2 (MaxPooling2 (None, 10, 10, 128)       0         \n",
            "_________________________________________________________________\n",
            "flatten (Flatten)            (None, 12800)             0         \n",
            "_________________________________________________________________\n",
            "dense (Dense)                (None, 128)               1638528   \n",
            "_________________________________________________________________\n",
            "dense_1 (Dense)              (None, 5)                 645       \n",
            "=================================================================\n",
            "Total params: 1,732,421\n",
            "Trainable params: 1,732,421\n",
            "Non-trainable params: 0\n",
            "_________________________________________________________________\n"
          ],
          "name": "stdout"
        }
      ]
    },
    {
      "cell_type": "code",
      "metadata": {
        "id": "continuing-coordinate"
      },
      "source": [
        "# create a graph of the model layers\n",
        "from tensorflow.keras.utils import plot_model\n",
        "plot_model(model, to_file='model.png',show_shapes=True,rankdir='TB',show_layer_names=True)"
      ],
      "id": "continuing-coordinate",
      "execution_count": null,
      "outputs": []
    },
    {
      "cell_type": "code",
      "metadata": {
        "id": "young-promotion",
        "colab": {
          "base_uri": "https://localhost:8080/"
        },
        "outputId": "517bd628-e767-4a2e-a886-a3fb98cb5d4a"
      },
      "source": [
        "# NOTE: use color_mode=\"grayscale\" below only when dealing with grayscale images. Otherwise 3 channel images are expected\n",
        "#train_datagen = ImageDataGenerator(samplewise_center=True,samplewise_std_normalization=True,horizontal_flip=True,vertical_flip=True)\n",
        "#train_datagen = ImageDataGenerator(samplewise_center=True,samplewise_std_normalization=True)\n",
        "#validation_datagen = ImageDataGenerator(samplewise_center=True,samplewise_std_normalization=True)\n",
        "#test_datagen = ImageDataGenerator(samplewise_center=True,samplewise_std_normalization=True)\n",
        "\n",
        "train_datagen = ImageDataGenerator(rescale = 1.0/255.,horizontal_flip=True,vertical_flip=True,rotation_range=30.0,zoom_range=0.2)\n",
        "validation_datagen = ImageDataGenerator(rescale = 1.0/255.)\n",
        "test_datagen = ImageDataGenerator(rescale = 1.0/255.)\n",
        "\n",
        "train = train_datagen.flow_from_directory(\n",
        "        '/content/flower_classification_data/train',\n",
        "        target_size=(100, 100),\n",
        "        batch_size=PARAMS['batch_size'],\n",
        "        class_mode='categorical') \n",
        "\n",
        "validation = validation_datagen.flow_from_directory(\n",
        "        '/content/flower_classification_data/validation',\n",
        "        target_size=(100, 100),\n",
        "        batch_size=PARAMS['batch_size'],\n",
        "        class_mode='categorical')\n",
        "\n",
        "\n",
        "test = test_datagen.flow_from_directory(\n",
        "        '/content/flower_classification_data/test',\n",
        "        target_size=(100, 100),\n",
        "        batch_size=PARAMS['batch_size'],\n",
        "        class_mode='categorical')"
      ],
      "id": "young-promotion",
      "execution_count": 67,
      "outputs": [
        {
          "output_type": "stream",
          "text": [
            "Found 2562 images belonging to 5 classes.\n",
            "Found 550 images belonging to 5 classes.\n",
            "Found 550 images belonging to 5 classes.\n"
          ],
          "name": "stdout"
        }
      ]
    },
    {
      "cell_type": "code",
      "metadata": {
        "id": "yellow-superior",
        "colab": {
          "base_uri": "https://localhost:8080/"
        },
        "outputId": "82ea6ad1-08f2-45d5-a5be-770bb6581f49"
      },
      "source": [
        "for images_batch, labels_batch in train:\n",
        "    print('Image batches have shape:', images_batch.shape)\n",
        "    print('Label batches have shape:', labels_batch.shape)\n",
        "    break"
      ],
      "id": "yellow-superior",
      "execution_count": 68,
      "outputs": [
        {
          "output_type": "stream",
          "text": [
            "Image batches have shape: (32, 100, 100, 3)\n",
            "Label batches have shape: (32, 5)\n"
          ],
          "name": "stdout"
        }
      ]
    },
    {
      "cell_type": "markdown",
      "metadata": {
        "id": "oriental-cleaner"
      },
      "source": [
        "### Train the model"
      ],
      "id": "oriental-cleaner"
    },
    {
      "cell_type": "code",
      "metadata": {
        "id": "accompanied-tomorrow",
        "colab": {
          "base_uri": "https://localhost:8080/"
        },
        "outputId": "9c5e52d0-c7d3-48d4-ce16-9a5764c1aed0"
      },
      "source": [
        "# Fit the model \n",
        "spe=len(train)   # train_size/batch_size\n",
        "epoch_num=PARAMS['n_epochs']\n",
        "val_steps=len(validation)  # validation_size/batch_size\n",
        "\n",
        "\n",
        "history = model.fit(\n",
        "            train,\n",
        "            steps_per_epoch=spe,  \n",
        "            epochs=epoch_num,\n",
        "            validation_data=validation,\n",
        "            validation_steps=val_steps) \n",
        "#model.save(PARAMS['save_model'])\n",
        " \n",
        "\n"
      ],
      "id": "accompanied-tomorrow",
      "execution_count": 73,
      "outputs": [
        {
          "output_type": "stream",
          "text": [
            "Epoch 1/50\n",
            "81/81 [==============================] - 12s 150ms/step - loss: 0.7619 - acc: 0.7065 - val_loss: 0.9242 - val_acc: 0.6491\n",
            "Epoch 2/50\n",
            "81/81 [==============================] - 12s 149ms/step - loss: 0.7605 - acc: 0.7143 - val_loss: 0.9725 - val_acc: 0.6509\n",
            "Epoch 3/50\n",
            "81/81 [==============================] - 12s 149ms/step - loss: 0.7633 - acc: 0.7100 - val_loss: 0.9051 - val_acc: 0.6691\n",
            "Epoch 4/50\n",
            "81/81 [==============================] - 12s 149ms/step - loss: 0.7539 - acc: 0.7080 - val_loss: 0.8583 - val_acc: 0.6655\n",
            "Epoch 5/50\n",
            "81/81 [==============================] - 12s 150ms/step - loss: 0.7577 - acc: 0.7123 - val_loss: 0.8183 - val_acc: 0.6855\n",
            "Epoch 6/50\n",
            "81/81 [==============================] - 12s 150ms/step - loss: 0.7550 - acc: 0.7119 - val_loss: 0.8169 - val_acc: 0.6964\n",
            "Epoch 7/50\n",
            "81/81 [==============================] - 12s 151ms/step - loss: 0.7455 - acc: 0.7104 - val_loss: 0.8295 - val_acc: 0.6745\n",
            "Epoch 8/50\n",
            "81/81 [==============================] - 12s 150ms/step - loss: 0.7417 - acc: 0.7119 - val_loss: 0.8970 - val_acc: 0.6618\n",
            "Epoch 9/50\n",
            "81/81 [==============================] - 12s 150ms/step - loss: 0.7420 - acc: 0.7178 - val_loss: 0.8863 - val_acc: 0.6727\n",
            "Epoch 10/50\n",
            "81/81 [==============================] - 12s 150ms/step - loss: 0.7398 - acc: 0.7077 - val_loss: 0.8337 - val_acc: 0.6818\n",
            "Epoch 11/50\n",
            "81/81 [==============================] - 12s 149ms/step - loss: 0.7309 - acc: 0.7166 - val_loss: 0.8844 - val_acc: 0.6764\n",
            "Epoch 12/50\n",
            "81/81 [==============================] - 12s 150ms/step - loss: 0.7256 - acc: 0.7198 - val_loss: 0.9905 - val_acc: 0.6400\n",
            "Epoch 13/50\n",
            "81/81 [==============================] - 12s 151ms/step - loss: 0.7317 - acc: 0.7190 - val_loss: 0.8619 - val_acc: 0.6818\n",
            "Epoch 14/50\n",
            "81/81 [==============================] - 12s 150ms/step - loss: 0.7294 - acc: 0.7174 - val_loss: 0.8671 - val_acc: 0.6818\n",
            "Epoch 15/50\n",
            "81/81 [==============================] - 12s 150ms/step - loss: 0.7202 - acc: 0.7287 - val_loss: 0.8616 - val_acc: 0.6800\n",
            "Epoch 16/50\n",
            "81/81 [==============================] - 12s 150ms/step - loss: 0.7144 - acc: 0.7272 - val_loss: 0.8546 - val_acc: 0.6691\n",
            "Epoch 17/50\n",
            "81/81 [==============================] - 12s 151ms/step - loss: 0.7017 - acc: 0.7287 - val_loss: 0.8858 - val_acc: 0.6818\n",
            "Epoch 18/50\n",
            "81/81 [==============================] - 12s 150ms/step - loss: 0.7185 - acc: 0.7311 - val_loss: 0.8408 - val_acc: 0.6873\n",
            "Epoch 19/50\n",
            "81/81 [==============================] - 12s 152ms/step - loss: 0.7070 - acc: 0.7190 - val_loss: 0.8310 - val_acc: 0.6891\n",
            "Epoch 20/50\n",
            "81/81 [==============================] - 12s 154ms/step - loss: 0.6958 - acc: 0.7373 - val_loss: 0.8372 - val_acc: 0.6836\n",
            "Epoch 21/50\n",
            "81/81 [==============================] - 12s 151ms/step - loss: 0.7035 - acc: 0.7307 - val_loss: 0.8231 - val_acc: 0.6909\n",
            "Epoch 22/50\n",
            "81/81 [==============================] - 12s 149ms/step - loss: 0.7038 - acc: 0.7346 - val_loss: 0.8661 - val_acc: 0.6691\n",
            "Epoch 23/50\n",
            "81/81 [==============================] - 12s 150ms/step - loss: 0.6958 - acc: 0.7346 - val_loss: 0.8433 - val_acc: 0.6873\n",
            "Epoch 24/50\n",
            "81/81 [==============================] - 12s 149ms/step - loss: 0.6925 - acc: 0.7334 - val_loss: 0.8150 - val_acc: 0.7000\n",
            "Epoch 25/50\n",
            "81/81 [==============================] - 12s 150ms/step - loss: 0.6890 - acc: 0.7385 - val_loss: 0.8231 - val_acc: 0.6782\n",
            "Epoch 26/50\n",
            "81/81 [==============================] - 12s 150ms/step - loss: 0.6848 - acc: 0.7420 - val_loss: 0.8870 - val_acc: 0.6873\n",
            "Epoch 27/50\n",
            "81/81 [==============================] - 12s 151ms/step - loss: 0.6812 - acc: 0.7350 - val_loss: 0.8658 - val_acc: 0.6764\n",
            "Epoch 28/50\n",
            "81/81 [==============================] - 12s 150ms/step - loss: 0.6880 - acc: 0.7334 - val_loss: 0.8490 - val_acc: 0.6764\n",
            "Epoch 29/50\n",
            "81/81 [==============================] - 12s 149ms/step - loss: 0.6688 - acc: 0.7498 - val_loss: 0.8931 - val_acc: 0.6691\n",
            "Epoch 30/50\n",
            "81/81 [==============================] - 12s 151ms/step - loss: 0.6691 - acc: 0.7467 - val_loss: 0.8768 - val_acc: 0.6836\n",
            "Epoch 31/50\n",
            "81/81 [==============================] - 12s 152ms/step - loss: 0.6820 - acc: 0.7373 - val_loss: 0.8508 - val_acc: 0.6873\n",
            "Epoch 32/50\n",
            "81/81 [==============================] - 12s 151ms/step - loss: 0.6677 - acc: 0.7479 - val_loss: 0.8312 - val_acc: 0.6909\n",
            "Epoch 33/50\n",
            "81/81 [==============================] - 12s 151ms/step - loss: 0.6727 - acc: 0.7459 - val_loss: 0.7889 - val_acc: 0.7055\n",
            "Epoch 34/50\n",
            "81/81 [==============================] - 12s 151ms/step - loss: 0.6653 - acc: 0.7545 - val_loss: 0.9347 - val_acc: 0.6582\n",
            "Epoch 35/50\n",
            "81/81 [==============================] - 12s 150ms/step - loss: 0.6676 - acc: 0.7521 - val_loss: 0.8642 - val_acc: 0.6891\n",
            "Epoch 36/50\n",
            "81/81 [==============================] - 12s 150ms/step - loss: 0.6636 - acc: 0.7506 - val_loss: 0.8065 - val_acc: 0.7000\n",
            "Epoch 37/50\n",
            "81/81 [==============================] - 12s 150ms/step - loss: 0.6578 - acc: 0.7389 - val_loss: 0.8300 - val_acc: 0.6909\n",
            "Epoch 38/50\n",
            "81/81 [==============================] - 12s 150ms/step - loss: 0.6560 - acc: 0.7568 - val_loss: 0.8418 - val_acc: 0.6855\n",
            "Epoch 39/50\n",
            "81/81 [==============================] - 12s 151ms/step - loss: 0.6570 - acc: 0.7560 - val_loss: 0.8766 - val_acc: 0.6891\n",
            "Epoch 40/50\n",
            "81/81 [==============================] - 12s 151ms/step - loss: 0.6517 - acc: 0.7592 - val_loss: 0.8062 - val_acc: 0.7000\n",
            "Epoch 41/50\n",
            "81/81 [==============================] - 12s 150ms/step - loss: 0.6489 - acc: 0.7584 - val_loss: 0.8664 - val_acc: 0.6909\n",
            "Epoch 42/50\n",
            "81/81 [==============================] - 12s 150ms/step - loss: 0.6414 - acc: 0.7580 - val_loss: 0.8552 - val_acc: 0.6909\n",
            "Epoch 43/50\n",
            "81/81 [==============================] - 12s 150ms/step - loss: 0.6434 - acc: 0.7596 - val_loss: 0.8763 - val_acc: 0.6945\n",
            "Epoch 44/50\n",
            "81/81 [==============================] - 12s 151ms/step - loss: 0.6467 - acc: 0.7596 - val_loss: 0.8167 - val_acc: 0.6927\n",
            "Epoch 45/50\n",
            "81/81 [==============================] - 12s 152ms/step - loss: 0.6432 - acc: 0.7521 - val_loss: 0.8632 - val_acc: 0.6945\n",
            "Epoch 46/50\n",
            "81/81 [==============================] - 12s 153ms/step - loss: 0.6340 - acc: 0.7619 - val_loss: 0.8325 - val_acc: 0.6873\n",
            "Epoch 47/50\n",
            "81/81 [==============================] - 12s 151ms/step - loss: 0.6338 - acc: 0.7611 - val_loss: 0.8353 - val_acc: 0.6982\n",
            "Epoch 48/50\n",
            "81/81 [==============================] - 12s 150ms/step - loss: 0.6321 - acc: 0.7674 - val_loss: 0.8934 - val_acc: 0.6927\n",
            "Epoch 49/50\n",
            "81/81 [==============================] - 12s 151ms/step - loss: 0.6362 - acc: 0.7705 - val_loss: 0.7942 - val_acc: 0.7109\n",
            "Epoch 50/50\n",
            "81/81 [==============================] - 12s 150ms/step - loss: 0.6306 - acc: 0.7611 - val_loss: 0.8786 - val_acc: 0.6873\n"
          ],
          "name": "stdout"
        }
      ]
    },
    {
      "cell_type": "markdown",
      "metadata": {
        "id": "smooth-clause"
      },
      "source": [
        "### plot  the learning curves "
      ],
      "id": "smooth-clause"
    },
    {
      "cell_type": "code",
      "metadata": {
        "id": "assigned-subdivision",
        "colab": {
          "base_uri": "https://localhost:8080/",
          "height": 544
        },
        "outputId": "1f7b3aa7-9034-48b1-babe-e03907cde941"
      },
      "source": [
        "#model = load_model('name_of_model_to_load.h5')\n",
        "epoch_num=PARAMS['n_epochs']\n",
        "acc = history.history['acc']\n",
        "val_acc = history.history['val_acc']\n",
        "\n",
        "plt.plot(range(epoch_num), acc, 'b', label='Training accuracy')\n",
        "plt.plot(range(epoch_num), val_acc, 'g', label='Validation accuracy')\n",
        "plt.title('Training and validation accuracy')\n",
        "plt.legend()\n",
        "\n",
        "\n",
        "loss = history.history['loss']\n",
        "val_loss = history.history['val_loss']\n",
        "\n",
        "plt.figure()\n",
        "plt.plot(range(epoch_num), loss, 'b', label='Training loss')\n",
        "plt.plot(range(epoch_num), val_loss, 'g', label='Validation loss')\n",
        "plt.title('Training and validation loss')\n",
        "plt.legend()\n",
        "\n",
        "\n",
        "plt.show()"
      ],
      "id": "assigned-subdivision",
      "execution_count": 74,
      "outputs": [
        {
          "output_type": "display_data",
          "data": {
            "image/png": "[encoded data removed]",
            "text/plain": [
              "<Figure size 432x288 with 1 Axes>"
            ]
          },
          "metadata": {
            "tags": [],
            "needs_background": "light"
          }
        },
        {
          "output_type": "display_data",
          "data": {
            "image/png": "[encoded data removed]",
            "text/plain": [
              "<Figure size 432x288 with 1 Axes>"
            ]
          },
          "metadata": {
            "tags": [],
            "needs_background": "light"
          }
        }
      ]
    },
    {
      "cell_type": "markdown",
      "metadata": {
        "id": "defined-retirement"
      },
      "source": [
        "### Test model on *'test'* dataset"
      ],
      "id": "defined-retirement"
    },
    {
      "cell_type": "code",
      "metadata": {
        "id": "numeric-modeling",
        "colab": {
          "base_uri": "https://localhost:8080/"
        },
        "outputId": "b50eed4c-9204-41da-e597-2935bc1adc9c"
      },
      "source": [
        "test_score = model.evaluate(test)\n",
        "print(model.metrics_names)\n",
        "print(test_score)\n",
        "print()\n",
        "print(\"Accuracy = \",test_score[1]*100,'%')"
      ],
      "id": "numeric-modeling",
      "execution_count": 75,
      "outputs": [
        {
          "output_type": "stream",
          "text": [
            "18/18 [==============================] - 1s 69ms/step - loss: 0.8774 - acc: 0.6818\n",
            "['loss', 'acc']\n",
            "[0.8774007558822632, 0.6818181872367859]\n",
            "\n",
            "Accuracy =  68.18181872367859 %\n"
          ],
          "name": "stdout"
        }
      ]
    },
    {
      "cell_type": "markdown",
      "metadata": {
        "id": "backed-senior"
      },
      "source": [
        "## Augmentation"
      ],
      "id": "backed-senior"
    },
    {
      "cell_type": "markdown",
      "metadata": {
        "id": "earned-collar"
      },
      "source": [
        "## Transfer learning"
      ],
      "id": "earned-collar"
    },
    {
      "cell_type": "code",
      "metadata": {
        "id": "boxed-drawing"
      },
      "source": [
        "tensorflow.keras.backend.clear_session()"
      ],
      "id": "boxed-drawing",
      "execution_count": null,
      "outputs": []
    },
    {
      "cell_type": "code",
      "metadata": {
        "id": "moving-advantage"
      },
      "source": [
        "from tensorflow.keras.applications import VGG16"
      ],
      "id": "moving-advantage",
      "execution_count": null,
      "outputs": []
    },
    {
      "cell_type": "code",
      "metadata": {
        "id": "employed-saskatchewan"
      },
      "source": [
        "pretrained_net = VGG16(input_shape=(100,100,3),include_top=False,weights='imagenet')"
      ],
      "id": "employed-saskatchewan",
      "execution_count": null,
      "outputs": []
    },
    {
      "cell_type": "code",
      "metadata": {
        "scrolled": true,
        "id": "hungry-brush",
        "outputId": "22abdcc9-99df-435e-d06b-49f8e8d3fc85"
      },
      "source": [
        "pretrained_net.summary()"
      ],
      "id": "hungry-brush",
      "execution_count": null,
      "outputs": [
        {
          "output_type": "stream",
          "text": [
            "Model: \"vgg16\"\n",
            "_________________________________________________________________\n",
            "Layer (type)                 Output Shape              Param #   \n",
            "=================================================================\n",
            "input_1 (InputLayer)         [(None, 100, 100, 3)]     0         \n",
            "_________________________________________________________________\n",
            "block1_conv1 (Conv2D)        (None, 100, 100, 64)      1792      \n",
            "_________________________________________________________________\n",
            "block1_conv2 (Conv2D)        (None, 100, 100, 64)      36928     \n",
            "_________________________________________________________________\n",
            "block1_pool (MaxPooling2D)   (None, 50, 50, 64)        0         \n",
            "_________________________________________________________________\n",
            "block2_conv1 (Conv2D)        (None, 50, 50, 128)       73856     \n",
            "_________________________________________________________________\n",
            "block2_conv2 (Conv2D)        (None, 50, 50, 128)       147584    \n",
            "_________________________________________________________________\n",
            "block2_pool (MaxPooling2D)   (None, 25, 25, 128)       0         \n",
            "_________________________________________________________________\n",
            "block3_conv1 (Conv2D)        (None, 25, 25, 256)       295168    \n",
            "_________________________________________________________________\n",
            "block3_conv2 (Conv2D)        (None, 25, 25, 256)       590080    \n",
            "_________________________________________________________________\n",
            "block3_conv3 (Conv2D)        (None, 25, 25, 256)       590080    \n",
            "_________________________________________________________________\n",
            "block3_pool (MaxPooling2D)   (None, 12, 12, 256)       0         \n",
            "_________________________________________________________________\n",
            "block4_conv1 (Conv2D)        (None, 12, 12, 512)       1180160   \n",
            "_________________________________________________________________\n",
            "block4_conv2 (Conv2D)        (None, 12, 12, 512)       2359808   \n",
            "_________________________________________________________________\n",
            "block4_conv3 (Conv2D)        (None, 12, 12, 512)       2359808   \n",
            "_________________________________________________________________\n",
            "block4_pool (MaxPooling2D)   (None, 6, 6, 512)         0         \n",
            "_________________________________________________________________\n",
            "block5_conv1 (Conv2D)        (None, 6, 6, 512)         2359808   \n",
            "_________________________________________________________________\n",
            "block5_conv2 (Conv2D)        (None, 6, 6, 512)         2359808   \n",
            "_________________________________________________________________\n",
            "block5_conv3 (Conv2D)        (None, 6, 6, 512)         2359808   \n",
            "_________________________________________________________________\n",
            "block5_pool (MaxPooling2D)   (None, 3, 3, 512)         0         \n",
            "=================================================================\n",
            "Total params: 14,714,688\n",
            "Trainable params: 14,714,688\n",
            "Non-trainable params: 0\n",
            "_________________________________________________________________\n"
          ],
          "name": "stdout"
        }
      ]
    },
    {
      "cell_type": "code",
      "metadata": {
        "id": "musical-declaration"
      },
      "source": [
        "for layer in pretrained_net.layers:\n",
        "    layer.trainable=False"
      ],
      "id": "musical-declaration",
      "execution_count": null,
      "outputs": []
    },
    {
      "cell_type": "code",
      "metadata": {
        "id": "brilliant-savage"
      },
      "source": [
        "model = models.Sequential()\n",
        "model.add(pretrained_net)\n",
        "model.add(layers.Flatten())\n",
        "model.add(layers.Dense(5, activation='softmax'))"
      ],
      "id": "brilliant-savage",
      "execution_count": null,
      "outputs": []
    },
    {
      "cell_type": "code",
      "metadata": {
        "id": "emerging-quebec",
        "outputId": "a2ae3f59-53a0-43e0-a83b-bff6e3a1b0c9"
      },
      "source": [
        "model.summary()"
      ],
      "id": "emerging-quebec",
      "execution_count": null,
      "outputs": [
        {
          "output_type": "stream",
          "text": [
            "Model: \"sequential\"\n",
            "_________________________________________________________________\n",
            "Layer (type)                 Output Shape              Param #   \n",
            "=================================================================\n",
            "vgg16 (Functional)           (None, 3, 3, 512)         14714688  \n",
            "_________________________________________________________________\n",
            "flatten (Flatten)            (None, 4608)              0         \n",
            "_________________________________________________________________\n",
            "dense (Dense)                (None, 5)                 23045     \n",
            "=================================================================\n",
            "Total params: 14,737,733\n",
            "Trainable params: 23,045\n",
            "Non-trainable params: 14,714,688\n",
            "_________________________________________________________________\n"
          ],
          "name": "stdout"
        }
      ]
    },
    {
      "cell_type": "code",
      "metadata": {
        "id": "numerous-harassment"
      },
      "source": [
        "# compile model (and choose optimiser )\n",
        "model.compile(loss=PARAMS['loss'],\n",
        "              optimizer=optimizers.RMSprop(PARAMS['lr']),\n",
        "              metrics=[PARAMS['metrics']])"
      ],
      "id": "numerous-harassment",
      "execution_count": null,
      "outputs": []
    },
    {
      "cell_type": "code",
      "metadata": {
        "id": "julian-publisher",
        "outputId": "e8f728d2-f8e0-4c78-c5d0-cdb4cc2b94ad"
      },
      "source": [
        "# Fit the model \n",
        "spe=len(train)   # train_size/batch_size\n",
        "epoch_num=PARAMS['n_epochs']\n",
        "val_steps=len(validation)  # validation_size/batch_size\n",
        "\n",
        "\n",
        "history = model.fit(\n",
        "            train,\n",
        "            steps_per_epoch=spe,  \n",
        "            epochs=epoch_num,\n",
        "            validation_data=validation,\n",
        "            validation_steps=val_steps) \n",
        "#model.save(PARAMS['save_model'])"
      ],
      "id": "julian-publisher",
      "execution_count": null,
      "outputs": [
        {
          "output_type": "stream",
          "text": [
            "Epoch 1/50\n",
            "81/81 [==============================] - 48s 585ms/step - loss: 1.6576 - acc: 0.2314 - val_loss: 1.4914 - val_acc: 0.3789\n",
            "Epoch 2/50\n",
            "81/81 [==============================] - 47s 580ms/step - loss: 1.4602 - acc: 0.3902 - val_loss: 1.3676 - val_acc: 0.4900\n",
            "Epoch 3/50\n",
            "81/81 [==============================] - 47s 579ms/step - loss: 1.3354 - acc: 0.5090 - val_loss: 1.2734 - val_acc: 0.5647\n",
            "Epoch 4/50\n",
            "81/81 [==============================] - 47s 579ms/step - loss: 1.2460 - acc: 0.5619 - val_loss: 1.2026 - val_acc: 0.6102\n",
            "Epoch 5/50\n",
            "81/81 [==============================] - 47s 577ms/step - loss: 1.1680 - acc: 0.6130 - val_loss: 1.1434 - val_acc: 0.6157\n",
            "Epoch 6/50\n",
            "81/81 [==============================] - 47s 579ms/step - loss: 1.1207 - acc: 0.6030 - val_loss: 1.0950 - val_acc: 0.6430\n",
            "Epoch 7/50\n",
            "81/81 [==============================] - 47s 579ms/step - loss: 1.0533 - acc: 0.6545 - val_loss: 1.0584 - val_acc: 0.6503\n",
            "Epoch 8/50\n",
            "81/81 [==============================] - 47s 580ms/step - loss: 1.0267 - acc: 0.6472 - val_loss: 1.0250 - val_acc: 0.6667\n",
            "Epoch 9/50\n",
            "81/81 [==============================] - 47s 583ms/step - loss: 0.9744 - acc: 0.6860 - val_loss: 1.0008 - val_acc: 0.6703\n",
            "Epoch 10/50\n",
            "81/81 [==============================] - 47s 580ms/step - loss: 0.9798 - acc: 0.6616 - val_loss: 0.9772 - val_acc: 0.6794\n",
            "Epoch 11/50\n",
            "81/81 [==============================] - 47s 579ms/step - loss: 0.9442 - acc: 0.6856 - val_loss: 0.9571 - val_acc: 0.6867\n",
            "Epoch 12/50\n",
            "81/81 [==============================] - 47s 580ms/step - loss: 0.9142 - acc: 0.6887 - val_loss: 0.9415 - val_acc: 0.6958\n",
            "Epoch 13/50\n",
            "81/81 [==============================] - 47s 587ms/step - loss: 0.8814 - acc: 0.7034 - val_loss: 0.9226 - val_acc: 0.7013\n",
            "Epoch 14/50\n",
            "81/81 [==============================] - 47s 580ms/step - loss: 0.8588 - acc: 0.7094 - val_loss: 0.9080 - val_acc: 0.6995\n",
            "Epoch 15/50\n",
            "81/81 [==============================] - 47s 580ms/step - loss: 0.8659 - acc: 0.7069 - val_loss: 0.8949 - val_acc: 0.7122\n",
            "Epoch 16/50\n",
            "81/81 [==============================] - 47s 584ms/step - loss: 0.8394 - acc: 0.7191 - val_loss: 0.8852 - val_acc: 0.7086\n",
            "Epoch 17/50\n",
            "81/81 [==============================] - 47s 580ms/step - loss: 0.8450 - acc: 0.7110 - val_loss: 0.8744 - val_acc: 0.7250\n",
            "Epoch 18/50\n",
            "81/81 [==============================] - 47s 580ms/step - loss: 0.8237 - acc: 0.7127 - val_loss: 0.8646 - val_acc: 0.7268\n",
            "Epoch 19/50\n",
            "81/81 [==============================] - 47s 581ms/step - loss: 0.8227 - acc: 0.7283 - val_loss: 0.8555 - val_acc: 0.7268\n",
            "Epoch 20/50\n",
            "81/81 [==============================] - 47s 579ms/step - loss: 0.7645 - acc: 0.7504 - val_loss: 0.8492 - val_acc: 0.7286\n",
            "Epoch 21/50\n",
            "81/81 [==============================] - 47s 581ms/step - loss: 0.7872 - acc: 0.7346 - val_loss: 0.8404 - val_acc: 0.7341\n",
            "Epoch 22/50\n",
            "81/81 [==============================] - 47s 580ms/step - loss: 0.7799 - acc: 0.7350 - val_loss: 0.8352 - val_acc: 0.7286\n",
            "Epoch 23/50\n",
            "81/81 [==============================] - 47s 580ms/step - loss: 0.7945 - acc: 0.7216 - val_loss: 0.8265 - val_acc: 0.7359\n",
            "Epoch 24/50\n",
            "81/81 [==============================] - 47s 579ms/step - loss: 0.7448 - acc: 0.7458 - val_loss: 0.8228 - val_acc: 0.7432\n",
            "Epoch 25/50\n",
            "81/81 [==============================] - 47s 580ms/step - loss: 0.7629 - acc: 0.7346 - val_loss: 0.8169 - val_acc: 0.7359\n",
            "Epoch 26/50\n",
            "81/81 [==============================] - 47s 580ms/step - loss: 0.7580 - acc: 0.7427 - val_loss: 0.8108 - val_acc: 0.7486\n",
            "Epoch 27/50\n",
            "81/81 [==============================] - 47s 581ms/step - loss: 0.7309 - acc: 0.7528 - val_loss: 0.8077 - val_acc: 0.7377\n",
            "Epoch 28/50\n",
            "81/81 [==============================] - 47s 582ms/step - loss: 0.7344 - acc: 0.7459 - val_loss: 0.8000 - val_acc: 0.7304\n",
            "Epoch 29/50\n",
            "81/81 [==============================] - 47s 580ms/step - loss: 0.7248 - acc: 0.7607 - val_loss: 0.7961 - val_acc: 0.7413\n",
            "Epoch 30/50\n",
            "81/81 [==============================] - 47s 579ms/step - loss: 0.7332 - acc: 0.7413 - val_loss: 0.7930 - val_acc: 0.7432\n",
            "Epoch 31/50\n",
            "81/81 [==============================] - 47s 580ms/step - loss: 0.7255 - acc: 0.7512 - val_loss: 0.7896 - val_acc: 0.7468\n",
            "Epoch 32/50\n",
            "81/81 [==============================] - 47s 579ms/step - loss: 0.7195 - acc: 0.7538 - val_loss: 0.7855 - val_acc: 0.7413\n",
            "Epoch 33/50\n",
            "81/81 [==============================] - 47s 579ms/step - loss: 0.6885 - acc: 0.7601 - val_loss: 0.7817 - val_acc: 0.7486\n",
            "Epoch 34/50\n",
            "81/81 [==============================] - 47s 580ms/step - loss: 0.7124 - acc: 0.7556 - val_loss: 0.7777 - val_acc: 0.7432\n",
            "Epoch 35/50\n",
            "81/81 [==============================] - 47s 580ms/step - loss: 0.6929 - acc: 0.7578 - val_loss: 0.7778 - val_acc: 0.7413\n",
            "Epoch 36/50\n",
            "81/81 [==============================] - 47s 582ms/step - loss: 0.6695 - acc: 0.7747 - val_loss: 0.7711 - val_acc: 0.7413\n",
            "Epoch 37/50\n",
            "81/81 [==============================] - 47s 580ms/step - loss: 0.6998 - acc: 0.7554 - val_loss: 0.7711 - val_acc: 0.7468\n",
            "Epoch 38/50\n",
            "81/81 [==============================] - 47s 580ms/step - loss: 0.6749 - acc: 0.7716 - val_loss: 0.7671 - val_acc: 0.7413\n",
            "Epoch 39/50\n",
            "81/81 [==============================] - 47s 580ms/step - loss: 0.6726 - acc: 0.7715 - val_loss: 0.7625 - val_acc: 0.7486\n",
            "Epoch 40/50\n",
            "81/81 [==============================] - 47s 580ms/step - loss: 0.6804 - acc: 0.7633 - val_loss: 0.7596 - val_acc: 0.7541\n",
            "Epoch 41/50\n",
            "81/81 [==============================] - 47s 579ms/step - loss: 0.6625 - acc: 0.7713 - val_loss: 0.7564 - val_acc: 0.7541\n",
            "Epoch 42/50\n",
            "81/81 [==============================] - 47s 580ms/step - loss: 0.6537 - acc: 0.7865 - val_loss: 0.7562 - val_acc: 0.7486\n",
            "Epoch 43/50\n",
            "81/81 [==============================] - 47s 580ms/step - loss: 0.6638 - acc: 0.7698 - val_loss: 0.7551 - val_acc: 0.7505\n",
            "Epoch 44/50\n",
            "81/81 [==============================] - 47s 587ms/step - loss: 0.6476 - acc: 0.7792 - val_loss: 0.7521 - val_acc: 0.7596\n",
            "Epoch 45/50\n",
            "81/81 [==============================] - 47s 581ms/step - loss: 0.6416 - acc: 0.7828 - val_loss: 0.7534 - val_acc: 0.7523\n",
            "Epoch 46/50\n",
            "81/81 [==============================] - 47s 579ms/step - loss: 0.6363 - acc: 0.7910 - val_loss: 0.7511 - val_acc: 0.7614\n",
            "Epoch 47/50\n",
            "81/81 [==============================] - 47s 581ms/step - loss: 0.6443 - acc: 0.7782 - val_loss: 0.7465 - val_acc: 0.7523\n",
            "Epoch 48/50\n",
            "81/81 [==============================] - 47s 580ms/step - loss: 0.6206 - acc: 0.7902 - val_loss: 0.7490 - val_acc: 0.7505\n",
            "Epoch 49/50\n",
            "81/81 [==============================] - 47s 581ms/step - loss: 0.6062 - acc: 0.7924 - val_loss: 0.7410 - val_acc: 0.7559\n",
            "Epoch 50/50\n",
            "81/81 [==============================] - 47s 577ms/step - loss: 0.6481 - acc: 0.7771 - val_loss: 0.7384 - val_acc: 0.7577\n"
          ],
          "name": "stdout"
        }
      ]
    },
    {
      "cell_type": "code",
      "metadata": {
        "code_folding": [],
        "id": "olive-payment",
        "outputId": "0612ee31-0e24-42f6-afbc-22a7f0069067"
      },
      "source": [
        "#model = load_model('name_of_model_to_load.h5')\n",
        "epoch_num=PARAMS['n_epochs']\n",
        "acc = history.history['acc']\n",
        "val_acc = history.history['val_acc']\n",
        "\n",
        "plt.plot(range(epoch_num), acc, 'b', label='Training accuracy')\n",
        "plt.plot(range(epoch_num), val_acc, 'g', label='Validation accuracy')\n",
        "plt.title('Training and validation accuracy')\n",
        "plt.legend()\n",
        "\n",
        "\n",
        "loss = history.history['loss']\n",
        "val_loss = history.history['val_loss']\n",
        "\n",
        "plt.figure()\n",
        "plt.plot(range(epoch_num), loss, 'b', label='Training loss')\n",
        "plt.plot(range(epoch_num), val_loss, 'g', label='Validation loss')\n",
        "plt.title('Training and validation loss')\n",
        "plt.legend()\n",
        "\n",
        "\n",
        "plt.show()"
      ],
      "id": "olive-payment",
      "execution_count": null,
      "outputs": [
        {
          "output_type": "display_data",
          "data": {
            "image/png": "[encoded data removed]",
            "text/plain": [
              "<Figure size 432x288 with 1 Axes>"
            ]
          },
          "metadata": {
            "tags": [],
            "needs_background": "light"
          }
        },
        {
          "output_type": "display_data",
          "data": {
            "image/png": "[encoded data removed]",
            "text/plain": [
              "<Figure size 432x288 with 1 Axes>"
            ]
          },
          "metadata": {
            "tags": [],
            "needs_background": "light"
          }
        }
      ]
    },
    {
      "cell_type": "code",
      "metadata": {
        "id": "informative-layer",
        "outputId": "c71292d9-0ceb-4112-8c27-341ded6c4592"
      },
      "source": [
        "test_score = model.evaluate(test)\n",
        "print(model.metrics_names)\n",
        "print(test_score)\n",
        "print()\n",
        "print(\"Accuracy = \",test_score[1]*100,'%')"
      ],
      "id": "informative-layer",
      "execution_count": null,
      "outputs": [
        {
          "output_type": "stream",
          "text": [
            "18/18 [==============================] - 8s 457ms/step - loss: 0.7085 - acc: 0.7527\n",
            "['loss', 'acc']\n",
            "[0.7084954977035522, 0.7527272701263428]\n",
            "\n",
            "Accuracy =  75.27272701263428 %\n"
          ],
          "name": "stdout"
        }
      ]
    },
    {
      "cell_type": "code",
      "metadata": {
        "id": "solved-cannon"
      },
      "source": [
        "labels=(train.class_indices)"
      ],
      "id": "solved-cannon",
      "execution_count": null,
      "outputs": []
    },
    {
      "cell_type": "code",
      "metadata": {
        "id": "round-hampshire",
        "outputId": "c063c82b-f04b-46da-bed5-412281cdf23b"
      },
      "source": [
        "print(labels)"
      ],
      "id": "round-hampshire",
      "execution_count": null,
      "outputs": [
        {
          "output_type": "stream",
          "text": [
            "{'daisy': 0, 'dandelion': 1, 'rose': 2, 'sunflower': 3, 'tulip': 4}\n"
          ],
          "name": "stdout"
        }
      ]
    },
    {
      "cell_type": "code",
      "metadata": {
        "id": "plain-vaccine"
      },
      "source": [
        "labels=dict((value,key) for key, value in labels.items())"
      ],
      "id": "plain-vaccine",
      "execution_count": null,
      "outputs": []
    },
    {
      "cell_type": "code",
      "metadata": {
        "id": "limiting-notion"
      },
      "source": [
        "predicted_class=labels[np.argmax([0,0.87,0.1,0.03,0],axis=-1)]"
      ],
      "id": "limiting-notion",
      "execution_count": null,
      "outputs": []
    },
    {
      "cell_type": "code",
      "metadata": {
        "id": "earned-recipient",
        "outputId": "36b070b7-3a45-4cfd-8511-d4c68f698d79"
      },
      "source": [
        "print(predicted_class)"
      ],
      "id": "earned-recipient",
      "execution_count": null,
      "outputs": [
        {
          "output_type": "stream",
          "text": [
            "dandelion\n"
          ],
          "name": "stdout"
        }
      ]
    },
    {
      "cell_type": "code",
      "metadata": {
        "id": "systematic-letters"
      },
      "source": [
        ""
      ],
      "id": "systematic-letters",
      "execution_count": null,
      "outputs": []
    }
  ]
}