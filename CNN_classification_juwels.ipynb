{
 "cells": [
  {
   "cell_type": "markdown",
   "metadata": {
    "toc": true
   },
   "source": [
    "<h1>Table of Contents<span class=\"tocSkip\"></span></h1>\n",
    "<div class=\"toc\"><ul class=\"toc-item\"><li><ul class=\"toc-item\"><li><span><a href=\"#Steps:\" data-toc-modified-id=\"Steps:-0.1\"><span class=\"toc-item-num\">0.1&nbsp;&nbsp;</span>Steps:</a></span></li><li><span><a href=\"#General\" data-toc-modified-id=\"General-0.2\"><span class=\"toc-item-num\">0.2&nbsp;&nbsp;</span>General</a></span></li></ul></li><li><span><a href=\"#DATA\" data-toc-modified-id=\"DATA-1\"><span class=\"toc-item-num\">1&nbsp;&nbsp;</span>DATA</a></span><ul class=\"toc-item\"><li><span><a href=\"#Data-directories\" data-toc-modified-id=\"Data-directories-1.1\"><span class=\"toc-item-num\">1.1&nbsp;&nbsp;</span>Data directories</a></span></li></ul></li><li><span><a href=\"#Model\" data-toc-modified-id=\"Model-2\"><span class=\"toc-item-num\">2&nbsp;&nbsp;</span>Model</a></span><ul class=\"toc-item\"><li><span><a href=\"#Define-the-model-layers\" data-toc-modified-id=\"Define-the-model-layers-2.1\"><span class=\"toc-item-num\">2.1&nbsp;&nbsp;</span>Define the model layers</a></span></li><li><span><a href=\"#Compile-the-model\" data-toc-modified-id=\"Compile-the-model-2.2\"><span class=\"toc-item-num\">2.2&nbsp;&nbsp;</span>Compile the model</a></span><ul class=\"toc-item\"><li><span><a href=\"#Model-summary\" data-toc-modified-id=\"Model-summary-2.2.1\"><span class=\"toc-item-num\">2.2.1&nbsp;&nbsp;</span>Model summary</a></span></li><li><span><a href=\"#Plot-a-graph-of-the-model-architecture\" data-toc-modified-id=\"Plot-a-graph-of-the-model-architecture-2.2.2\"><span class=\"toc-item-num\">2.2.2&nbsp;&nbsp;</span>Plot a graph of the model architecture</a></span></li></ul></li><li><span><a href=\"#Train-the-model\" data-toc-modified-id=\"Train-the-model-2.3\"><span class=\"toc-item-num\">2.3&nbsp;&nbsp;</span>Train the model</a></span></li><li><span><a href=\"#Plot--the-learning-curves\" data-toc-modified-id=\"Plot--the-learning-curves-2.4\"><span class=\"toc-item-num\">2.4&nbsp;&nbsp;</span>Plot  the learning curves</a></span></li><li><span><a href=\"#Test-model-on-'test'-dataset\" data-toc-modified-id=\"Test-model-on-'test'-dataset-2.5\"><span class=\"toc-item-num\">2.5&nbsp;&nbsp;</span>Test model on <em>'test'</em> dataset</a></span></li></ul></li><li><span><a href=\"#Dropout\" data-toc-modified-id=\"Dropout-3\"><span class=\"toc-item-num\">3&nbsp;&nbsp;</span>Dropout</a></span></li><li><span><a href=\"#Augmentation\" data-toc-modified-id=\"Augmentation-4\"><span class=\"toc-item-num\">4&nbsp;&nbsp;</span>Augmentation</a></span></li><li><span><a href=\"#Transfer-learning\" data-toc-modified-id=\"Transfer-learning-5\"><span class=\"toc-item-num\">5&nbsp;&nbsp;</span>Transfer learning</a></span></li></ul></div>"
   ]
  },
  {
   "cell_type": "markdown",
   "metadata": {},
   "source": [
    "# Classification with Convolutional Neural Networks\n"
   ]
  },
  {
   "cell_type": "markdown",
   "metadata": {},
   "source": [
    "The aim of this notebook is to showcase in practice - i.e. in code - how to build a simple CNN for the purpose of classifying image data.\n",
    "\n",
    "The dataset used is intentionally a relatively small dataset, for the sake of time economy, but also in order to reduce the computational resources required.\n",
    "\n",
    "\n",
    "Remember: https://keras.io is a useful source of information regarding Keras and Tensorflow.\n"
   ]
  },
  {
   "cell_type": "markdown",
   "metadata": {},
   "source": [
    "###  Steps:\n",
    "\n",
    "1) DATA. As a first step we will load the original data and divide the available images into three datasets (training, validation, test). \n",
    "\n",
    "2) MODEL. Build the network architecture: this is the part where we put together the code which: describes the neural network, processes the images, and feeds the images into the network for training.\n",
    "\n",
    "3) LEARNING CURVES. Once the training is finished, plot the performance of the trained model \n",
    "\n",
    "4) DROPOUT. A first effort to improve the performance of the model (if we observed overfitting earlier).\n",
    "\n",
    "5) AUGMENTATION. Another way to improve model accuracy or avoid overfitting\n",
    "\n",
    "6) TRANSFER LEARNING. \n",
    "\n"
   ]
  },
  {
   "cell_type": "markdown",
   "metadata": {},
   "source": [
    "### General\n",
    "\n",
    "Let's start by importing **various useful** libraries in one go. \n",
    "We also check the versions of keras and tensorflow he have in our disposal (because we can).\n",
    "If more libraries become needed later on, come back to the cell below and add them here."
   ]
  },
  {
   "cell_type": "code",
   "execution_count": 1,
   "metadata": {},
   "outputs": [
    {
     "name": "stdout",
     "output_type": "stream",
     "text": [
      "2.4.0\n",
      "2.3.1\n"
     ]
    }
   ],
   "source": [
    "import tensorflow\n",
    "from tensorflow import keras\n",
    "from tensorflow.keras import layers\n",
    "from tensorflow.keras import models\n",
    "from tensorflow.keras import optimizers\n",
    "from tensorflow.keras.preprocessing.image import ImageDataGenerator\n",
    "from tensorflow.keras.preprocessing import image\n",
    "import numpy as np\n",
    "import os, shutil\n",
    "from shutil import copyfile\n",
    "import random\n",
    "import matplotlib.pyplot as plt\n",
    "from tensorflow.keras.models import load_model\n",
    "\n",
    "print(keras.__version__)\n",
    "print(tensorflow.__version__)"
   ]
  },
  {
   "cell_type": "markdown",
   "metadata": {},
   "source": [
    "## DATA\n",
    "\n",
    "\n",
    "We will use an existing dataset, dowloaded from kaggle (https://www.kaggle.com/alxmamaev/flowers-recognition)\n",
    "\n",
    "This is a set of images of 5 different types of flowers. \n",
    "\n"
   ]
  },
  {
   "cell_type": "markdown",
   "metadata": {},
   "source": [
    "### Data directories\n",
    "\n",
    "**Create a hierarchy of directories**, with seperate directories for *training*,  *validation*, and *test* datasets. Each of these will contain a subdirectory for each *class*.\n",
    "\n",
    "_Important_: __obviously, building the datasets only needs to be done once.__ "
   ]
  },
  {
   "cell_type": "code",
   "execution_count": 2,
   "metadata": {},
   "outputs": [],
   "source": [
    "# In the line below define a 'base' name of an existing directory where you want to store \n",
    "# the original folder with the images and the datasets you are about to create.\n",
    "# Something like:  base = '/mnt/ceph/home/r1111683/data'\n",
    "\n",
    "base='/p/home/jusers/rantsiou1/juwels/data'"
   ]
  },
  {
   "cell_type": "code",
   "execution_count": 3,
   "metadata": {
    "code_folding": []
   },
   "outputs": [],
   "source": [
    "# define the directory to store the datasets\n",
    "classification_data_path=os.path.join(base + '/natural_images_classification') \n",
    "\n",
    "# create that directory\n",
    "if not os.path.exists(classification_data_path):\n",
    "  os.mkdir(classification_data_path)\n",
    "\n",
    "# define datasets (i.e. subdirs within the 'base' dir) and define classes (i.e. sub-subdirs for each of the dataset directories)\n",
    "datasets=['train','validation','test']\n",
    "classes=['airplane','car','cat','dog','flower','fruit','motorbike','person']\n",
    "\n",
    "# create that hierarchy of dirs and subdirs\n",
    "for dtype in datasets:\n",
    "  path_set=os.path.join(classification_data_path,dtype)\n",
    "  if not os.path.exists(path_set):\n",
    "    os.mkdir(path_set)\n",
    "  for c in classes:\n",
    "    path_class=os.path.join(path_set,c)\n",
    "    if not os.path.exists(path_class):\n",
    "      os.mkdir(path_class)      "
   ]
  },
  {
   "cell_type": "code",
   "execution_count": 14,
   "metadata": {},
   "outputs": [],
   "source": [
    "# Function  - named 'pop_dirs' - for splitting the data into train, validation, and test data (after shuffling them) \n",
    "# and populating the directory tree created above.\n",
    "\n",
    "def pop_dirs(SOURCE, TRAINING, VALIDATION, TEST, SPLIT_SIZE):\n",
    "    # create list of all files in the SOURCE directory\n",
    "    files = []\n",
    "    for filename in os.listdir(SOURCE):\n",
    "        file = SOURCE + filename\n",
    "        if os.path.getsize(file) > 0:\n",
    "            files.append(filename)\n",
    "        else:\n",
    "            print(filename + \" is zero length, will skip.\")\n",
    "\n",
    "            \n",
    "            \n",
    "    training_length = int(len(files) * SPLIT_SIZE)               \n",
    "    validation_length = int((len(files) - training_length)/2.0)\n",
    "    test_length = validation_length\n",
    "    shuffled_set = random.sample(files, len(files))\n",
    "    training_set = shuffled_set[0:training_length]\n",
    "    validation_set = shuffled_set[training_length:training_length+validation_length]\n",
    "    test_set = shuffled_set[training_length+validation_length:training_length+validation_length+test_length]\n",
    "\n",
    "    for filename in training_set:\n",
    "        this_file = SOURCE + filename\n",
    "        destination = TRAINING + filename\n",
    "        copyfile(this_file, destination)\n",
    "\n",
    "    for filename in validation_set:\n",
    "        this_file = SOURCE + filename\n",
    "        destination = VALIDATION + filename\n",
    "        copyfile(this_file, destination)\n",
    "\n",
    "    for filename in test_set:\n",
    "        this_file = SOURCE + filename\n",
    "        destination = TEST + filename\n",
    "        copyfile(this_file, destination)"
   ]
  },
  {
   "cell_type": "code",
   "execution_count": 15,
   "metadata": {},
   "outputs": [
    {
     "name": "stdout",
     "output_type": "stream",
     "text": [
      "Copyting data FROM:\n",
      "/p/home/jusers/rantsiou1/juwels/data/natural_images/airplane/\n",
      "TO:\n",
      "/p/home/jusers/rantsiou1/juwels/data/natural_images_classification/train/airplane/\n",
      "/p/home/jusers/rantsiou1/juwels/data/natural_images_classification/validation/airplane/\n",
      "/p/home/jusers/rantsiou1/juwels/data/natural_images_classification/test/airplane/\n",
      "\n",
      "\n",
      "Copyting data FROM:\n",
      "/p/home/jusers/rantsiou1/juwels/data/natural_images/car/\n",
      "TO:\n",
      "/p/home/jusers/rantsiou1/juwels/data/natural_images_classification/train/car/\n",
      "/p/home/jusers/rantsiou1/juwels/data/natural_images_classification/validation/car/\n",
      "/p/home/jusers/rantsiou1/juwels/data/natural_images_classification/test/car/\n",
      "\n",
      "\n",
      "Copyting data FROM:\n",
      "/p/home/jusers/rantsiou1/juwels/data/natural_images/cat/\n",
      "TO:\n",
      "/p/home/jusers/rantsiou1/juwels/data/natural_images_classification/train/cat/\n",
      "/p/home/jusers/rantsiou1/juwels/data/natural_images_classification/validation/cat/\n",
      "/p/home/jusers/rantsiou1/juwels/data/natural_images_classification/test/cat/\n",
      "\n",
      "\n",
      "Copyting data FROM:\n",
      "/p/home/jusers/rantsiou1/juwels/data/natural_images/dog/\n",
      "TO:\n",
      "/p/home/jusers/rantsiou1/juwels/data/natural_images_classification/train/dog/\n",
      "/p/home/jusers/rantsiou1/juwels/data/natural_images_classification/validation/dog/\n",
      "/p/home/jusers/rantsiou1/juwels/data/natural_images_classification/test/dog/\n",
      "\n",
      "\n",
      "Copyting data FROM:\n",
      "/p/home/jusers/rantsiou1/juwels/data/natural_images/flower/\n",
      "TO:\n",
      "/p/home/jusers/rantsiou1/juwels/data/natural_images_classification/train/flower/\n",
      "/p/home/jusers/rantsiou1/juwels/data/natural_images_classification/validation/flower/\n",
      "/p/home/jusers/rantsiou1/juwels/data/natural_images_classification/test/flower/\n",
      "\n",
      "\n",
      "Copyting data FROM:\n",
      "/p/home/jusers/rantsiou1/juwels/data/natural_images/fruit/\n",
      "TO:\n",
      "/p/home/jusers/rantsiou1/juwels/data/natural_images_classification/train/fruit/\n",
      "/p/home/jusers/rantsiou1/juwels/data/natural_images_classification/validation/fruit/\n",
      "/p/home/jusers/rantsiou1/juwels/data/natural_images_classification/test/fruit/\n",
      "\n",
      "\n",
      "Copyting data FROM:\n",
      "/p/home/jusers/rantsiou1/juwels/data/natural_images/motorbike/\n",
      "TO:\n",
      "/p/home/jusers/rantsiou1/juwels/data/natural_images_classification/train/motorbike/\n",
      "/p/home/jusers/rantsiou1/juwels/data/natural_images_classification/validation/motorbike/\n",
      "/p/home/jusers/rantsiou1/juwels/data/natural_images_classification/test/motorbike/\n",
      "\n",
      "\n",
      "Copyting data FROM:\n",
      "/p/home/jusers/rantsiou1/juwels/data/natural_images/person/\n",
      "TO:\n",
      "/p/home/jusers/rantsiou1/juwels/data/natural_images_classification/train/person/\n",
      "/p/home/jusers/rantsiou1/juwels/data/natural_images_classification/validation/person/\n",
      "/p/home/jusers/rantsiou1/juwels/data/natural_images_classification/test/person/\n",
      "\n",
      "\n"
     ]
    }
   ],
   "source": [
    "# The actual copying of files from the 'data' folder into the folder hierarchy created earlier. \n",
    "\n",
    "j=0\n",
    "# fraction of data (from 0.0 to 1.0) to be used as training data. The rest will be split equally a\n",
    "split_size = .75   \n",
    "\n",
    "\n",
    "for c in classes:\n",
    "\n",
    "  src_path=os.path.join(base,'natural_images',c)+'/'\n",
    "\n",
    "  train_path=os.path.join(classification_data_path,'train',c)+'/' \n",
    "  validation_path=os.path.join(classification_data_path,'validation',c)+'/'\n",
    "  test_path=os.path.join(classification_data_path,'test',c)+'/'\n",
    "\n",
    "  print('Copyting data FROM:')\n",
    "  print(src_path)\n",
    "  print('TO:')\n",
    "  print(train_path)\n",
    "  print(validation_path)\n",
    "  print(test_path)\n",
    "  print('\\n')  \n",
    "    \n",
    "  pop_dirs(src_path, train_path, validation_path, test_path, split_size)\n",
    "  j+=1\n"
   ]
  },
  {
   "cell_type": "markdown",
   "metadata": {},
   "source": [
    "Check the number of images for each dataset and each class"
   ]
  },
  {
   "cell_type": "code",
   "execution_count": 16,
   "metadata": {},
   "outputs": [
    {
     "name": "stdout",
     "output_type": "stream",
     "text": [
      "number of train images in airplane : 526\n",
      "number of train images in car : 526\n",
      "number of train images in cat : 527\n",
      "number of train images in dog : 526\n",
      "number of train images in flower : 526\n",
      "number of train images in fruit : 526\n",
      "number of train images in motorbike : 526\n",
      "number of train images in person : 526\n",
      "number of validation images in airplane : 88\n",
      "number of validation images in car : 88\n",
      "number of validation images in cat : 88\n",
      "number of validation images in dog : 88\n",
      "number of validation images in flower : 88\n",
      "number of validation images in fruit : 88\n",
      "number of validation images in motorbike : 88\n",
      "number of validation images in person : 88\n",
      "number of test images in airplane : 88\n",
      "number of test images in car : 88\n",
      "number of test images in cat : 88\n",
      "number of test images in dog : 88\n",
      "number of test images in flower : 88\n",
      "number of test images in fruit : 88\n",
      "number of test images in motorbike : 88\n",
      "number of test images in person : 88\n"
     ]
    }
   ],
   "source": [
    "datasets=['train','validation','test']\n",
    "classes=['airplane','car','cat','dog','flower','fruit','motorbike','person']\n",
    "\n",
    "for dset in datasets:\n",
    "  for c in classes:\n",
    "    path=os.path.join(base,'natural_images_classification',dset,c)\n",
    "    print('number of',  dset,  'images in', c,':', len(os.listdir(path)))"
   ]
  },
  {
   "cell_type": "markdown",
   "metadata": {},
   "source": [
    "## Model\n",
    "\n",
    "This section containes the code for the CNN model"
   ]
  },
  {
   "cell_type": "code",
   "execution_count": 48,
   "metadata": {},
   "outputs": [],
   "source": [
    "# Run ONLY when clearing of the session is needed\n",
    "\n",
    "tensorflow.keras.backend.clear_session()"
   ]
  },
  {
   "cell_type": "code",
   "execution_count": 4,
   "metadata": {},
   "outputs": [],
   "source": [
    "# Place needed and updatable parameters in a dictionary for easy access and change\n",
    "PARAMS = {'lr': 1e-4, # Learning Rate\n",
    "          'batch_size': 64,\n",
    "          'n_epochs': 50,\n",
    "          'loss': 'categorical_crossentropy',\n",
    "          'metrics': 'acc', # accuracy\n",
    "          'image_input_shape' : (100,100,3),\n",
    "          'save_model' : 'classification_1.h5'\n",
    "          }"
   ]
  },
  {
   "cell_type": "code",
   "execution_count": 20,
   "metadata": {},
   "outputs": [
    {
     "name": "stdout",
     "output_type": "stream",
     "text": [
      "Found 4202 images belonging to 8 classes.\n",
      "Found 703 images belonging to 8 classes.\n",
      "Found 704 images belonging to 8 classes.\n"
     ]
    }
   ],
   "source": [
    "# Use the ImageDataGenerator class from Keras, and its flow_from_directory method to generate shuffled data batches\n",
    "\n",
    "train_datagen = ImageDataGenerator(rescale = 1.0/255.)#,horizontal_flip=True,zoom_range=0.2,rotation_range=20,width_shift_range=0.1,height_shift_range=0.1)\n",
    "validation_datagen = ImageDataGenerator(rescale = 1.0/255.)\n",
    "test_datagen = ImageDataGenerator(rescale = 1.0/255.)\n",
    "\n",
    "train = train_datagen.flow_from_directory(\n",
    "        classification_data_path+'/train',\n",
    "        target_size=(100, 100),\n",
    "        batch_size=PARAMS['batch_size'],\n",
    "        class_mode='categorical') \n",
    "\n",
    "validation = validation_datagen.flow_from_directory(\n",
    "        classification_data_path+'/validation',\n",
    "        target_size=(100, 100),\n",
    "        batch_size=PARAMS['batch_size'],\n",
    "        class_mode='categorical')\n",
    "\n",
    "\n",
    "test = test_datagen.flow_from_directory(\n",
    "        classification_data_path+'/test',\n",
    "        target_size=(100, 100),\n",
    "        batch_size=PARAMS['batch_size'],\n",
    "        class_mode='categorical')"
   ]
  },
  {
   "cell_type": "code",
   "execution_count": 6,
   "metadata": {},
   "outputs": [
    {
     "name": "stdout",
     "output_type": "stream",
     "text": [
      "Image batches have shape: (64, 100, 100, 3)\n",
      "Label batches have shape: (64, 8)\n"
     ]
    }
   ],
   "source": [
    "# Check the sizes of the image and label batches (useful for debugging size errors)\n",
    "for images_batch, labels_batch in train:\n",
    "    print('Image batches have shape:', images_batch.shape)\n",
    "    print('Label batches have shape:', labels_batch.shape)\n",
    "    break"
   ]
  },
  {
   "cell_type": "markdown",
   "metadata": {},
   "source": [
    "### Define the model layers\n"
   ]
  },
  {
   "cell_type": "markdown",
   "metadata": {},
   "source": [
    "Use Conv2D layers, each of wich will be followed by MaxPooling2D layer. \n",
    "\n",
    "- How many Conv2D layers to use? (in this case **3 is a good guess** to start with)\n",
    "- Number of filters for each? (powers of two typically used, with number of filters typically increassing in deeper layers, i.e. 32,64,128)\n",
    "- Size of these filters? 3x3, or 5x5, or 7x7 are typical values (start with **3x3**)\n",
    "- A Flatten layer should be added after the last Conv2D layer \n",
    "- Last layer should be a Dense layer with a 'softmax' activation, as we are building a 'classification' model\n",
    "- It is likely that more Dense layers can be added between the Flatten and the last Dense layer (the classifier).\n"
   ]
  },
  {
   "cell_type": "markdown",
   "metadata": {},
   "source": [
    "<font color='blue'> **Task 1:**\n",
    "+ Build the CNN, by adding the necessary sequence of layers: use what was discussed in the lecture and in the text just above as quide\n",
    "</font>"
   ]
  },
  {
   "cell_type": "code",
   "execution_count": 52,
   "metadata": {},
   "outputs": [],
   "source": [
    "# The model layers\n",
    "\n",
    "model = models.Sequential()\n",
    "model.add(layers.Conv2D(32, (3, 3), activation='relu',\n",
    "                        input_shape=PARAMS['image_input_shape']))\n",
    "model.add(layers.MaxPooling2D((2, 2)))\n",
    "model.add(layers.Conv2D(64, (3, 3), activation='relu'))\n",
    "model.add(layers.MaxPooling2D((2, 2)))\n",
    "model.add(layers.Conv2D(128, (3, 3), activation='relu'))\n",
    "model.add(layers.MaxPooling2D((2, 2)))\n",
    "#model.add(layers.Conv2D(256, (3, 3), activation='relu'))\n",
    "#model.add(layers.MaxPooling2D((2, 2)))\n",
    "model.add(layers.Flatten())\n",
    "model.add(layers.Dense(512,activation='relu'))\n",
    "model.add(layers.Dense(8, activation='softmax'))"
   ]
  },
  {
   "cell_type": "markdown",
   "metadata": {},
   "source": [
    "### Compile the model"
   ]
  },
  {
   "cell_type": "code",
   "execution_count": 53,
   "metadata": {},
   "outputs": [],
   "source": [
    "model.compile(loss=PARAMS['loss'],\n",
    "              optimizer=optimizers.Adam(lr=PARAMS['lr']),\n",
    "              metrics=[PARAMS['metrics']])"
   ]
  },
  {
   "cell_type": "markdown",
   "metadata": {},
   "source": [
    "#### Model summary\n",
    "\n",
    "Draw a summary of each layer of the model."
   ]
  },
  {
   "cell_type": "code",
   "execution_count": 54,
   "metadata": {},
   "outputs": [
    {
     "name": "stdout",
     "output_type": "stream",
     "text": [
      "Model: \"sequential\"\n",
      "_________________________________________________________________\n",
      "Layer (type)                 Output Shape              Param #   \n",
      "=================================================================\n",
      "conv2d (Conv2D)              (None, 98, 98, 32)        896       \n",
      "_________________________________________________________________\n",
      "max_pooling2d (MaxPooling2D) (None, 49, 49, 32)        0         \n",
      "_________________________________________________________________\n",
      "conv2d_1 (Conv2D)            (None, 47, 47, 64)        18496     \n",
      "_________________________________________________________________\n",
      "max_pooling2d_1 (MaxPooling2 (None, 23, 23, 64)        0         \n",
      "_________________________________________________________________\n",
      "conv2d_2 (Conv2D)            (None, 21, 21, 128)       73856     \n",
      "_________________________________________________________________\n",
      "max_pooling2d_2 (MaxPooling2 (None, 10, 10, 128)       0         \n",
      "_________________________________________________________________\n",
      "flatten (Flatten)            (None, 12800)             0         \n",
      "_________________________________________________________________\n",
      "dense (Dense)                (None, 512)               6554112   \n",
      "_________________________________________________________________\n",
      "dense_1 (Dense)              (None, 8)                 4104      \n",
      "=================================================================\n",
      "Total params: 6,651,464\n",
      "Trainable params: 6,651,464\n",
      "Non-trainable params: 0\n",
      "_________________________________________________________________\n"
     ]
    }
   ],
   "source": [
    "model.summary()"
   ]
  },
  {
   "cell_type": "markdown",
   "metadata": {},
   "source": [
    "#### Plot a graph of the model architecture"
   ]
  },
  {
   "cell_type": "code",
   "execution_count": 11,
   "metadata": {},
   "outputs": [
    {
     "name": "stdout",
     "output_type": "stream",
     "text": [
      "Requirement already satisfied: pydot in /p/software/juwelsbooster/stages/2020/software/Python/3.8.5-GCCcore-9.3.0/lib/python3.8/site-packages/pydot-1.4.1-py3.8.egg (1.4.1)\n",
      "Requirement already satisfied: pyparsing>=2.1.4 in /p/software/juwelsbooster/stages/2020/software/Python/3.8.5-GCCcore-9.3.0/lib/python3.8/site-packages/pyparsing-2.4.7-py3.8.egg (from pydot) (2.4.7)\n",
      "('Failed to import pydot. You must `pip install pydot` and install graphviz (https://graphviz.gitlab.io/download/), ', 'for `pydotprint` to work.')\n"
     ]
    }
   ],
   "source": [
    "# create a graph of the model layers\n",
    "from tensorflow.keras.utils import plot_model\n",
    "!pip install --user pydot\n",
    "plot_model(model, to_file='model.png',show_shapes=True,rankdir='TB',show_layer_names=True)"
   ]
  },
  {
   "cell_type": "markdown",
   "metadata": {},
   "source": [
    "### Train the model"
   ]
  },
  {
   "cell_type": "code",
   "execution_count": 55,
   "metadata": {},
   "outputs": [
    {
     "name": "stdout",
     "output_type": "stream",
     "text": [
      "Epoch 1/50\n",
      "66/66 [==============================] - 5s 81ms/step - loss: 1.3437 - acc: 0.5505 - val_loss: 0.8629 - val_acc: 0.6942\n",
      "Epoch 2/50\n",
      "66/66 [==============================] - 5s 77ms/step - loss: 0.6785 - acc: 0.7608 - val_loss: 0.6383 - val_acc: 0.7653\n",
      "Epoch 3/50\n",
      "66/66 [==============================] - 5s 81ms/step - loss: 0.5234 - acc: 0.8132 - val_loss: 0.5546 - val_acc: 0.8023\n",
      "Epoch 4/50\n",
      "66/66 [==============================] - 5s 78ms/step - loss: 0.4238 - acc: 0.8520 - val_loss: 0.4931 - val_acc: 0.8222\n",
      "Epoch 5/50\n",
      "66/66 [==============================] - 5s 77ms/step - loss: 0.3508 - acc: 0.8743 - val_loss: 0.4079 - val_acc: 0.8506\n",
      "Epoch 6/50\n",
      "66/66 [==============================] - 5s 76ms/step - loss: 0.3104 - acc: 0.8877 - val_loss: 0.3870 - val_acc: 0.8492\n",
      "Epoch 7/50\n",
      "66/66 [==============================] - 5s 78ms/step - loss: 0.2881 - acc: 0.8991 - val_loss: 0.3823 - val_acc: 0.8521\n",
      "Epoch 8/50\n",
      "66/66 [==============================] - 5s 80ms/step - loss: 0.2401 - acc: 0.9158 - val_loss: 0.3687 - val_acc: 0.8563\n",
      "Epoch 9/50\n",
      "66/66 [==============================] - 5s 80ms/step - loss: 0.2247 - acc: 0.9217 - val_loss: 0.3982 - val_acc: 0.8364\n",
      "Epoch 10/50\n",
      "66/66 [==============================] - 6s 87ms/step - loss: 0.1994 - acc: 0.9305 - val_loss: 0.3537 - val_acc: 0.8762\n",
      "Epoch 11/50\n",
      "66/66 [==============================] - 6s 88ms/step - loss: 0.1785 - acc: 0.9407 - val_loss: 0.3262 - val_acc: 0.8762\n",
      "Epoch 12/50\n",
      "66/66 [==============================] - 6s 91ms/step - loss: 0.1554 - acc: 0.9484 - val_loss: 0.2939 - val_acc: 0.8890\n",
      "Epoch 13/50\n",
      "66/66 [==============================] - 5s 81ms/step - loss: 0.1478 - acc: 0.9491 - val_loss: 0.3322 - val_acc: 0.8791\n",
      "Epoch 14/50\n",
      "66/66 [==============================] - 6s 85ms/step - loss: 0.1275 - acc: 0.9591 - val_loss: 0.3463 - val_acc: 0.8720\n",
      "Epoch 15/50\n",
      "66/66 [==============================] - 5s 80ms/step - loss: 0.1321 - acc: 0.9545 - val_loss: 0.2748 - val_acc: 0.8990\n",
      "Epoch 16/50\n",
      "66/66 [==============================] - 6s 85ms/step - loss: 0.1015 - acc: 0.9683 - val_loss: 0.2717 - val_acc: 0.8976\n",
      "Epoch 17/50\n",
      "66/66 [==============================] - 6s 85ms/step - loss: 0.0941 - acc: 0.9698 - val_loss: 0.2904 - val_acc: 0.8933\n",
      "Epoch 18/50\n",
      "66/66 [==============================] - 5s 79ms/step - loss: 0.0953 - acc: 0.9698 - val_loss: 0.2668 - val_acc: 0.9033\n",
      "Epoch 19/50\n",
      "66/66 [==============================] - 5s 80ms/step - loss: 0.0758 - acc: 0.9805 - val_loss: 0.3176 - val_acc: 0.8791\n",
      "Epoch 20/50\n",
      "66/66 [==============================] - 5s 80ms/step - loss: 0.0739 - acc: 0.9798 - val_loss: 0.2845 - val_acc: 0.8947\n",
      "Epoch 21/50\n",
      "66/66 [==============================] - 5s 78ms/step - loss: 0.0717 - acc: 0.9767 - val_loss: 0.3036 - val_acc: 0.8933\n",
      "Epoch 22/50\n",
      "66/66 [==============================] - 5s 77ms/step - loss: 0.0566 - acc: 0.9874 - val_loss: 0.2759 - val_acc: 0.9147\n",
      "Epoch 23/50\n",
      "66/66 [==============================] - 5s 79ms/step - loss: 0.0495 - acc: 0.9893 - val_loss: 0.2726 - val_acc: 0.9047\n",
      "Epoch 24/50\n",
      "66/66 [==============================] - 5s 76ms/step - loss: 0.0455 - acc: 0.9907 - val_loss: 0.2816 - val_acc: 0.9075\n",
      "Epoch 25/50\n",
      "66/66 [==============================] - 5s 77ms/step - loss: 0.0477 - acc: 0.9879 - val_loss: 0.2728 - val_acc: 0.9090\n",
      "Epoch 26/50\n",
      "66/66 [==============================] - 5s 78ms/step - loss: 0.0316 - acc: 0.9960 - val_loss: 0.2697 - val_acc: 0.9118\n",
      "Epoch 27/50\n",
      "66/66 [==============================] - 5s 83ms/step - loss: 0.0331 - acc: 0.9952 - val_loss: 0.2831 - val_acc: 0.9090\n",
      "Epoch 28/50\n",
      "66/66 [==============================] - 6s 85ms/step - loss: 0.0313 - acc: 0.9938 - val_loss: 0.2736 - val_acc: 0.9004\n",
      "Epoch 29/50\n",
      "66/66 [==============================] - 5s 76ms/step - loss: 0.0252 - acc: 0.9979 - val_loss: 0.2693 - val_acc: 0.9203\n",
      "Epoch 30/50\n",
      "66/66 [==============================] - 5s 77ms/step - loss: 0.0216 - acc: 0.9971 - val_loss: 0.3520 - val_acc: 0.8962\n",
      "Epoch 31/50\n",
      "66/66 [==============================] - 5s 78ms/step - loss: 0.0237 - acc: 0.9969 - val_loss: 0.2912 - val_acc: 0.9075\n",
      "Epoch 32/50\n",
      "66/66 [==============================] - 5s 80ms/step - loss: 0.0166 - acc: 0.9993 - val_loss: 0.2753 - val_acc: 0.9175\n",
      "Epoch 33/50\n",
      "66/66 [==============================] - 5s 76ms/step - loss: 0.0130 - acc: 1.0000 - val_loss: 0.2839 - val_acc: 0.9203\n",
      "Epoch 34/50\n",
      "66/66 [==============================] - 5s 76ms/step - loss: 0.0115 - acc: 1.0000 - val_loss: 0.2810 - val_acc: 0.9161\n",
      "Epoch 35/50\n",
      "66/66 [==============================] - 5s 78ms/step - loss: 0.0115 - acc: 0.9993 - val_loss: 0.2924 - val_acc: 0.9104\n",
      "Epoch 36/50\n",
      "66/66 [==============================] - 5s 83ms/step - loss: 0.0096 - acc: 1.0000 - val_loss: 0.2935 - val_acc: 0.9161\n",
      "Epoch 37/50\n",
      "66/66 [==============================] - 5s 81ms/step - loss: 0.0082 - acc: 1.0000 - val_loss: 0.3007 - val_acc: 0.9104\n",
      "Epoch 38/50\n",
      "66/66 [==============================] - 5s 80ms/step - loss: 0.0074 - acc: 0.9998 - val_loss: 0.2928 - val_acc: 0.9161\n",
      "Epoch 39/50\n",
      "66/66 [==============================] - 5s 80ms/step - loss: 0.0062 - acc: 1.0000 - val_loss: 0.3057 - val_acc: 0.9189\n",
      "Epoch 40/50\n",
      "66/66 [==============================] - 5s 81ms/step - loss: 0.0056 - acc: 1.0000 - val_loss: 0.3144 - val_acc: 0.9118\n",
      "Epoch 41/50\n",
      "66/66 [==============================] - 5s 78ms/step - loss: 0.0053 - acc: 1.0000 - val_loss: 0.3133 - val_acc: 0.9118\n",
      "Epoch 42/50\n",
      "66/66 [==============================] - 5s 78ms/step - loss: 0.0045 - acc: 1.0000 - val_loss: 0.3119 - val_acc: 0.9104\n",
      "Epoch 43/50\n",
      "66/66 [==============================] - 5s 77ms/step - loss: 0.0046 - acc: 1.0000 - val_loss: 0.3168 - val_acc: 0.9203\n",
      "Epoch 44/50\n",
      "66/66 [==============================] - 5s 79ms/step - loss: 0.0041 - acc: 1.0000 - val_loss: 0.3246 - val_acc: 0.9161\n",
      "Epoch 45/50\n",
      "66/66 [==============================] - 5s 78ms/step - loss: 0.0035 - acc: 1.0000 - val_loss: 0.3366 - val_acc: 0.9147\n",
      "Epoch 46/50\n",
      "66/66 [==============================] - 5s 79ms/step - loss: 0.0035 - acc: 1.0000 - val_loss: 0.3347 - val_acc: 0.9147\n",
      "Epoch 47/50\n",
      "66/66 [==============================] - 5s 77ms/step - loss: 0.0034 - acc: 1.0000 - val_loss: 0.3242 - val_acc: 0.9161\n",
      "Epoch 48/50\n",
      "66/66 [==============================] - 5s 78ms/step - loss: 0.0032 - acc: 1.0000 - val_loss: 0.3386 - val_acc: 0.9161\n",
      "Epoch 49/50\n",
      "66/66 [==============================] - 5s 76ms/step - loss: 0.0025 - acc: 1.0000 - val_loss: 0.3430 - val_acc: 0.9218\n",
      "Epoch 50/50\n",
      "66/66 [==============================] - 5s 76ms/step - loss: 0.0021 - acc: 1.0000 - val_loss: 0.3429 - val_acc: 0.9218\n"
     ]
    }
   ],
   "source": [
    "# Fit (i.e train) the model \n",
    "\n",
    "spe=len(train)   # Steps Per Epoch: train_size/batch_size\n",
    "epoch_num=PARAMS['n_epochs']\n",
    "val_steps=len(validation)  # validation_size/batch_size\n",
    "\n",
    "\n",
    "history = model.fit(\n",
    "            train,\n",
    "            steps_per_epoch=spe,  \n",
    "            epochs=epoch_num,\n",
    "            validation_data=validation,\n",
    "            validation_steps=val_steps) \n",
    "\n",
    "\n",
    "# To save the output of the model, uncomment the line below.\n",
    "#model.save(PARAMS['save_model'])"
   ]
  },
  {
   "cell_type": "markdown",
   "metadata": {},
   "source": [
    "### Plot  the learning curves "
   ]
  },
  {
   "cell_type": "code",
   "execution_count": 56,
   "metadata": {},
   "outputs": [
    {
     "data": {
      "image/png": "[encoded data removed]",
      "text/plain": [
       "<Figure size 432x288 with 1 Axes>"
      ]
     },
     "metadata": {
      "needs_background": "light"
     },
     "output_type": "display_data"
    },
    {
     "data": {
      "image/png": "[encoded data removed]",
      "text/plain": [
       "<Figure size 432x288 with 1 Axes>"
      ]
     },
     "metadata": {
      "needs_background": "light"
     },
     "output_type": "display_data"
    }
   ],
   "source": [
    "# Check the progress of the training, by plotting the Learning Curves:\n",
    "# a) Accuracy of the model on the train and validation datasets as a function of epochs (time)\n",
    "# b) Value of loss function on train and validation datasets as a function of epochs\n",
    "\n",
    "# if the model was saved from an earlier run, uncomment the line below to load it\n",
    "#model = load_model('name_of_model_to_load.h5')\n",
    "\n",
    "epoch_num=PARAMS['n_epochs']\n",
    "acc = history.history['acc']\n",
    "val_acc = history.history['val_acc']\n",
    "\n",
    "plt.plot(range(epoch_num), acc, 'b', label='Training accuracy')\n",
    "plt.plot(range(epoch_num), val_acc, 'g', label='Validation accuracy')\n",
    "plt.title('Training and validation accuracy')\n",
    "plt.legend()\n",
    "\n",
    "\n",
    "loss = history.history['loss']\n",
    "val_loss = history.history['val_loss']\n",
    "\n",
    "plt.figure()\n",
    "plt.plot(range(epoch_num), loss, 'b', label='Training loss')\n",
    "plt.plot(range(epoch_num), val_loss, 'g', label='Validation loss')\n",
    "plt.title('Training and validation loss')\n",
    "plt.legend()\n",
    "\n",
    "\n",
    "plt.show()"
   ]
  },
  {
   "cell_type": "markdown",
   "metadata": {},
   "source": [
    "### Test model on *'test'* dataset\n",
    "\n",
    "As a final step on checking the performance of the model, we run the trained model on the third dataset, the 'test' dataset. (These are data that our model has not seen yet).\n"
   ]
  },
  {
   "cell_type": "code",
   "execution_count": 57,
   "metadata": {},
   "outputs": [
    {
     "name": "stdout",
     "output_type": "stream",
     "text": [
      "11/11 [==============================] - 1s 92ms/step - loss: 0.3742 - acc: 0.9105\n",
      "['loss', 'acc']\n",
      "[0.3742465674877167, 0.9105113744735718]\n",
      "\n",
      "Accuracy =  91.05113744735718 %\n"
     ]
    }
   ],
   "source": [
    "test_score = model.evaluate(test)\n",
    "print(model.metrics_names)\n",
    "print(test_score)\n",
    "print()\n",
    "print(\"Accuracy = \",test_score[1]*100,'%')"
   ]
  },
  {
   "cell_type": "markdown",
   "metadata": {},
   "source": [
    "## Dropout\n",
    "\n",
    "\n",
    "One way to overcome overfitting of the model is to add one or more Dropout layers in the model.\n",
    "\n",
    "A 'Dropout' layer will randomly drop-out (i.e. remove) a user-defined number of nodes (i.e. connections) between two layers.\n",
    "\n",
    "Adding a dropout layer looks like this:\n",
    "    *model.add(layers.Dropout(0.5))*\n",
    "The argument of Dropout is a number from 0.0 to 1.0 which corresponds to the fraction of nodes to **remove** . \n",
    "\n",
    "A typical value  is around 0.5-0.6 (i.e. 50-60% or the nodes removed).\n"
   ]
  },
  {
   "cell_type": "markdown",
   "metadata": {},
   "source": [
    "<font color='blue'>**Task 2**\n",
    "Add a Dropout Layer (or try adding more that one) in the model you created earlier and train the model again.\n",
    "    \n",
    "**NOTE:** \n",
    " + remember to clear the session with the command available at the beginning of Section 2\n",
    " + must run again the cell with the model architecture, and compile the model again before fitting the new architecture.   \n",
    "</font>\n"
   ]
  },
  {
   "cell_type": "code",
   "execution_count": 58,
   "metadata": {},
   "outputs": [],
   "source": [
    "# clear the session\n",
    "\n",
    "### add code here:\n",
    "tensorflow.keras.backend.clear_session()"
   ]
  },
  {
   "cell_type": "code",
   "execution_count": 7,
   "metadata": {},
   "outputs": [],
   "source": [
    "# model layers\n",
    "# use the previous model PLUS a dropout layer\n",
    "\n",
    "\n",
    "### add code here:\n",
    "model = models.Sequential()\n",
    "model.add(layers.Conv2D(32, (3, 3), activation='relu',\n",
    "                        input_shape=PARAMS['image_input_shape']))\n",
    "model.add(layers.MaxPooling2D((2, 2)))\n",
    "model.add(layers.Conv2D(64, (3, 3), activation='relu'))\n",
    "model.add(layers.MaxPooling2D((2, 2)))\n",
    "model.add(layers.Conv2D(128, (3, 3), activation='relu'))\n",
    "model.add(layers.MaxPooling2D((2, 2)))\n",
    "model.add(layers.Dropout(0.6))\n",
    "model.add(layers.Flatten())\n",
    "model.add(layers.Dense(512,activation='relu'))\n",
    "model.add(layers.Dense(8, activation='softmax'))"
   ]
  },
  {
   "cell_type": "code",
   "execution_count": 8,
   "metadata": {},
   "outputs": [],
   "source": [
    "# compile the model\n",
    "\n",
    "### add code here:\n",
    "model.compile(loss=PARAMS['loss'],\n",
    "              optimizer=optimizers.Adam(lr=PARAMS['lr']),\n",
    "              metrics=[PARAMS['metrics']])\n"
   ]
  },
  {
   "cell_type": "code",
   "execution_count": 9,
   "metadata": {},
   "outputs": [
    {
     "name": "stdout",
     "output_type": "stream",
     "text": [
      "Epoch 1/50\n",
      "66/66 [==============================] - 20s 308ms/step - loss: 1.4755 - acc: 0.5019 - val_loss: 1.0004 - val_acc: 0.6415\n",
      "Epoch 2/50\n",
      "66/66 [==============================] - 6s 85ms/step - loss: 0.7378 - acc: 0.7380 - val_loss: 0.6628 - val_acc: 0.7653\n",
      "Epoch 3/50\n",
      "66/66 [==============================] - 6s 85ms/step - loss: 0.5811 - acc: 0.7827 - val_loss: 0.5704 - val_acc: 0.7923\n",
      "Epoch 4/50\n",
      "66/66 [==============================] - 5s 79ms/step - loss: 0.4920 - acc: 0.8182 - val_loss: 0.5025 - val_acc: 0.8108\n",
      "Epoch 5/50\n",
      "66/66 [==============================] - 5s 75ms/step - loss: 0.4383 - acc: 0.8365 - val_loss: 0.4478 - val_acc: 0.8350\n",
      "Epoch 6/50\n",
      "66/66 [==============================] - 5s 76ms/step - loss: 0.3645 - acc: 0.8667 - val_loss: 0.4557 - val_acc: 0.8179\n",
      "Epoch 7/50\n",
      "66/66 [==============================] - 5s 79ms/step - loss: 0.3271 - acc: 0.8791 - val_loss: 0.3747 - val_acc: 0.8578\n",
      "Epoch 8/50\n",
      "66/66 [==============================] - 5s 75ms/step - loss: 0.3027 - acc: 0.8855 - val_loss: 0.3544 - val_acc: 0.8606\n",
      "Epoch 9/50\n",
      "66/66 [==============================] - 5s 74ms/step - loss: 0.2898 - acc: 0.8927 - val_loss: 0.3555 - val_acc: 0.8834\n",
      "Epoch 10/50\n",
      "66/66 [==============================] - 5s 74ms/step - loss: 0.2499 - acc: 0.9077 - val_loss: 0.3306 - val_acc: 0.8819\n",
      "Epoch 11/50\n",
      "66/66 [==============================] - 5s 73ms/step - loss: 0.2431 - acc: 0.9093 - val_loss: 0.3129 - val_acc: 0.8819\n",
      "Epoch 12/50\n",
      "66/66 [==============================] - 5s 76ms/step - loss: 0.2277 - acc: 0.9129 - val_loss: 0.2909 - val_acc: 0.8848\n",
      "Epoch 13/50\n",
      "66/66 [==============================] - 5s 74ms/step - loss: 0.1993 - acc: 0.9291 - val_loss: 0.2862 - val_acc: 0.8848\n",
      "Epoch 14/50\n",
      "66/66 [==============================] - 5s 75ms/step - loss: 0.1832 - acc: 0.9296 - val_loss: 0.2897 - val_acc: 0.8819\n",
      "Epoch 15/50\n",
      "66/66 [==============================] - 5s 76ms/step - loss: 0.1778 - acc: 0.9327 - val_loss: 0.3302 - val_acc: 0.8834\n",
      "Epoch 16/50\n",
      "66/66 [==============================] - 5s 74ms/step - loss: 0.1737 - acc: 0.9391 - val_loss: 0.3232 - val_acc: 0.8890\n",
      "Epoch 17/50\n",
      "66/66 [==============================] - 5s 74ms/step - loss: 0.1598 - acc: 0.9365 - val_loss: 0.2711 - val_acc: 0.8990\n",
      "Epoch 18/50\n",
      "66/66 [==============================] - 6s 89ms/step - loss: 0.1508 - acc: 0.9426 - val_loss: 0.2583 - val_acc: 0.8976\n",
      "Epoch 19/50\n",
      "66/66 [==============================] - 5s 79ms/step - loss: 0.1374 - acc: 0.9512 - val_loss: 0.2803 - val_acc: 0.9047\n",
      "Epoch 20/50\n",
      "66/66 [==============================] - 5s 77ms/step - loss: 0.1469 - acc: 0.9460 - val_loss: 0.2533 - val_acc: 0.9018\n",
      "Epoch 21/50\n",
      "66/66 [==============================] - 5s 73ms/step - loss: 0.1288 - acc: 0.9515 - val_loss: 0.2638 - val_acc: 0.8933\n",
      "Epoch 22/50\n",
      "66/66 [==============================] - 5s 75ms/step - loss: 0.1164 - acc: 0.9579 - val_loss: 0.2471 - val_acc: 0.9004\n",
      "Epoch 23/50\n",
      "66/66 [==============================] - 5s 73ms/step - loss: 0.1175 - acc: 0.9536 - val_loss: 0.2451 - val_acc: 0.9018\n",
      "Epoch 24/50\n",
      "66/66 [==============================] - 5s 74ms/step - loss: 0.1115 - acc: 0.9593 - val_loss: 0.2442 - val_acc: 0.9018\n",
      "Epoch 25/50\n",
      "66/66 [==============================] - 5s 73ms/step - loss: 0.1054 - acc: 0.9631 - val_loss: 0.2910 - val_acc: 0.8990\n",
      "Epoch 26/50\n",
      "66/66 [==============================] - 5s 74ms/step - loss: 0.1097 - acc: 0.9576 - val_loss: 0.2256 - val_acc: 0.9147\n",
      "Epoch 27/50\n",
      "66/66 [==============================] - 5s 78ms/step - loss: 0.0977 - acc: 0.9664 - val_loss: 0.2299 - val_acc: 0.9090\n",
      "Epoch 28/50\n",
      "66/66 [==============================] - 5s 73ms/step - loss: 0.0908 - acc: 0.9686 - val_loss: 0.2671 - val_acc: 0.9047\n",
      "Epoch 29/50\n",
      "66/66 [==============================] - 5s 73ms/step - loss: 0.0841 - acc: 0.9724 - val_loss: 0.2380 - val_acc: 0.9118\n",
      "Epoch 30/50\n",
      "66/66 [==============================] - 5s 75ms/step - loss: 0.0807 - acc: 0.9752 - val_loss: 0.2209 - val_acc: 0.9104\n",
      "Epoch 31/50\n",
      "66/66 [==============================] - 5s 76ms/step - loss: 0.0758 - acc: 0.9733 - val_loss: 0.2530 - val_acc: 0.9189\n",
      "Epoch 32/50\n",
      "66/66 [==============================] - 5s 78ms/step - loss: 0.0710 - acc: 0.9752 - val_loss: 0.2245 - val_acc: 0.9161\n",
      "Epoch 33/50\n",
      "66/66 [==============================] - 5s 76ms/step - loss: 0.0723 - acc: 0.9760 - val_loss: 0.2469 - val_acc: 0.9104\n",
      "Epoch 34/50\n",
      "66/66 [==============================] - 5s 77ms/step - loss: 0.0715 - acc: 0.9760 - val_loss: 0.2338 - val_acc: 0.9132\n",
      "Epoch 35/50\n",
      "66/66 [==============================] - 5s 78ms/step - loss: 0.0614 - acc: 0.9781 - val_loss: 0.2487 - val_acc: 0.9218\n",
      "Epoch 36/50\n",
      "66/66 [==============================] - 5s 75ms/step - loss: 0.0710 - acc: 0.9755 - val_loss: 0.2297 - val_acc: 0.9189\n",
      "Epoch 37/50\n",
      "66/66 [==============================] - 5s 75ms/step - loss: 0.0619 - acc: 0.9802 - val_loss: 0.2194 - val_acc: 0.9147\n",
      "Epoch 38/50\n",
      "66/66 [==============================] - 5s 75ms/step - loss: 0.0693 - acc: 0.9741 - val_loss: 0.2320 - val_acc: 0.9203\n",
      "Epoch 39/50\n",
      "66/66 [==============================] - 5s 77ms/step - loss: 0.0544 - acc: 0.9829 - val_loss: 0.2289 - val_acc: 0.9232\n",
      "Epoch 40/50\n",
      "66/66 [==============================] - 5s 74ms/step - loss: 0.0491 - acc: 0.9862 - val_loss: 0.2162 - val_acc: 0.9260\n",
      "Epoch 41/50\n",
      "66/66 [==============================] - 5s 76ms/step - loss: 0.0503 - acc: 0.9845 - val_loss: 0.2434 - val_acc: 0.9203\n",
      "Epoch 42/50\n",
      "66/66 [==============================] - 5s 76ms/step - loss: 0.0537 - acc: 0.9817 - val_loss: 0.2301 - val_acc: 0.9246\n",
      "Epoch 43/50\n",
      "66/66 [==============================] - 5s 74ms/step - loss: 0.0426 - acc: 0.9862 - val_loss: 0.2415 - val_acc: 0.9161\n",
      "Epoch 44/50\n",
      "66/66 [==============================] - 5s 82ms/step - loss: 0.0450 - acc: 0.9848 - val_loss: 0.2312 - val_acc: 0.9232\n",
      "Epoch 45/50\n",
      "66/66 [==============================] - 5s 80ms/step - loss: 0.0406 - acc: 0.9869 - val_loss: 0.2324 - val_acc: 0.9260\n",
      "Epoch 46/50\n",
      "66/66 [==============================] - 5s 77ms/step - loss: 0.0363 - acc: 0.9886 - val_loss: 0.2220 - val_acc: 0.9246\n",
      "Epoch 47/50\n",
      "66/66 [==============================] - 5s 74ms/step - loss: 0.0406 - acc: 0.9893 - val_loss: 0.2229 - val_acc: 0.9260\n",
      "Epoch 48/50\n",
      "66/66 [==============================] - 5s 76ms/step - loss: 0.0437 - acc: 0.9862 - val_loss: 0.2357 - val_acc: 0.9232\n",
      "Epoch 49/50\n",
      "66/66 [==============================] - 5s 74ms/step - loss: 0.0436 - acc: 0.9874 - val_loss: 0.2380 - val_acc: 0.9203\n",
      "Epoch 50/50\n",
      "66/66 [==============================] - 5s 75ms/step - loss: 0.0351 - acc: 0.9893 - val_loss: 0.2261 - val_acc: 0.9175\n"
     ]
    }
   ],
   "source": [
    "# fit the model\n",
    "spe=len(train)   # Steps Per Epoch: train_size/batch_size\n",
    "epoch_num=PARAMS['n_epochs']\n",
    "val_steps=len(validation)  # validation_size/batch_size\n",
    "\n",
    "### add code here:\n",
    "history = model.fit(\n",
    "            train,\n",
    "            steps_per_epoch=spe,  \n",
    "            epochs=epoch_num,\n",
    "            validation_data=validation,\n",
    "            validation_steps=val_steps) \n"
   ]
  },
  {
   "cell_type": "code",
   "execution_count": 10,
   "metadata": {},
   "outputs": [
    {
     "data": {
      "image/png": "[encoded data removed]",
      "text/plain": [
       "<Figure size 432x288 with 1 Axes>"
      ]
     },
     "metadata": {
      "needs_background": "light"
     },
     "output_type": "display_data"
    },
    {
     "data": {
      "image/png": "[encoded data removed]",
      "text/plain": [
       "<Figure size 432x288 with 1 Axes>"
      ]
     },
     "metadata": {
      "needs_background": "light"
     },
     "output_type": "display_data"
    }
   ],
   "source": [
    "# plot the learning curves\n",
    "\n",
    "### add code here:\n",
    "\n",
    "epoch_num=PARAMS['n_epochs']\n",
    "acc = history.history['acc']\n",
    "val_acc = history.history['val_acc']\n",
    "\n",
    "plt.plot(range(epoch_num), acc, 'b', label='Training accuracy')\n",
    "plt.plot(range(epoch_num), val_acc, 'g', label='Validation accuracy')\n",
    "plt.title('Training and validation accuracy')\n",
    "plt.legend()\n",
    "\n",
    "\n",
    "loss = history.history['loss']\n",
    "val_loss = history.history['val_loss']\n",
    "\n",
    "plt.figure()\n",
    "plt.plot(range(epoch_num), loss, 'b', label='Training loss')\n",
    "plt.plot(range(epoch_num), val_loss, 'g', label='Validation loss')\n",
    "plt.title('Training and validation loss')\n",
    "plt.legend()\n",
    "\n",
    "\n",
    "plt.show()"
   ]
  },
  {
   "cell_type": "code",
   "execution_count": 11,
   "metadata": {},
   "outputs": [
    {
     "name": "stdout",
     "output_type": "stream",
     "text": [
      "11/11 [==============================] - 2s 225ms/step - loss: 0.2498 - acc: 0.9233\n",
      "['loss', 'acc']\n",
      "[0.2497541457414627, 0.9232954382896423]\n",
      "\n",
      "Accuracy =  92.32954382896423 %\n"
     ]
    }
   ],
   "source": [
    "# evaluate model on *test* dataset\n",
    "\n",
    "### add code here:\n",
    "\n",
    "test_score = model.evaluate(test)\n",
    "print(model.metrics_names)\n",
    "print(test_score)\n",
    "print()\n",
    "print(\"Accuracy = \",test_score[1]*100,'%')"
   ]
  },
  {
   "cell_type": "markdown",
   "metadata": {},
   "source": [
    "## Augmentation"
   ]
  },
  {
   "cell_type": "markdown",
   "metadata": {},
   "source": [
    "One possible remedy for overfitting, when it is caused by lack of enough data, is to use data augmentation.\n",
    "In data augmentation, already existing data - images in our case - are 'tranformed' into new data through some basic transformations like mirroring or flipping, rotation, zoom, rescaling, etc.  of the image.\n",
    "\n",
    "\n",
    "In Keras, the ImageDataGenerator class, offers an easy way to include these augmentation techniques.\n",
    "Check the ImageDataGenerator entry here:https://keras.io/api/preprocessing/image/  to see how it is done."
   ]
  },
  {
   "cell_type": "markdown",
   "metadata": {},
   "source": [
    "<font color='blue'>**Task 3**\n",
    "-Based on the Keras link above, choose the augmentation transformations which make sense for the dataset you are using, and implement these transformations within the ImageDataGenerator. You can just edit and run the code we used earlier (3d cell in Section 2) or re-write (copy) that cell here and add the relevant arguments for the image augmentation (transformation).       \n",
    "**NOTE**: augmentation is applied only on the training dataset   \n",
    "-Train again the model and plot its performance on the new, augmented dataset.  \n",
    "-Do not forget to also evaluate the trained model on the 'test' dataset</font>\n",
    "    \n",
    "    "
   ]
  },
  {
   "cell_type": "code",
   "execution_count": null,
   "metadata": {},
   "outputs": [],
   "source": []
  },
  {
   "cell_type": "code",
   "execution_count": 58,
   "metadata": {},
   "outputs": [],
   "source": [
    "# clear the session\n",
    "\n",
    "### add code here:\n",
    "tensorflow.keras.backend.clear_session()"
   ]
  },
  {
   "cell_type": "code",
   "execution_count": 12,
   "metadata": {},
   "outputs": [
    {
     "name": "stdout",
     "output_type": "stream",
     "text": [
      "Found 4202 images belonging to 8 classes.\n"
     ]
    }
   ],
   "source": [
    "# Use the ImageDataGenerator class from Keras, and its flow_from_directory method to create batched of **augmented** data.\n",
    "\n",
    "### add arguments that define augmentation techniques in the ImageDataGenerator line below\n",
    "\n",
    "train_datagen = ImageDataGenerator(rescale = 1.0/255.,horizontal_flip=True,zoom_range=0.2,rotation_range=20,width_shift_range=0.1,height_shift_range=0.1)\n",
    "\n",
    "# this can be left as is\n",
    "train = train_datagen.flow_from_directory(\n",
    "        classification_data_path+'/train',\n",
    "        target_size=(100, 100),\n",
    "        batch_size=PARAMS['batch_size'],\n",
    "        class_mode='categorical') \n",
    "\n"
   ]
  },
  {
   "cell_type": "code",
   "execution_count": 13,
   "metadata": {},
   "outputs": [],
   "source": [
    "# use the same model layers which you used the first time (i.e. no dropout layer)\n",
    "\n",
    "### add code here:\n",
    "model = models.Sequential()\n",
    "model.add(layers.Conv2D(32, (3, 3), activation='relu',\n",
    "                        input_shape=PARAMS['image_input_shape']))\n",
    "model.add(layers.MaxPooling2D((2, 2)))\n",
    "model.add(layers.Conv2D(64, (3, 3), activation='relu'))\n",
    "model.add(layers.MaxPooling2D((2, 2)))\n",
    "model.add(layers.Conv2D(128, (3, 3), activation='relu'))\n",
    "model.add(layers.MaxPooling2D((2, 2)))\n",
    "model.add(layers.Flatten())\n",
    "model.add(layers.Dense(512,activation='relu'))\n",
    "model.add(layers.Dense(8, activation='softmax'))"
   ]
  },
  {
   "cell_type": "code",
   "execution_count": 15,
   "metadata": {},
   "outputs": [],
   "source": [
    "# compile model \n",
    "model.compile(loss=PARAMS['loss'],\n",
    "              optimizer=optimizers.Adam(PARAMS['lr']),\n",
    "              metrics=[PARAMS['metrics']])"
   ]
  },
  {
   "cell_type": "code",
   "execution_count": 16,
   "metadata": {},
   "outputs": [
    {
     "name": "stdout",
     "output_type": "stream",
     "text": [
      "Epoch 1/50\n",
      "66/66 [==============================] - 14s 210ms/step - loss: 1.4643 - acc: 0.4895 - val_loss: 0.9828 - val_acc: 0.6302\n",
      "Epoch 2/50\n",
      "66/66 [==============================] - 11s 167ms/step - loss: 0.9170 - acc: 0.6742 - val_loss: 0.8410 - val_acc: 0.6927\n",
      "Epoch 3/50\n",
      "66/66 [==============================] - 11s 168ms/step - loss: 0.7423 - acc: 0.7363 - val_loss: 0.7478 - val_acc: 0.7397\n",
      "Epoch 4/50\n",
      "66/66 [==============================] - 11s 173ms/step - loss: 0.6686 - acc: 0.7568 - val_loss: 0.6290 - val_acc: 0.7738\n",
      "Epoch 5/50\n",
      "66/66 [==============================] - 13s 196ms/step - loss: 0.6014 - acc: 0.7768 - val_loss: 0.6414 - val_acc: 0.7767\n",
      "Epoch 6/50\n",
      "66/66 [==============================] - 12s 177ms/step - loss: 0.5604 - acc: 0.7903 - val_loss: 0.5646 - val_acc: 0.7923\n",
      "Epoch 7/50\n",
      "66/66 [==============================] - 11s 174ms/step - loss: 0.5319 - acc: 0.8099 - val_loss: 0.5126 - val_acc: 0.8094\n",
      "Epoch 8/50\n",
      "66/66 [==============================] - 11s 171ms/step - loss: 0.4883 - acc: 0.8182 - val_loss: 0.4858 - val_acc: 0.8321\n",
      "Epoch 9/50\n",
      "66/66 [==============================] - 12s 186ms/step - loss: 0.4897 - acc: 0.8153 - val_loss: 0.6299 - val_acc: 0.7738\n",
      "Epoch 10/50\n",
      "66/66 [==============================] - 12s 184ms/step - loss: 0.4445 - acc: 0.8382 - val_loss: 0.4777 - val_acc: 0.8336\n",
      "Epoch 11/50\n",
      "66/66 [==============================] - 12s 181ms/step - loss: 0.4195 - acc: 0.8460 - val_loss: 0.4010 - val_acc: 0.8592\n",
      "Epoch 12/50\n",
      "66/66 [==============================] - 13s 198ms/step - loss: 0.4205 - acc: 0.8417 - val_loss: 0.4146 - val_acc: 0.8549\n",
      "Epoch 13/50\n",
      "66/66 [==============================] - 11s 172ms/step - loss: 0.4002 - acc: 0.8548 - val_loss: 0.4546 - val_acc: 0.8464\n",
      "Epoch 14/50\n",
      "66/66 [==============================] - 12s 180ms/step - loss: 0.4054 - acc: 0.8546 - val_loss: 0.4597 - val_acc: 0.8293\n",
      "Epoch 15/50\n",
      "66/66 [==============================] - 12s 187ms/step - loss: 0.3860 - acc: 0.8577 - val_loss: 0.3884 - val_acc: 0.8535\n",
      "Epoch 16/50\n",
      "66/66 [==============================] - 11s 174ms/step - loss: 0.3877 - acc: 0.8624 - val_loss: 0.3734 - val_acc: 0.8663\n",
      "Epoch 17/50\n",
      "66/66 [==============================] - 12s 176ms/step - loss: 0.3538 - acc: 0.8696 - val_loss: 0.4085 - val_acc: 0.8535\n",
      "Epoch 18/50\n",
      "66/66 [==============================] - 12s 176ms/step - loss: 0.3488 - acc: 0.8717 - val_loss: 0.4858 - val_acc: 0.8350\n",
      "Epoch 19/50\n",
      "66/66 [==============================] - 12s 183ms/step - loss: 0.3654 - acc: 0.8624 - val_loss: 0.4274 - val_acc: 0.8549\n",
      "Epoch 20/50\n",
      "66/66 [==============================] - 12s 189ms/step - loss: 0.3364 - acc: 0.8786 - val_loss: 0.4022 - val_acc: 0.8649\n",
      "Epoch 21/50\n",
      "66/66 [==============================] - 12s 182ms/step - loss: 0.3293 - acc: 0.8772 - val_loss: 0.3997 - val_acc: 0.8563\n",
      "Epoch 22/50\n",
      "66/66 [==============================] - 12s 175ms/step - loss: 0.3310 - acc: 0.8739 - val_loss: 0.3542 - val_acc: 0.8748\n",
      "Epoch 23/50\n",
      "66/66 [==============================] - 11s 173ms/step - loss: 0.3199 - acc: 0.8798 - val_loss: 0.3735 - val_acc: 0.8634\n",
      "Epoch 24/50\n",
      "66/66 [==============================] - 12s 176ms/step - loss: 0.3092 - acc: 0.8853 - val_loss: 0.3789 - val_acc: 0.8677\n",
      "Epoch 25/50\n",
      "66/66 [==============================] - 12s 185ms/step - loss: 0.2966 - acc: 0.8929 - val_loss: 0.2687 - val_acc: 0.9018\n",
      "Epoch 26/50\n",
      "66/66 [==============================] - 12s 175ms/step - loss: 0.3061 - acc: 0.8889 - val_loss: 0.3154 - val_acc: 0.8962\n",
      "Epoch 27/50\n",
      "66/66 [==============================] - 12s 183ms/step - loss: 0.2947 - acc: 0.8893 - val_loss: 0.3362 - val_acc: 0.8862\n",
      "Epoch 28/50\n",
      "66/66 [==============================] - 12s 175ms/step - loss: 0.2776 - acc: 0.8962 - val_loss: 0.3479 - val_acc: 0.8720\n",
      "Epoch 29/50\n",
      "66/66 [==============================] - 12s 188ms/step - loss: 0.2871 - acc: 0.8939 - val_loss: 0.3625 - val_acc: 0.8748\n",
      "Epoch 30/50\n",
      "66/66 [==============================] - 13s 192ms/step - loss: 0.2735 - acc: 0.8943 - val_loss: 0.2924 - val_acc: 0.8990\n",
      "Epoch 31/50\n",
      "66/66 [==============================] - 12s 183ms/step - loss: 0.2695 - acc: 0.9041 - val_loss: 0.3772 - val_acc: 0.8706\n",
      "Epoch 32/50\n",
      "66/66 [==============================] - 12s 181ms/step - loss: 0.2622 - acc: 0.9065 - val_loss: 0.3105 - val_acc: 0.8834\n",
      "Epoch 33/50\n",
      "66/66 [==============================] - 12s 184ms/step - loss: 0.2540 - acc: 0.9084 - val_loss: 0.2942 - val_acc: 0.8933\n",
      "Epoch 34/50\n",
      "66/66 [==============================] - 11s 173ms/step - loss: 0.2574 - acc: 0.9022 - val_loss: 0.2763 - val_acc: 0.8933\n",
      "Epoch 35/50\n",
      "66/66 [==============================] - 12s 175ms/step - loss: 0.2542 - acc: 0.9072 - val_loss: 0.2831 - val_acc: 0.8933\n",
      "Epoch 36/50\n",
      "66/66 [==============================] - 12s 178ms/step - loss: 0.2506 - acc: 0.9105 - val_loss: 0.3547 - val_acc: 0.8819\n",
      "Epoch 37/50\n",
      "66/66 [==============================] - 11s 172ms/step - loss: 0.2534 - acc: 0.9046 - val_loss: 0.2272 - val_acc: 0.9203\n",
      "Epoch 38/50\n",
      "66/66 [==============================] - 11s 167ms/step - loss: 0.2406 - acc: 0.9079 - val_loss: 0.3261 - val_acc: 0.8848\n",
      "Epoch 39/50\n",
      "66/66 [==============================] - 11s 168ms/step - loss: 0.2315 - acc: 0.9169 - val_loss: 0.2183 - val_acc: 0.9175\n",
      "Epoch 40/50\n",
      "66/66 [==============================] - 47s 715ms/step - loss: 0.2283 - acc: 0.9131 - val_loss: 0.2712 - val_acc: 0.9018\n",
      "Epoch 41/50\n",
      "66/66 [==============================] - 11s 162ms/step - loss: 0.2304 - acc: 0.9139 - val_loss: 0.2898 - val_acc: 0.8947\n",
      "Epoch 42/50\n",
      "66/66 [==============================] - 20s 308ms/step - loss: 0.2210 - acc: 0.9191 - val_loss: 0.2232 - val_acc: 0.9132\n",
      "Epoch 43/50\n",
      "66/66 [==============================] - 11s 174ms/step - loss: 0.2164 - acc: 0.9177 - val_loss: 0.2489 - val_acc: 0.9118\n",
      "Epoch 44/50\n",
      "66/66 [==============================] - 11s 164ms/step - loss: 0.2151 - acc: 0.9179 - val_loss: 0.2989 - val_acc: 0.8990\n",
      "Epoch 45/50\n",
      "66/66 [==============================] - 12s 189ms/step - loss: 0.2075 - acc: 0.9255 - val_loss: 0.2979 - val_acc: 0.8919\n",
      "Epoch 46/50\n",
      "66/66 [==============================] - 13s 194ms/step - loss: 0.2212 - acc: 0.9200 - val_loss: 0.2016 - val_acc: 0.9218\n",
      "Epoch 47/50\n",
      "66/66 [==============================] - 12s 187ms/step - loss: 0.2081 - acc: 0.9227 - val_loss: 0.2337 - val_acc: 0.9047\n",
      "Epoch 48/50\n",
      "66/66 [==============================] - 13s 197ms/step - loss: 0.2055 - acc: 0.9243 - val_loss: 0.2636 - val_acc: 0.9033\n",
      "Epoch 49/50\n",
      "66/66 [==============================] - 12s 187ms/step - loss: 0.2091 - acc: 0.9215 - val_loss: 0.2888 - val_acc: 0.9033\n",
      "Epoch 50/50\n",
      "66/66 [==============================] - 12s 189ms/step - loss: 0.1965 - acc: 0.9267 - val_loss: 0.3545 - val_acc: 0.8720\n"
     ]
    }
   ],
   "source": [
    "# Fit the model \n",
    "spe=len(train)   # train_size/batch_size\n",
    "epoch_num=PARAMS['n_epochs']\n",
    "val_steps=len(validation)  # validation_size/batch_size\n",
    "\n",
    "\n",
    "history = model.fit(\n",
    "            train,\n",
    "            steps_per_epoch=spe,  \n",
    "            epochs=epoch_num,\n",
    "            validation_data=validation,\n",
    "            validation_steps=val_steps) "
   ]
  },
  {
   "cell_type": "code",
   "execution_count": 17,
   "metadata": {},
   "outputs": [
    {
     "data": {
      "image/png": "[encoded data removed]",
      "text/plain": [
       "<Figure size 432x288 with 1 Axes>"
      ]
     },
     "metadata": {
      "needs_background": "light"
     },
     "output_type": "display_data"
    },
    {
     "data": {
      "image/png": "[encoded data removed]",
      "text/plain": [
       "<Figure size 432x288 with 1 Axes>"
      ]
     },
     "metadata": {
      "needs_background": "light"
     },
     "output_type": "display_data"
    }
   ],
   "source": [
    "# plot the learning curves\n",
    "\n",
    "\n",
    "epoch_num=PARAMS['n_epochs']\n",
    "acc = history.history['acc']\n",
    "val_acc = history.history['val_acc']\n",
    "\n",
    "plt.plot(range(epoch_num), acc, 'b', label='Training accuracy')\n",
    "plt.plot(range(epoch_num), val_acc, 'g', label='Validation accuracy')\n",
    "plt.title('Training and validation accuracy')\n",
    "plt.legend()\n",
    "\n",
    "\n",
    "loss = history.history['loss']\n",
    "val_loss = history.history['val_loss']\n",
    "\n",
    "plt.figure()\n",
    "plt.plot(range(epoch_num), loss, 'b', label='Training loss')\n",
    "plt.plot(range(epoch_num), val_loss, 'g', label='Validation loss')\n",
    "plt.title('Training and validation loss')\n",
    "plt.legend()\n",
    "\n",
    "\n",
    "plt.show()"
   ]
  },
  {
   "cell_type": "code",
   "execution_count": 18,
   "metadata": {},
   "outputs": [
    {
     "name": "stdout",
     "output_type": "stream",
     "text": [
      "11/11 [==============================] - 2s 162ms/step - loss: 0.4150 - acc: 0.8608\n",
      "['loss', 'acc']\n",
      "[0.41495752334594727, 0.8607954382896423]\n",
      "\n",
      "Accuracy =  86.07954382896423 %\n"
     ]
    }
   ],
   "source": [
    "# evaluate model on *test* dataset\n",
    "\n",
    "test_score = model.evaluate(test)\n",
    "print(model.metrics_names)\n",
    "print(test_score)\n",
    "print()\n",
    "print(\"Accuracy = \",test_score[1]*100,'%')"
   ]
  },
  {
   "cell_type": "markdown",
   "metadata": {},
   "source": [
    "## Transfer learning"
   ]
  },
  {
   "cell_type": "markdown",
   "metadata": {},
   "source": [
    "We will use the VGG16 network (https://arxiv.org/abs/1409.1556) trained on the ImageNet dataset (http://image-net.org/about-overview).\n",
    "As it is already part of the Keras library, it is easy to load.\n"
   ]
  },
  {
   "cell_type": "code",
   "execution_count": 19,
   "metadata": {},
   "outputs": [],
   "source": [
    "# clear the prevoius session if needed\n",
    "tensorflow.keras.backend.clear_session()"
   ]
  },
  {
   "cell_type": "code",
   "execution_count": 21,
   "metadata": {},
   "outputs": [],
   "source": [
    "# Import VGG16\n",
    "from tensorflow.keras.applications import VGG16"
   ]
  },
  {
   "cell_type": "code",
   "execution_count": 22,
   "metadata": {},
   "outputs": [
    {
     "name": "stdout",
     "output_type": "stream",
     "text": [
      "Downloading data from https://storage.googleapis.com/tensorflow/keras-applications/vgg16/vgg16_weights_tf_dim_ordering_tf_kernels_notop.h5\n"
     ]
    },
    {
     "ename": "KeyboardInterrupt",
     "evalue": "",
     "output_type": "error",
     "traceback": [
      "\u001b[0;31m---------------------------------------------------------------------------\u001b[0m",
      "\u001b[0;31mKeyboardInterrupt\u001b[0m                         Traceback (most recent call last)",
      "\u001b[0;32m<ipython-input-22-f38e5774c186>\u001b[0m in \u001b[0;36m<module>\u001b[0;34m\u001b[0m\n\u001b[1;32m      1\u001b[0m \u001b[0;31m# Create a copy of the VGG16 network, with input_size to match our dataset, and without including the last output layer(s)\u001b[0m\u001b[0;34m\u001b[0m\u001b[0;34m\u001b[0m\u001b[0;34m\u001b[0m\u001b[0m\n\u001b[0;32m----> 2\u001b[0;31m \u001b[0mpretrained_net\u001b[0m \u001b[0;34m=\u001b[0m \u001b[0mVGG16\u001b[0m\u001b[0;34m(\u001b[0m\u001b[0minput_shape\u001b[0m\u001b[0;34m=\u001b[0m\u001b[0;34m(\u001b[0m\u001b[0;36m100\u001b[0m\u001b[0;34m,\u001b[0m\u001b[0;36m100\u001b[0m\u001b[0;34m,\u001b[0m\u001b[0;36m3\u001b[0m\u001b[0;34m)\u001b[0m\u001b[0;34m,\u001b[0m\u001b[0minclude_top\u001b[0m\u001b[0;34m=\u001b[0m\u001b[0;32mFalse\u001b[0m\u001b[0;34m,\u001b[0m\u001b[0mweights\u001b[0m\u001b[0;34m=\u001b[0m\u001b[0;34m'imagenet'\u001b[0m\u001b[0;34m,\u001b[0m\u001b[0mpooling\u001b[0m\u001b[0;34m=\u001b[0m\u001b[0;34m'max'\u001b[0m\u001b[0;34m)\u001b[0m\u001b[0;34m\u001b[0m\u001b[0;34m\u001b[0m\u001b[0m\n\u001b[0m",
      "\u001b[0;32m/p/software/juwelsbooster/stages/2020/software/TensorFlow/2.3.1-gcccoremkl-9.3.0-2020.2.254-Python-3.8.5/lib/python3.8/site-packages/tensorflow/python/keras/applications/vgg16.py\u001b[0m in \u001b[0;36mVGG16\u001b[0;34m(include_top, weights, input_tensor, input_shape, pooling, classes, classifier_activation)\u001b[0m\n\u001b[1;32m    214\u001b[0m           file_hash='64373286793e3c8b2b4e3219cbf3544b')\n\u001b[1;32m    215\u001b[0m     \u001b[0;32melse\u001b[0m\u001b[0;34m:\u001b[0m\u001b[0;34m\u001b[0m\u001b[0;34m\u001b[0m\u001b[0m\n\u001b[0;32m--> 216\u001b[0;31m       weights_path = data_utils.get_file(\n\u001b[0m\u001b[1;32m    217\u001b[0m           \u001b[0;34m'vgg16_weights_tf_dim_ordering_tf_kernels_notop.h5'\u001b[0m\u001b[0;34m,\u001b[0m\u001b[0;34m\u001b[0m\u001b[0;34m\u001b[0m\u001b[0m\n\u001b[1;32m    218\u001b[0m           \u001b[0mWEIGHTS_PATH_NO_TOP\u001b[0m\u001b[0;34m,\u001b[0m\u001b[0;34m\u001b[0m\u001b[0;34m\u001b[0m\u001b[0m\n",
      "\u001b[0;32m/p/software/juwelsbooster/stages/2020/software/TensorFlow/2.3.1-gcccoremkl-9.3.0-2020.2.254-Python-3.8.5/lib/python3.8/site-packages/tensorflow/python/keras/utils/data_utils.py\u001b[0m in \u001b[0;36mget_file\u001b[0;34m(fname, origin, untar, md5_hash, file_hash, cache_subdir, hash_algorithm, extract, archive_format, cache_dir)\u001b[0m\n\u001b[1;32m    276\u001b[0m     \u001b[0;32mtry\u001b[0m\u001b[0;34m:\u001b[0m\u001b[0;34m\u001b[0m\u001b[0;34m\u001b[0m\u001b[0m\n\u001b[1;32m    277\u001b[0m       \u001b[0;32mtry\u001b[0m\u001b[0;34m:\u001b[0m\u001b[0;34m\u001b[0m\u001b[0;34m\u001b[0m\u001b[0m\n\u001b[0;32m--> 278\u001b[0;31m         \u001b[0murlretrieve\u001b[0m\u001b[0;34m(\u001b[0m\u001b[0morigin\u001b[0m\u001b[0;34m,\u001b[0m \u001b[0mfpath\u001b[0m\u001b[0;34m,\u001b[0m \u001b[0mdl_progress\u001b[0m\u001b[0;34m)\u001b[0m\u001b[0;34m\u001b[0m\u001b[0;34m\u001b[0m\u001b[0m\n\u001b[0m\u001b[1;32m    279\u001b[0m       \u001b[0;32mexcept\u001b[0m \u001b[0mHTTPError\u001b[0m \u001b[0;32mas\u001b[0m \u001b[0me\u001b[0m\u001b[0;34m:\u001b[0m\u001b[0;34m\u001b[0m\u001b[0;34m\u001b[0m\u001b[0m\n\u001b[1;32m    280\u001b[0m         \u001b[0;32mraise\u001b[0m \u001b[0mException\u001b[0m\u001b[0;34m(\u001b[0m\u001b[0merror_msg\u001b[0m\u001b[0;34m.\u001b[0m\u001b[0mformat\u001b[0m\u001b[0;34m(\u001b[0m\u001b[0morigin\u001b[0m\u001b[0;34m,\u001b[0m \u001b[0me\u001b[0m\u001b[0;34m.\u001b[0m\u001b[0mcode\u001b[0m\u001b[0;34m,\u001b[0m \u001b[0me\u001b[0m\u001b[0;34m.\u001b[0m\u001b[0mmsg\u001b[0m\u001b[0;34m)\u001b[0m\u001b[0;34m)\u001b[0m\u001b[0;34m\u001b[0m\u001b[0;34m\u001b[0m\u001b[0m\n",
      "\u001b[0;32m/p/software/juwelsbooster/stages/2020/software/Python/3.8.5-GCCcore-9.3.0/lib/python3.8/urllib/request.py\u001b[0m in \u001b[0;36murlretrieve\u001b[0;34m(url, filename, reporthook, data)\u001b[0m\n\u001b[1;32m    245\u001b[0m     \u001b[0murl_type\u001b[0m\u001b[0;34m,\u001b[0m \u001b[0mpath\u001b[0m \u001b[0;34m=\u001b[0m \u001b[0m_splittype\u001b[0m\u001b[0;34m(\u001b[0m\u001b[0murl\u001b[0m\u001b[0;34m)\u001b[0m\u001b[0;34m\u001b[0m\u001b[0;34m\u001b[0m\u001b[0m\n\u001b[1;32m    246\u001b[0m \u001b[0;34m\u001b[0m\u001b[0m\n\u001b[0;32m--> 247\u001b[0;31m     \u001b[0;32mwith\u001b[0m \u001b[0mcontextlib\u001b[0m\u001b[0;34m.\u001b[0m\u001b[0mclosing\u001b[0m\u001b[0;34m(\u001b[0m\u001b[0murlopen\u001b[0m\u001b[0;34m(\u001b[0m\u001b[0murl\u001b[0m\u001b[0;34m,\u001b[0m \u001b[0mdata\u001b[0m\u001b[0;34m)\u001b[0m\u001b[0;34m)\u001b[0m \u001b[0;32mas\u001b[0m \u001b[0mfp\u001b[0m\u001b[0;34m:\u001b[0m\u001b[0;34m\u001b[0m\u001b[0;34m\u001b[0m\u001b[0m\n\u001b[0m\u001b[1;32m    248\u001b[0m         \u001b[0mheaders\u001b[0m \u001b[0;34m=\u001b[0m \u001b[0mfp\u001b[0m\u001b[0;34m.\u001b[0m\u001b[0minfo\u001b[0m\u001b[0;34m(\u001b[0m\u001b[0;34m)\u001b[0m\u001b[0;34m\u001b[0m\u001b[0;34m\u001b[0m\u001b[0m\n\u001b[1;32m    249\u001b[0m \u001b[0;34m\u001b[0m\u001b[0m\n",
      "\u001b[0;32m/p/software/juwelsbooster/stages/2020/software/Python/3.8.5-GCCcore-9.3.0/lib/python3.8/urllib/request.py\u001b[0m in \u001b[0;36murlopen\u001b[0;34m(url, data, timeout, cafile, capath, cadefault, context)\u001b[0m\n\u001b[1;32m    220\u001b[0m     \u001b[0;32melse\u001b[0m\u001b[0;34m:\u001b[0m\u001b[0;34m\u001b[0m\u001b[0;34m\u001b[0m\u001b[0m\n\u001b[1;32m    221\u001b[0m         \u001b[0mopener\u001b[0m \u001b[0;34m=\u001b[0m \u001b[0m_opener\u001b[0m\u001b[0;34m\u001b[0m\u001b[0;34m\u001b[0m\u001b[0m\n\u001b[0;32m--> 222\u001b[0;31m     \u001b[0;32mreturn\u001b[0m \u001b[0mopener\u001b[0m\u001b[0;34m.\u001b[0m\u001b[0mopen\u001b[0m\u001b[0;34m(\u001b[0m\u001b[0murl\u001b[0m\u001b[0;34m,\u001b[0m \u001b[0mdata\u001b[0m\u001b[0;34m,\u001b[0m \u001b[0mtimeout\u001b[0m\u001b[0;34m)\u001b[0m\u001b[0;34m\u001b[0m\u001b[0;34m\u001b[0m\u001b[0m\n\u001b[0m\u001b[1;32m    223\u001b[0m \u001b[0;34m\u001b[0m\u001b[0m\n\u001b[1;32m    224\u001b[0m \u001b[0;32mdef\u001b[0m \u001b[0minstall_opener\u001b[0m\u001b[0;34m(\u001b[0m\u001b[0mopener\u001b[0m\u001b[0;34m)\u001b[0m\u001b[0;34m:\u001b[0m\u001b[0;34m\u001b[0m\u001b[0;34m\u001b[0m\u001b[0m\n",
      "\u001b[0;32m/p/software/juwelsbooster/stages/2020/software/Python/3.8.5-GCCcore-9.3.0/lib/python3.8/urllib/request.py\u001b[0m in \u001b[0;36mopen\u001b[0;34m(self, fullurl, data, timeout)\u001b[0m\n\u001b[1;32m    523\u001b[0m \u001b[0;34m\u001b[0m\u001b[0m\n\u001b[1;32m    524\u001b[0m         \u001b[0msys\u001b[0m\u001b[0;34m.\u001b[0m\u001b[0maudit\u001b[0m\u001b[0;34m(\u001b[0m\u001b[0;34m'urllib.Request'\u001b[0m\u001b[0;34m,\u001b[0m \u001b[0mreq\u001b[0m\u001b[0;34m.\u001b[0m\u001b[0mfull_url\u001b[0m\u001b[0;34m,\u001b[0m \u001b[0mreq\u001b[0m\u001b[0;34m.\u001b[0m\u001b[0mdata\u001b[0m\u001b[0;34m,\u001b[0m \u001b[0mreq\u001b[0m\u001b[0;34m.\u001b[0m\u001b[0mheaders\u001b[0m\u001b[0;34m,\u001b[0m \u001b[0mreq\u001b[0m\u001b[0;34m.\u001b[0m\u001b[0mget_method\u001b[0m\u001b[0;34m(\u001b[0m\u001b[0;34m)\u001b[0m\u001b[0;34m)\u001b[0m\u001b[0;34m\u001b[0m\u001b[0;34m\u001b[0m\u001b[0m\n\u001b[0;32m--> 525\u001b[0;31m         \u001b[0mresponse\u001b[0m \u001b[0;34m=\u001b[0m \u001b[0mself\u001b[0m\u001b[0;34m.\u001b[0m\u001b[0m_open\u001b[0m\u001b[0;34m(\u001b[0m\u001b[0mreq\u001b[0m\u001b[0;34m,\u001b[0m \u001b[0mdata\u001b[0m\u001b[0;34m)\u001b[0m\u001b[0;34m\u001b[0m\u001b[0;34m\u001b[0m\u001b[0m\n\u001b[0m\u001b[1;32m    526\u001b[0m \u001b[0;34m\u001b[0m\u001b[0m\n\u001b[1;32m    527\u001b[0m         \u001b[0;31m# post-process response\u001b[0m\u001b[0;34m\u001b[0m\u001b[0;34m\u001b[0m\u001b[0;34m\u001b[0m\u001b[0m\n",
      "\u001b[0;32m/p/software/juwelsbooster/stages/2020/software/Python/3.8.5-GCCcore-9.3.0/lib/python3.8/urllib/request.py\u001b[0m in \u001b[0;36m_open\u001b[0;34m(self, req, data)\u001b[0m\n\u001b[1;32m    540\u001b[0m \u001b[0;34m\u001b[0m\u001b[0m\n\u001b[1;32m    541\u001b[0m         \u001b[0mprotocol\u001b[0m \u001b[0;34m=\u001b[0m \u001b[0mreq\u001b[0m\u001b[0;34m.\u001b[0m\u001b[0mtype\u001b[0m\u001b[0;34m\u001b[0m\u001b[0;34m\u001b[0m\u001b[0m\n\u001b[0;32m--> 542\u001b[0;31m         result = self._call_chain(self.handle_open, protocol, protocol +\n\u001b[0m\u001b[1;32m    543\u001b[0m                                   '_open', req)\n\u001b[1;32m    544\u001b[0m         \u001b[0;32mif\u001b[0m \u001b[0mresult\u001b[0m\u001b[0;34m:\u001b[0m\u001b[0;34m\u001b[0m\u001b[0;34m\u001b[0m\u001b[0m\n",
      "\u001b[0;32m/p/software/juwelsbooster/stages/2020/software/Python/3.8.5-GCCcore-9.3.0/lib/python3.8/urllib/request.py\u001b[0m in \u001b[0;36m_call_chain\u001b[0;34m(self, chain, kind, meth_name, *args)\u001b[0m\n\u001b[1;32m    500\u001b[0m         \u001b[0;32mfor\u001b[0m \u001b[0mhandler\u001b[0m \u001b[0;32min\u001b[0m \u001b[0mhandlers\u001b[0m\u001b[0;34m:\u001b[0m\u001b[0;34m\u001b[0m\u001b[0;34m\u001b[0m\u001b[0m\n\u001b[1;32m    501\u001b[0m             \u001b[0mfunc\u001b[0m \u001b[0;34m=\u001b[0m \u001b[0mgetattr\u001b[0m\u001b[0;34m(\u001b[0m\u001b[0mhandler\u001b[0m\u001b[0;34m,\u001b[0m \u001b[0mmeth_name\u001b[0m\u001b[0;34m)\u001b[0m\u001b[0;34m\u001b[0m\u001b[0;34m\u001b[0m\u001b[0m\n\u001b[0;32m--> 502\u001b[0;31m             \u001b[0mresult\u001b[0m \u001b[0;34m=\u001b[0m \u001b[0mfunc\u001b[0m\u001b[0;34m(\u001b[0m\u001b[0;34m*\u001b[0m\u001b[0margs\u001b[0m\u001b[0;34m)\u001b[0m\u001b[0;34m\u001b[0m\u001b[0;34m\u001b[0m\u001b[0m\n\u001b[0m\u001b[1;32m    503\u001b[0m             \u001b[0;32mif\u001b[0m \u001b[0mresult\u001b[0m \u001b[0;32mis\u001b[0m \u001b[0;32mnot\u001b[0m \u001b[0;32mNone\u001b[0m\u001b[0;34m:\u001b[0m\u001b[0;34m\u001b[0m\u001b[0;34m\u001b[0m\u001b[0m\n\u001b[1;32m    504\u001b[0m                 \u001b[0;32mreturn\u001b[0m \u001b[0mresult\u001b[0m\u001b[0;34m\u001b[0m\u001b[0;34m\u001b[0m\u001b[0m\n",
      "\u001b[0;32m/p/software/juwelsbooster/stages/2020/software/Python/3.8.5-GCCcore-9.3.0/lib/python3.8/urllib/request.py\u001b[0m in \u001b[0;36mhttps_open\u001b[0;34m(self, req)\u001b[0m\n\u001b[1;32m   1391\u001b[0m \u001b[0;34m\u001b[0m\u001b[0m\n\u001b[1;32m   1392\u001b[0m         \u001b[0;32mdef\u001b[0m \u001b[0mhttps_open\u001b[0m\u001b[0;34m(\u001b[0m\u001b[0mself\u001b[0m\u001b[0;34m,\u001b[0m \u001b[0mreq\u001b[0m\u001b[0;34m)\u001b[0m\u001b[0;34m:\u001b[0m\u001b[0;34m\u001b[0m\u001b[0;34m\u001b[0m\u001b[0m\n\u001b[0;32m-> 1393\u001b[0;31m             return self.do_open(http.client.HTTPSConnection, req,\n\u001b[0m\u001b[1;32m   1394\u001b[0m                 context=self._context, check_hostname=self._check_hostname)\n\u001b[1;32m   1395\u001b[0m \u001b[0;34m\u001b[0m\u001b[0m\n",
      "\u001b[0;32m/p/software/juwelsbooster/stages/2020/software/Python/3.8.5-GCCcore-9.3.0/lib/python3.8/urllib/request.py\u001b[0m in \u001b[0;36mdo_open\u001b[0;34m(self, http_class, req, **http_conn_args)\u001b[0m\n\u001b[1;32m   1348\u001b[0m         \u001b[0;32mtry\u001b[0m\u001b[0;34m:\u001b[0m\u001b[0;34m\u001b[0m\u001b[0;34m\u001b[0m\u001b[0m\n\u001b[1;32m   1349\u001b[0m             \u001b[0;32mtry\u001b[0m\u001b[0;34m:\u001b[0m\u001b[0;34m\u001b[0m\u001b[0;34m\u001b[0m\u001b[0m\n\u001b[0;32m-> 1350\u001b[0;31m                 h.request(req.get_method(), req.selector, req.data, headers,\n\u001b[0m\u001b[1;32m   1351\u001b[0m                           encode_chunked=req.has_header('Transfer-encoding'))\n\u001b[1;32m   1352\u001b[0m             \u001b[0;32mexcept\u001b[0m \u001b[0mOSError\u001b[0m \u001b[0;32mas\u001b[0m \u001b[0merr\u001b[0m\u001b[0;34m:\u001b[0m \u001b[0;31m# timeout error\u001b[0m\u001b[0;34m\u001b[0m\u001b[0;34m\u001b[0m\u001b[0m\n",
      "\u001b[0;32m/p/software/juwelsbooster/stages/2020/software/Python/3.8.5-GCCcore-9.3.0/lib/python3.8/http/client.py\u001b[0m in \u001b[0;36mrequest\u001b[0;34m(self, method, url, body, headers, encode_chunked)\u001b[0m\n\u001b[1;32m   1253\u001b[0m                 encode_chunked=False):\n\u001b[1;32m   1254\u001b[0m         \u001b[0;34m\"\"\"Send a complete request to the server.\"\"\"\u001b[0m\u001b[0;34m\u001b[0m\u001b[0;34m\u001b[0m\u001b[0m\n\u001b[0;32m-> 1255\u001b[0;31m         \u001b[0mself\u001b[0m\u001b[0;34m.\u001b[0m\u001b[0m_send_request\u001b[0m\u001b[0;34m(\u001b[0m\u001b[0mmethod\u001b[0m\u001b[0;34m,\u001b[0m \u001b[0murl\u001b[0m\u001b[0;34m,\u001b[0m \u001b[0mbody\u001b[0m\u001b[0;34m,\u001b[0m \u001b[0mheaders\u001b[0m\u001b[0;34m,\u001b[0m \u001b[0mencode_chunked\u001b[0m\u001b[0;34m)\u001b[0m\u001b[0;34m\u001b[0m\u001b[0;34m\u001b[0m\u001b[0m\n\u001b[0m\u001b[1;32m   1256\u001b[0m \u001b[0;34m\u001b[0m\u001b[0m\n\u001b[1;32m   1257\u001b[0m     \u001b[0;32mdef\u001b[0m \u001b[0m_send_request\u001b[0m\u001b[0;34m(\u001b[0m\u001b[0mself\u001b[0m\u001b[0;34m,\u001b[0m \u001b[0mmethod\u001b[0m\u001b[0;34m,\u001b[0m \u001b[0murl\u001b[0m\u001b[0;34m,\u001b[0m \u001b[0mbody\u001b[0m\u001b[0;34m,\u001b[0m \u001b[0mheaders\u001b[0m\u001b[0;34m,\u001b[0m \u001b[0mencode_chunked\u001b[0m\u001b[0;34m)\u001b[0m\u001b[0;34m:\u001b[0m\u001b[0;34m\u001b[0m\u001b[0;34m\u001b[0m\u001b[0m\n",
      "\u001b[0;32m/p/software/juwelsbooster/stages/2020/software/Python/3.8.5-GCCcore-9.3.0/lib/python3.8/http/client.py\u001b[0m in \u001b[0;36m_send_request\u001b[0;34m(self, method, url, body, headers, encode_chunked)\u001b[0m\n\u001b[1;32m   1299\u001b[0m             \u001b[0;31m# default charset of iso-8859-1.\u001b[0m\u001b[0;34m\u001b[0m\u001b[0;34m\u001b[0m\u001b[0;34m\u001b[0m\u001b[0m\n\u001b[1;32m   1300\u001b[0m             \u001b[0mbody\u001b[0m \u001b[0;34m=\u001b[0m \u001b[0m_encode\u001b[0m\u001b[0;34m(\u001b[0m\u001b[0mbody\u001b[0m\u001b[0;34m,\u001b[0m \u001b[0;34m'body'\u001b[0m\u001b[0;34m)\u001b[0m\u001b[0;34m\u001b[0m\u001b[0;34m\u001b[0m\u001b[0m\n\u001b[0;32m-> 1301\u001b[0;31m         \u001b[0mself\u001b[0m\u001b[0;34m.\u001b[0m\u001b[0mendheaders\u001b[0m\u001b[0;34m(\u001b[0m\u001b[0mbody\u001b[0m\u001b[0;34m,\u001b[0m \u001b[0mencode_chunked\u001b[0m\u001b[0;34m=\u001b[0m\u001b[0mencode_chunked\u001b[0m\u001b[0;34m)\u001b[0m\u001b[0;34m\u001b[0m\u001b[0;34m\u001b[0m\u001b[0m\n\u001b[0m\u001b[1;32m   1302\u001b[0m \u001b[0;34m\u001b[0m\u001b[0m\n\u001b[1;32m   1303\u001b[0m     \u001b[0;32mdef\u001b[0m \u001b[0mgetresponse\u001b[0m\u001b[0;34m(\u001b[0m\u001b[0mself\u001b[0m\u001b[0;34m)\u001b[0m\u001b[0;34m:\u001b[0m\u001b[0;34m\u001b[0m\u001b[0;34m\u001b[0m\u001b[0m\n",
      "\u001b[0;32m/p/software/juwelsbooster/stages/2020/software/Python/3.8.5-GCCcore-9.3.0/lib/python3.8/http/client.py\u001b[0m in \u001b[0;36mendheaders\u001b[0;34m(self, message_body, encode_chunked)\u001b[0m\n\u001b[1;32m   1248\u001b[0m         \u001b[0;32melse\u001b[0m\u001b[0;34m:\u001b[0m\u001b[0;34m\u001b[0m\u001b[0;34m\u001b[0m\u001b[0m\n\u001b[1;32m   1249\u001b[0m             \u001b[0;32mraise\u001b[0m \u001b[0mCannotSendHeader\u001b[0m\u001b[0;34m(\u001b[0m\u001b[0;34m)\u001b[0m\u001b[0;34m\u001b[0m\u001b[0;34m\u001b[0m\u001b[0m\n\u001b[0;32m-> 1250\u001b[0;31m         \u001b[0mself\u001b[0m\u001b[0;34m.\u001b[0m\u001b[0m_send_output\u001b[0m\u001b[0;34m(\u001b[0m\u001b[0mmessage_body\u001b[0m\u001b[0;34m,\u001b[0m \u001b[0mencode_chunked\u001b[0m\u001b[0;34m=\u001b[0m\u001b[0mencode_chunked\u001b[0m\u001b[0;34m)\u001b[0m\u001b[0;34m\u001b[0m\u001b[0;34m\u001b[0m\u001b[0m\n\u001b[0m\u001b[1;32m   1251\u001b[0m \u001b[0;34m\u001b[0m\u001b[0m\n\u001b[1;32m   1252\u001b[0m     def request(self, method, url, body=None, headers={}, *,\n",
      "\u001b[0;32m/p/software/juwelsbooster/stages/2020/software/Python/3.8.5-GCCcore-9.3.0/lib/python3.8/http/client.py\u001b[0m in \u001b[0;36m_send_output\u001b[0;34m(self, message_body, encode_chunked)\u001b[0m\n\u001b[1;32m   1008\u001b[0m         \u001b[0mmsg\u001b[0m \u001b[0;34m=\u001b[0m \u001b[0;34mb\"\\r\\n\"\u001b[0m\u001b[0;34m.\u001b[0m\u001b[0mjoin\u001b[0m\u001b[0;34m(\u001b[0m\u001b[0mself\u001b[0m\u001b[0;34m.\u001b[0m\u001b[0m_buffer\u001b[0m\u001b[0;34m)\u001b[0m\u001b[0;34m\u001b[0m\u001b[0;34m\u001b[0m\u001b[0m\n\u001b[1;32m   1009\u001b[0m         \u001b[0;32mdel\u001b[0m \u001b[0mself\u001b[0m\u001b[0;34m.\u001b[0m\u001b[0m_buffer\u001b[0m\u001b[0;34m[\u001b[0m\u001b[0;34m:\u001b[0m\u001b[0;34m]\u001b[0m\u001b[0;34m\u001b[0m\u001b[0;34m\u001b[0m\u001b[0m\n\u001b[0;32m-> 1010\u001b[0;31m         \u001b[0mself\u001b[0m\u001b[0;34m.\u001b[0m\u001b[0msend\u001b[0m\u001b[0;34m(\u001b[0m\u001b[0mmsg\u001b[0m\u001b[0;34m)\u001b[0m\u001b[0;34m\u001b[0m\u001b[0;34m\u001b[0m\u001b[0m\n\u001b[0m\u001b[1;32m   1011\u001b[0m \u001b[0;34m\u001b[0m\u001b[0m\n\u001b[1;32m   1012\u001b[0m         \u001b[0;32mif\u001b[0m \u001b[0mmessage_body\u001b[0m \u001b[0;32mis\u001b[0m \u001b[0;32mnot\u001b[0m \u001b[0;32mNone\u001b[0m\u001b[0;34m:\u001b[0m\u001b[0;34m\u001b[0m\u001b[0;34m\u001b[0m\u001b[0m\n",
      "\u001b[0;32m/p/software/juwelsbooster/stages/2020/software/Python/3.8.5-GCCcore-9.3.0/lib/python3.8/http/client.py\u001b[0m in \u001b[0;36msend\u001b[0;34m(self, data)\u001b[0m\n\u001b[1;32m    948\u001b[0m         \u001b[0;32mif\u001b[0m \u001b[0mself\u001b[0m\u001b[0;34m.\u001b[0m\u001b[0msock\u001b[0m \u001b[0;32mis\u001b[0m \u001b[0;32mNone\u001b[0m\u001b[0;34m:\u001b[0m\u001b[0;34m\u001b[0m\u001b[0;34m\u001b[0m\u001b[0m\n\u001b[1;32m    949\u001b[0m             \u001b[0;32mif\u001b[0m \u001b[0mself\u001b[0m\u001b[0;34m.\u001b[0m\u001b[0mauto_open\u001b[0m\u001b[0;34m:\u001b[0m\u001b[0;34m\u001b[0m\u001b[0;34m\u001b[0m\u001b[0m\n\u001b[0;32m--> 950\u001b[0;31m                 \u001b[0mself\u001b[0m\u001b[0;34m.\u001b[0m\u001b[0mconnect\u001b[0m\u001b[0;34m(\u001b[0m\u001b[0;34m)\u001b[0m\u001b[0;34m\u001b[0m\u001b[0;34m\u001b[0m\u001b[0m\n\u001b[0m\u001b[1;32m    951\u001b[0m             \u001b[0;32melse\u001b[0m\u001b[0;34m:\u001b[0m\u001b[0;34m\u001b[0m\u001b[0;34m\u001b[0m\u001b[0m\n\u001b[1;32m    952\u001b[0m                 \u001b[0;32mraise\u001b[0m \u001b[0mNotConnected\u001b[0m\u001b[0;34m(\u001b[0m\u001b[0;34m)\u001b[0m\u001b[0;34m\u001b[0m\u001b[0;34m\u001b[0m\u001b[0m\n",
      "\u001b[0;32m/p/software/juwelsbooster/stages/2020/software/Python/3.8.5-GCCcore-9.3.0/lib/python3.8/http/client.py\u001b[0m in \u001b[0;36mconnect\u001b[0;34m(self)\u001b[0m\n\u001b[1;32m   1415\u001b[0m             \u001b[0;34m\"Connect to a host on a given (SSL) port.\"\u001b[0m\u001b[0;34m\u001b[0m\u001b[0;34m\u001b[0m\u001b[0m\n\u001b[1;32m   1416\u001b[0m \u001b[0;34m\u001b[0m\u001b[0m\n\u001b[0;32m-> 1417\u001b[0;31m             \u001b[0msuper\u001b[0m\u001b[0;34m(\u001b[0m\u001b[0;34m)\u001b[0m\u001b[0;34m.\u001b[0m\u001b[0mconnect\u001b[0m\u001b[0;34m(\u001b[0m\u001b[0;34m)\u001b[0m\u001b[0;34m\u001b[0m\u001b[0;34m\u001b[0m\u001b[0m\n\u001b[0m\u001b[1;32m   1418\u001b[0m \u001b[0;34m\u001b[0m\u001b[0m\n\u001b[1;32m   1419\u001b[0m             \u001b[0;32mif\u001b[0m \u001b[0mself\u001b[0m\u001b[0;34m.\u001b[0m\u001b[0m_tunnel_host\u001b[0m\u001b[0;34m:\u001b[0m\u001b[0;34m\u001b[0m\u001b[0;34m\u001b[0m\u001b[0m\n",
      "\u001b[0;32m/p/software/juwelsbooster/stages/2020/software/Python/3.8.5-GCCcore-9.3.0/lib/python3.8/http/client.py\u001b[0m in \u001b[0;36mconnect\u001b[0;34m(self)\u001b[0m\n\u001b[1;32m    919\u001b[0m     \u001b[0;32mdef\u001b[0m \u001b[0mconnect\u001b[0m\u001b[0;34m(\u001b[0m\u001b[0mself\u001b[0m\u001b[0;34m)\u001b[0m\u001b[0;34m:\u001b[0m\u001b[0;34m\u001b[0m\u001b[0;34m\u001b[0m\u001b[0m\n\u001b[1;32m    920\u001b[0m         \u001b[0;34m\"\"\"Connect to the host and port specified in __init__.\"\"\"\u001b[0m\u001b[0;34m\u001b[0m\u001b[0;34m\u001b[0m\u001b[0m\n\u001b[0;32m--> 921\u001b[0;31m         self.sock = self._create_connection(\n\u001b[0m\u001b[1;32m    922\u001b[0m             (self.host,self.port), self.timeout, self.source_address)\n\u001b[1;32m    923\u001b[0m         \u001b[0mself\u001b[0m\u001b[0;34m.\u001b[0m\u001b[0msock\u001b[0m\u001b[0;34m.\u001b[0m\u001b[0msetsockopt\u001b[0m\u001b[0;34m(\u001b[0m\u001b[0msocket\u001b[0m\u001b[0;34m.\u001b[0m\u001b[0mIPPROTO_TCP\u001b[0m\u001b[0;34m,\u001b[0m \u001b[0msocket\u001b[0m\u001b[0;34m.\u001b[0m\u001b[0mTCP_NODELAY\u001b[0m\u001b[0;34m,\u001b[0m \u001b[0;36m1\u001b[0m\u001b[0;34m)\u001b[0m\u001b[0;34m\u001b[0m\u001b[0;34m\u001b[0m\u001b[0m\n",
      "\u001b[0;32m/p/software/juwelsbooster/stages/2020/software/Python/3.8.5-GCCcore-9.3.0/lib/python3.8/socket.py\u001b[0m in \u001b[0;36mcreate_connection\u001b[0;34m(address, timeout, source_address)\u001b[0m\n\u001b[1;32m    794\u001b[0m             \u001b[0;32mif\u001b[0m \u001b[0msource_address\u001b[0m\u001b[0;34m:\u001b[0m\u001b[0;34m\u001b[0m\u001b[0;34m\u001b[0m\u001b[0m\n\u001b[1;32m    795\u001b[0m                 \u001b[0msock\u001b[0m\u001b[0;34m.\u001b[0m\u001b[0mbind\u001b[0m\u001b[0;34m(\u001b[0m\u001b[0msource_address\u001b[0m\u001b[0;34m)\u001b[0m\u001b[0;34m\u001b[0m\u001b[0;34m\u001b[0m\u001b[0m\n\u001b[0;32m--> 796\u001b[0;31m             \u001b[0msock\u001b[0m\u001b[0;34m.\u001b[0m\u001b[0mconnect\u001b[0m\u001b[0;34m(\u001b[0m\u001b[0msa\u001b[0m\u001b[0;34m)\u001b[0m\u001b[0;34m\u001b[0m\u001b[0;34m\u001b[0m\u001b[0m\n\u001b[0m\u001b[1;32m    797\u001b[0m             \u001b[0;31m# Break explicitly a reference cycle\u001b[0m\u001b[0;34m\u001b[0m\u001b[0;34m\u001b[0m\u001b[0;34m\u001b[0m\u001b[0m\n\u001b[1;32m    798\u001b[0m             \u001b[0merr\u001b[0m \u001b[0;34m=\u001b[0m \u001b[0;32mNone\u001b[0m\u001b[0;34m\u001b[0m\u001b[0;34m\u001b[0m\u001b[0m\n",
      "\u001b[0;31mKeyboardInterrupt\u001b[0m: "
     ]
    }
   ],
   "source": [
    "# Create a copy of the VGG16 network, with input_size to match our dataset, and without including the last output layer(s)\n",
    "pretrained_net = VGG16(input_shape=(100,100,3),include_top=False,weights='imagenet',pooling='max')"
   ]
  },
  {
   "cell_type": "code",
   "execution_count": 34,
   "metadata": {
    "scrolled": true
   },
   "outputs": [],
   "source": [
    "# Plot the summary of the pretrained network\n",
    "\n",
    "\n",
    "### add code here"
   ]
  },
  {
   "cell_type": "code",
   "execution_count": 108,
   "metadata": {},
   "outputs": [],
   "source": [
    "# 'Freeze' (i.e. make them untrainable) all layers in thre pretrained network\n",
    "for layer in pretrained_net.layers:\n",
    "    layer.trainable=False"
   ]
  },
  {
   "cell_type": "code",
   "execution_count": 110,
   "metadata": {},
   "outputs": [],
   "source": [
    "# Add a couple of layers at the end of the pretrained network: we need to add our own output layer, \n",
    "# which will classify our data according to the number of classes we have.\n",
    "\n",
    "model2 = models.Sequential()\n",
    "model2.add(pretrained_net)\n",
    "#model2.add(layers.Dense(256))\n",
    "model2.add(layers.Dense(8, activation='softmax'))"
   ]
  },
  {
   "cell_type": "code",
   "execution_count": 111,
   "metadata": {},
   "outputs": [
    {
     "name": "stdout",
     "output_type": "stream",
     "text": [
      "Model: \"sequential\"\n",
      "_________________________________________________________________\n",
      "Layer (type)                 Output Shape              Param #   \n",
      "=================================================================\n",
      "vgg16 (Functional)           (None, 512)               14714688  \n",
      "_________________________________________________________________\n",
      "dense (Dense)                (None, 8)                 4104      \n",
      "=================================================================\n",
      "Total params: 14,718,792\n",
      "Trainable params: 4,104\n",
      "Non-trainable params: 14,714,688\n",
      "_________________________________________________________________\n"
     ]
    }
   ],
   "source": [
    "model2.summary()"
   ]
  },
  {
   "cell_type": "markdown",
   "metadata": {},
   "source": [
    "<font color='blue'> **Task 4:**\n",
    "   \n",
    "- Train the pretrained network (in reallity only the layers we added will be trained, we 'froze' all the layers previous to those) with the same data as before and compaire its performance to that of the previous model.\n",
    "* Add code for plotting the learning curves for this model (you can also choose to overplot the learning curves of the previous model for direct comparison)\n",
    "- Test the accuracty of the model on the 'test' dataset. </font>"
   ]
  },
  {
   "cell_type": "code",
   "execution_count": 112,
   "metadata": {},
   "outputs": [],
   "source": [
    "# compile model \n",
    "model2.compile(loss=PARAMS['loss'],\n",
    "              optimizer=optimizers.Adam(PARAMS['lr']),\n",
    "              metrics=[PARAMS['metrics']])\n",
    "\n",
    "\n",
    "### add code here"
   ]
  },
  {
   "cell_type": "code",
   "execution_count": 113,
   "metadata": {},
   "outputs": [
    {
     "name": "stdout",
     "output_type": "stream",
     "text": [
      "Epoch 1/25\n",
      "33/33 [==============================] - 49s 1s/step - loss: 2.1873 - acc: 0.2738 - val_loss: 1.2007 - val_acc: 0.6947\n",
      "Epoch 2/25\n",
      "33/33 [==============================] - 48s 1s/step - loss: 1.0034 - acc: 0.7849 - val_loss: 0.7379 - val_acc: 0.8302\n",
      "Epoch 3/25\n",
      "33/33 [==============================] - 48s 1s/step - loss: 0.6516 - acc: 0.8685 - val_loss: 0.5553 - val_acc: 0.8688\n",
      "Epoch 4/25\n",
      "33/33 [==============================] - 48s 1s/step - loss: 0.5033 - acc: 0.8943 - val_loss: 0.4592 - val_acc: 0.8873\n",
      "Epoch 5/25\n",
      "33/33 [==============================] - 48s 1s/step - loss: 0.4139 - acc: 0.9145 - val_loss: 0.3991 - val_acc: 0.9030\n",
      "Epoch 6/25\n",
      "33/33 [==============================] - 48s 1s/step - loss: 0.3568 - acc: 0.9224 - val_loss: 0.3633 - val_acc: 0.9044\n",
      "Epoch 7/25\n",
      "33/33 [==============================] - 48s 1s/step - loss: 0.3089 - acc: 0.9283 - val_loss: 0.3268 - val_acc: 0.9130\n",
      "Epoch 8/25\n",
      "33/33 [==============================] - 48s 1s/step - loss: 0.2799 - acc: 0.9360 - val_loss: 0.3039 - val_acc: 0.9201\n",
      "Epoch 9/25\n",
      "33/33 [==============================] - 48s 1s/step - loss: 0.2680 - acc: 0.9350 - val_loss: 0.2868 - val_acc: 0.9244\n",
      "Epoch 10/25\n",
      "33/33 [==============================] - 50s 2s/step - loss: 0.2419 - acc: 0.9449 - val_loss: 0.2703 - val_acc: 0.9272\n",
      "Epoch 11/25\n",
      "33/33 [==============================] - 48s 1s/step - loss: 0.2188 - acc: 0.9514 - val_loss: 0.2573 - val_acc: 0.9287\n",
      "Epoch 12/25\n",
      "33/33 [==============================] - 48s 1s/step - loss: 0.2268 - acc: 0.9457 - val_loss: 0.2475 - val_acc: 0.9287\n",
      "Epoch 13/25\n",
      "33/33 [==============================] - 48s 1s/step - loss: 0.2028 - acc: 0.9502 - val_loss: 0.2389 - val_acc: 0.9358\n",
      "Epoch 14/25\n",
      "33/33 [==============================] - 48s 1s/step - loss: 0.1984 - acc: 0.9568 - val_loss: 0.2335 - val_acc: 0.9344\n",
      "Epoch 15/25\n",
      "33/33 [==============================] - 48s 1s/step - loss: 0.1895 - acc: 0.9542 - val_loss: 0.2238 - val_acc: 0.9330\n",
      "Epoch 16/25\n",
      "33/33 [==============================] - 48s 1s/step - loss: 0.1908 - acc: 0.9500 - val_loss: 0.2186 - val_acc: 0.9344\n",
      "Epoch 17/25\n",
      "33/33 [==============================] - 48s 1s/step - loss: 0.1831 - acc: 0.9534 - val_loss: 0.2142 - val_acc: 0.9415\n",
      "Epoch 18/25\n",
      "33/33 [==============================] - 48s 1s/step - loss: 0.1640 - acc: 0.9584 - val_loss: 0.2096 - val_acc: 0.9458\n",
      "Epoch 19/25\n",
      "33/33 [==============================] - 48s 1s/step - loss: 0.1678 - acc: 0.9581 - val_loss: 0.2046 - val_acc: 0.9415\n",
      "Epoch 20/25\n",
      "33/33 [==============================] - 48s 1s/step - loss: 0.1553 - acc: 0.9616 - val_loss: 0.2012 - val_acc: 0.9429\n",
      "Epoch 21/25\n",
      "33/33 [==============================] - 48s 1s/step - loss: 0.1554 - acc: 0.9562 - val_loss: 0.1962 - val_acc: 0.9501\n",
      "Epoch 22/25\n",
      "33/33 [==============================] - 48s 1s/step - loss: 0.1449 - acc: 0.9613 - val_loss: 0.1954 - val_acc: 0.9387\n",
      "Epoch 23/25\n",
      "33/33 [==============================] - 48s 1s/step - loss: 0.1424 - acc: 0.9648 - val_loss: 0.1893 - val_acc: 0.9429\n",
      "Epoch 24/25\n",
      "33/33 [==============================] - 48s 1s/step - loss: 0.1411 - acc: 0.9633 - val_loss: 0.1913 - val_acc: 0.9429\n",
      "Epoch 25/25\n",
      "33/33 [==============================] - 49s 1s/step - loss: 0.1456 - acc: 0.9648 - val_loss: 0.1852 - val_acc: 0.9501\n"
     ]
    }
   ],
   "source": [
    "# Fit the model \n",
    "spe=len(train)   # train_size/batch_size\n",
    "epoch_num=PARAMS['n_epochs']\n",
    "val_steps=len(validation)  # validation_size/batch_size\n",
    "\n",
    "\n",
    "history = model2.fit(\n",
    "            train,\n",
    "            steps_per_epoch=spe,  \n",
    "            epochs=epoch_num,\n",
    "            validation_data=validation,\n",
    "            validation_steps=val_steps) \n",
    "\n",
    "### add code here"
   ]
  },
  {
   "cell_type": "code",
   "execution_count": 114,
   "metadata": {},
   "outputs": [
    {
     "data": {
      "image/png": "[encoded data removed]",
      "text/plain": [
       "<Figure size 432x288 with 1 Axes>"
      ]
     },
     "metadata": {
      "needs_background": "light"
     },
     "output_type": "display_data"
    },
    {
     "data": {
      "image/png": "[encoded data removed]",
      "text/plain": [
       "<Figure size 432x288 with 1 Axes>"
      ]
     },
     "metadata": {
      "needs_background": "light"
     },
     "output_type": "display_data"
    }
   ],
   "source": [
    "# plot learning curves\n",
    "epoch_num=PARAMS['n_epochs']\n",
    "acc = history.history['acc']\n",
    "val_acc = history.history['val_acc']\n",
    "\n",
    "plt.plot(range(epoch_num), acc, 'b', label='Training accuracy')\n",
    "plt.plot(range(epoch_num), val_acc, 'g', label='Validation accuracy')\n",
    "plt.title('Training and validation accuracy')\n",
    "plt.legend()\n",
    "\n",
    "\n",
    "loss = history.history['loss']\n",
    "val_loss = history.history['val_loss']\n",
    "\n",
    "plt.figure()\n",
    "plt.plot(range(epoch_num), loss, 'b', label='Training loss')\n",
    "plt.plot(range(epoch_num), val_loss, 'g', label='Validation loss')\n",
    "plt.title('Training and validation loss')\n",
    "plt.legend()\n",
    "\n",
    "\n",
    "plt.show()\n",
    "### add code here"
   ]
  },
  {
   "cell_type": "code",
   "execution_count": null,
   "metadata": {},
   "outputs": [],
   "source": [
    "# test trained model on 'test' dataset\n",
    "\n",
    "### add code here"
   ]
  }
 ],
 "metadata": {
  "kernelspec": {
   "display_name": "Python 3",
   "language": "python",
   "name": "python3"
  },
  "language_info": {
   "codemirror_mode": {
    "name": "ipython",
    "version": 3
   },
   "file_extension": ".py",
   "mimetype": "text/x-python",
   "name": "python",
   "nbconvert_exporter": "python",
   "pygments_lexer": "ipython3",
   "version": "3.8.5"
  },
  "toc": {
   "base_numbering": 1,
   "nav_menu": {},
   "number_sections": true,
   "sideBar": true,
   "skip_h1_title": true,
   "title_cell": "Table of Contents",
   "title_sidebar": "Contents",
   "toc_cell": true,
   "toc_position": {},
   "toc_section_display": true,
   "toc_window_display": false
  },
  "varInspector": {
   "cols": {
    "lenName": 16,
    "lenType": 16,
    "lenVar": 40
   },
   "kernels_config": {
    "python": {
     "delete_cmd_postfix": "",
     "delete_cmd_prefix": "del ",
     "library": "var_list.py",
     "varRefreshCmd": "print(var_dic_list())"
    },
    "r": {
     "delete_cmd_postfix": ") ",
     "delete_cmd_prefix": "rm(",
     "library": "var_list.r",
     "varRefreshCmd": "cat(var_dic_list()) "
    }
   },
   "types_to_exclude": [
    "module",
    "function",
    "builtin_function_or_method",
    "instance",
    "_Feature"
   ],
   "window_display": false
  }
 },
 "nbformat": 4,
 "nbformat_minor": 5
}
